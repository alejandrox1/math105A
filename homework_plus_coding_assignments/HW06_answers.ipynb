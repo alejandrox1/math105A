{
 "cells": [
  {
   "cell_type": "code",
   "execution_count": 1,
   "metadata": {
    "collapsed": true
   },
   "outputs": [],
   "source": [
    "# Student name: \n",
    "# Student ID:"
   ]
  },
  {
   "cell_type": "markdown",
   "metadata": {},
   "source": [
    "# Math105A homework\n",
    "\n",
    "Please do the following (non-graded) homework taken from the Text in preparation for a (graded) quiz on Thursday.\n",
    "\n",
    "Jacobi and Gauss-Seidel: Section 7.3: 1a, 9-11\n",
    "\n",
    "Sucessive Over Relaxation: Section 7.4: 1, 7\n",
    "\n",
    "# Math105LA computer assignment\n",
    "\n",
    "Please fill the remainder of this notebook with your code (remove `pass` after '`#your code here`'), execute all cells, save the notebook on your machine, and upload the notebook to the [Math105LA Assign06 Dropbox](https://eee.uci.edu/toolbox/dropbox/) by the deadline indicated in the Dropbox. A primer on Dropbox is here."
   ]
  },
  {
   "cell_type": "markdown",
   "metadata": {},
   "source": [
    "### The Jacobi method\n",
    "\n",
    "Here is some pseudocode that describes the Jacobi method: \n",
    "\n",
    "```\n",
    "INPUT: An n x n matrix A, a right-hand side b, an initial guess x0, tolerance TOL, and maximum number of iterations Nmax\n",
    "\n",
    "OUTPUT: An approximate solution x or a message of failure\n",
    "\n",
    "STEP 1: set x = x0;\n",
    "STEP 2: For k = 1,2,...,Nmax do STEPS 3-7\n",
    "  STEP 3: Set xold = x;\n",
    "  STEP 4: For i = 1,2,...,n do STEPS\n",
    "    STEP 5: Set SUM = -sum( A(i,j)*xold(j), i ~= j) + b(i)\n",
    "    STEP 6: Set x(i) = SUM/A(i,i)\n",
    "  STEP 7: If max(abs(x-xold)) < TOL\n",
    "    PRINT('Solution found in  %d iterations', k)\n",
    "    RETURN(x)\n",
    "    STOP.\n",
    "STEP 8:\n",
    "  PRINT('Maximum number of iterations reached, Nmax = %d',Nmax)\n",
    "  RETURN(x)\n",
    "  STOP.\n",
    "```\n",
    "\n",
    "### Problem 1 \n",
    "\n",
    "Complete the following function so that it implements the Jacobi algorithm. Have your function print out the number of iterations taken. \n",
    "\n",
    "### Solution:\n"
   ]
  },
  {
   "cell_type": "code",
   "execution_count": 2,
   "metadata": {
    "collapsed": true
   },
   "outputs": [],
   "source": [
    "def Jacobi(A, b, x0, TOL, Nmax):\n",
    "    x = x0.copy()\n",
    "    for k in range(0,Nmax):\n",
    "        xold = x.copy()\n",
    "        for i in range(0,len(A)):\n",
    "            Sum = -(sum(A[i]*xold)) + A[i,i]*xold[i] + b[i]\n",
    "            x[i] = Sum / float(A[i,i])\n",
    "        if max(abs(x - xold)) < TOL:\n",
    "            print 'Solution found in',k, 'iterations'\n",
    "            return x\n",
    "    print 'Maximum number of iterations reached, Nmax=',Nmax\n",
    "    return x"
   ]
  },
  {
   "cell_type": "markdown",
   "metadata": {},
   "source": [
    "### Problem 2\n",
    "\n",
    "Use `Jacobi` to solve $A_1 x = b_1$ where \n"
   ]
  },
  {
   "cell_type": "code",
   "execution_count": 3,
   "metadata": {},
   "outputs": [],
   "source": [
    "import numpy as np \n",
    "A1 = np.array([[10,1,-1,3],[2, 11, 4, 0],[-3, 1, 9, 4],[1, 1, 1, 10]])\n",
    "b1 = np.array([1,-1,1,-1])"
   ]
  },
  {
   "cell_type": "markdown",
   "metadata": {},
   "source": [
    "Use a tolerance and initial guess of"
   ]
  },
  {
   "cell_type": "code",
   "execution_count": 4,
   "metadata": {
    "collapsed": true
   },
   "outputs": [],
   "source": [
    "tol = 1e-12\n",
    "x0 = np.array([0.0,0,0,0])"
   ]
  },
  {
   "cell_type": "markdown",
   "metadata": {},
   "source": [
    "Check your solution."
   ]
  },
  {
   "cell_type": "markdown",
   "metadata": {},
   "source": [
    "### Solution"
   ]
  },
  {
   "cell_type": "code",
   "execution_count": 5,
   "metadata": {},
   "outputs": [
    {
     "name": "stdout",
     "output_type": "stream",
     "text": [
      "Using Jacobi algorithm:\n",
      "Solution found in 29 iterations\n",
      "Solution x = [ 0.18307805 -0.21517141  0.25018235 -0.1218089 ]\n",
      "Checking max(abs(Ax-b)): 2.45625741968e-12\n"
     ]
    }
   ],
   "source": [
    "print 'Using Jacobi algorithm:'\n",
    "N = 50\n",
    "x = Jacobi(A1,b1,x0,tol,N)\n",
    "print 'Solution x =',x\n",
    "print 'Checking max(abs(Ax-b)):',max(abs(np.dot(A1,x)-b1))"
   ]
  },
  {
   "cell_type": "markdown",
   "metadata": {},
   "source": [
    "### Gauss-Seidel method\n",
    "\n",
    "Pseudocode: \n",
    "```\n",
    "INPUT: An n x n matrix A, a right-hand side b, an initial guess x0, tolerance TOL and maximum number\n",
    "of iterations Nmax\n",
    "\n",
    "OUTPUT: An approximate solution x or a message of failure\n",
    "\n",
    "STEP 1: set x = x0;\n",
    "STEP 2: For k = 1,2,...,Nmax do STEPS 3-7\n",
    "  STEP 3: Set xold = x;\n",
    "  STEP 4: For i = 1,2,...,n do STEPS\n",
    "    STEP 5: Set SUM = -sum( A(i,j)*x(j), j=1,2,...,i-1) \n",
    "                - sum( A(i,j)*xold(j), j=i+1,i+2,...,n) \n",
    "                + b(i)\n",
    "    STEP 6: Set x(i) = SUM/A(i,i)\n",
    "  STEP 7: If max(abs(x-xold)) < TOL\n",
    "    PRINT('Solution found in  %d iterations', k)\n",
    "    RETURN(x)\n",
    "    STOP.\n",
    "STEP 8:\n",
    "  PRINT('Maximum number of iterations reached, Nmax = %d',Nmax)\n",
    "  RETURN(x)\n",
    "  STOP.\n",
    "```\n",
    "\n",
    "### Problem 3\n",
    "\n",
    "Implement the Gauss-Seidel algorithm by completing the following function definition: "
   ]
  },
  {
   "cell_type": "markdown",
   "metadata": {},
   "source": [
    "### Solution"
   ]
  },
  {
   "cell_type": "code",
   "execution_count": 6,
   "metadata": {
    "collapsed": true
   },
   "outputs": [],
   "source": [
    "def GS(A, b, x0, TOL, Nmax):\n",
    "    x = x0.copy()\n",
    "    for k in range(0,Nmax):\n",
    "        xold = x.copy()\n",
    "        for i in range(0,len(A)):\n",
    "            Sum = -(sum(A[i,:i]*x[:i])) - (sum(A[i,i+1:]*xold[i+1:])) + b[i]\n",
    "            x[i] = Sum / float(A[i,i])\n",
    "        if max(abs(x - xold)) < TOL:\n",
    "            print 'Solution found in',k, 'iterations'\n",
    "            return x\n",
    "    print 'Maximum number of iterations reached, Nmax=',Nmax\n",
    "    return x"
   ]
  },
  {
   "cell_type": "markdown",
   "metadata": {},
   "source": [
    "### Problem 4\n",
    "\n",
    "Apply this algorithm to the linear system:"
   ]
  },
  {
   "cell_type": "code",
   "execution_count": 7,
   "metadata": {
    "collapsed": true
   },
   "outputs": [],
   "source": [
    "A2 = np.array([[10,1,-1,3],[2, 11, 4, 0],[-3, 1, 9, 4],[1, 1, 1, 10]])\n",
    "b2 = np.array([1,-1,1,-1])"
   ]
  },
  {
   "cell_type": "markdown",
   "metadata": {},
   "source": [
    "with the same tolerance as before and an initial guess: "
   ]
  },
  {
   "cell_type": "code",
   "execution_count": 8,
   "metadata": {
    "collapsed": true
   },
   "outputs": [],
   "source": [
    "y0 = np.array([0.0,0,0,0])"
   ]
  },
  {
   "cell_type": "markdown",
   "metadata": {},
   "source": [
    "### Solution"
   ]
  },
  {
   "cell_type": "code",
   "execution_count": 9,
   "metadata": {},
   "outputs": [
    {
     "name": "stdout",
     "output_type": "stream",
     "text": [
      "Using Gauss-Seidel algorithm:\n",
      "Solution found in 17 iterations\n",
      "Solution y = [ 0.18307805 -0.21517141  0.25018235 -0.1218089 ]\n",
      "Checking max(abs(Ay-b)): 5.4689586193e-13\n"
     ]
    }
   ],
   "source": [
    "print 'Using Gauss-Seidel algorithm:'\n",
    "y = GS(A2,b2,y0,tol,N)\n",
    "print 'Solution y =',y\n",
    "print 'Checking max(abs(Ay-b)):',max(abs(np.dot(A2,y)-b2))"
   ]
  },
  {
   "cell_type": "markdown",
   "metadata": {},
   "source": [
    "### Problem 5\n",
    "\n",
    "By comparing iteration counts for Jacobi versus Gauss-Seidel, determine which converged faster. \n"
   ]
  }
 ],
 "metadata": {
  "kernelspec": {
   "display_name": "Python 2",
   "language": "python",
   "name": "python2"
  },
  "language_info": {
   "codemirror_mode": {
    "name": "ipython",
    "version": 2
   },
   "file_extension": ".py",
   "mimetype": "text/x-python",
   "name": "python",
   "nbconvert_exporter": "python",
   "pygments_lexer": "ipython2",
   "version": "2.7.14"
  }
 },
 "nbformat": 4,
 "nbformat_minor": 2
}
