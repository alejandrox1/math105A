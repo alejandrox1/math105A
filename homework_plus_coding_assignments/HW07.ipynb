{
 "cells": [
  {
   "cell_type": "markdown",
   "metadata": {},
   "source": [
    "# Math105A homework\n",
    "\n",
    "Please do the following (non-graded) homework taken from the Text:\n",
    "\n",
    "Orthogonality (Gram Schmidt); Section 9.1: 13b\n",
    "\n",
    "Power method; Section 9.3: 1a-b, 3a-b, 18\n",
    "\n",
    "QR factorization, QR eigenvalue algorithm; Section 9.5: 1a-b, 3a-b, 8"
   ]
  }
 ],
 "metadata": {
  "kernelspec": {
   "display_name": "Python 2",
   "language": "python",
   "name": "python2"
  },
  "language_info": {
   "codemirror_mode": {
    "name": "ipython",
    "version": 2
   },
   "file_extension": ".py",
   "mimetype": "text/x-python",
   "name": "python",
   "nbconvert_exporter": "python",
   "pygments_lexer": "ipython2",
   "version": "2.7.14"
  }
 },
 "nbformat": 4,
 "nbformat_minor": 2
}
