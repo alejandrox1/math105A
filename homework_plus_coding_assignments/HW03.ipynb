{
 "cells": [
  {
   "cell_type": "code",
   "execution_count": 1,
   "metadata": {
    "collapsed": true
   },
   "outputs": [],
   "source": [
    "# Student name: \n",
    "# Student ID: "
   ]
  },
  {
   "cell_type": "markdown",
   "metadata": {},
   "source": [
    "# Math105A homework\n",
    "\n",
    "Please do the following (non-graded) homework taken from the Text in preparation for a (graded) quiz on Thursday. \n",
    "\n",
    "Error Analysis: Section 2.4: 7a, 10, 13\n",
    "\n",
    "Gaussian elimination: Sec. 6.1: 5a, 6a, 9, 12\n",
    "\n",
    "# Math105LA computer assignment\n",
    "\n",
    "Please fill the remainder of this notebook with your code (remove `pass` after \"# your code here\"), execute all cells, save the notebook on your machine, and upload the notebook to the [Math105LA Assign03 Dropbox](https://eee.uci.edu/toolbox/dropbox/) by the deadline indicated in the Dropbox. A primer on Dropbox is [here](https://eee.uci.edu/help/dropbox/instructors/_assets/dropbox_primer.pdf)."
   ]
  },
  {
   "cell_type": "markdown",
   "metadata": {},
   "source": [
    "# Problem 1\n",
    "\n",
    "Write a function `newton` that uses the Newton method to compute the zeros of the polynomial whose coefficients are the elements of a list `a`. In other words, if `n = len(a)`, then the polynomial is:\n",
    "\n",
    "$$p(x) = a[n-1] x^{n-1} + a[n-2] x^{n-2} + \\cdots + a[1] x^1 + a[0].$$\n",
    "\n",
    "Implement Newton's method using Horner's method to speed up the evaluation of the polynomial and its derivative. Please do this by having `newton` call a helper function `horner`."
   ]
  },
  {
   "cell_type": "code",
   "execution_count": null,
   "metadata": {
    "collapsed": true
   },
   "outputs": [],
   "source": [
    "def horner(a, x): \n",
    "    # INPUT: coefficients a\n",
    "    # OUTPUT: p(x) and p'(x)\n",
    "    \n",
    "    # your code here\n",
    "    pass    \n",
    "    \n",
    "def newton(a, p0, TOL, Nmax):\n",
    "    # INPUT: coefficients a, an initial guess p0, tolerance TOL, maximum number of\n",
    "    # iterations Nmax\n",
    "\n",
    "    # OUTPUT: an approximate root p of p(x) = 0 found with Newton's (and Horner's) method\n",
    "    \n",
    "    # your code here\n",
    "    pass"
   ]
  },
  {
   "cell_type": "markdown",
   "metadata": {},
   "source": [
    "### Hints: \n",
    "\n",
    "* Newton is summarized in Algo 2.3 in the Text\n",
    "* Horner is sumarized in Algo 2.7 in the Text \n",
    "\n",
    "\n"
   ]
  },
  {
   "cell_type": "markdown",
   "metadata": {},
   "source": [
    "# Problem 2\n",
    "\n",
    "Use `newton` to compute ALL 10 roots of of the polynomial whose coefficients `a` are given by \n"
   ]
  },
  {
   "cell_type": "code",
   "execution_count": 31,
   "metadata": {},
   "outputs": [
    {
     "name": "stdout",
     "output_type": "stream",
     "text": [
      "coefficients =  [ -2.46093750e-01   0.00000000e+00   1.35351562e+01   0.00000000e+00\n",
      "  -1.17304688e+02   0.00000000e+00   3.51914062e+02   0.00000000e+00\n",
      "  -4.27324219e+02   0.00000000e+00   1.80425781e+02]\n"
     ]
    }
   ],
   "source": [
    "import numpy as np \n",
    "a = np.array([-63, 0, 3465, 0, -30030, 0, 90090, 0, -109395, 0, 46189])/256.0\n",
    "print 'coefficients = ', a"
   ]
  },
  {
   "cell_type": "markdown",
   "metadata": {},
   "source": [
    "You will need to run `newton` with the initial guesses:"
   ]
  },
  {
   "cell_type": "code",
   "execution_count": 32,
   "metadata": {},
   "outputs": [
    {
     "name": "stdout",
     "output_type": "stream",
     "text": [
      "initial guesses for roots =  [ 0.98768834  0.89100652  0.70710678  0.4539905   0.15643447 -0.15643447\n",
      " -0.4539905  -0.70710678 -0.89100652 -0.98768834]\n"
     ]
    }
   ],
   "source": [
    "thetas = np.pi*(2.0*np.array(range(1,11)) - 1)/20.0\n",
    "p0s = np.cos(thetas)\n",
    "print 'initial guesses for roots = ', p0s"
   ]
  },
  {
   "cell_type": "code",
   "execution_count": null,
   "metadata": {
    "collapsed": true
   },
   "outputs": [],
   "source": []
  }
 ],
 "metadata": {
  "kernelspec": {
   "display_name": "Python 2",
   "language": "python",
   "name": "python2"
  },
  "language_info": {
   "codemirror_mode": {
    "name": "ipython",
    "version": 2
   },
   "file_extension": ".py",
   "mimetype": "text/x-python",
   "name": "python",
   "nbconvert_exporter": "python",
   "pygments_lexer": "ipython2",
   "version": "2.7.14"
  }
 },
 "nbformat": 4,
 "nbformat_minor": 2
}
