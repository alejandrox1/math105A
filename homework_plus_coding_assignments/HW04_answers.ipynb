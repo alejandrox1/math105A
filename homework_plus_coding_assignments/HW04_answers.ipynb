{
 "cells": [
  {
   "cell_type": "code",
   "execution_count": 1,
   "metadata": {
    "collapsed": true
   },
   "outputs": [],
   "source": [
    "# Student name: \n",
    "# Student ID: "
   ]
  },
  {
   "cell_type": "markdown",
   "metadata": {},
   "source": [
    "# Math105A homework\n",
    "\n",
    "Please do the following (non-graded) homework taken from the Text in preparation for the midterm exam:\n",
    "\n",
    "**Pivoting strategies**: Section 6.2: 1b, 5b, 31\n",
    "\n",
    "**Matrix inversion and Determinants**:\n",
    "* Section 6.3: 1d, 2c, 5b, 9c\n",
    "* Section 6.4: 1b, 6, 8, 10\n",
    "\n",
    "**(P)LU factorization**: Section 6.5: 4a-b, 5a, 6a\n",
    "\n",
    "# Math105LA computer assignment\n",
    "\n",
    "Please fill the remainder of this notebook with your code (remove `pass` after `# your code here`, if present), execute all cells, save the notebook on your machine, and upload the notebook to the [Math105LA Assign04 Dropbox](https://eee.uci.edu/toolbox/dropbox/) by the deadline indicated in the Dropbox. A primer on Dropbox is [here](https://eee.uci.edu/help/dropbox/instructors/_assets/dropbox_primer.pdf)."
   ]
  },
  {
   "cell_type": "markdown",
   "metadata": {},
   "source": [
    "# Problem 1\n",
    "\n",
    "Implement both a Gaussian elimination function `gaussian_elimination` and a backward substitution function `back_substitution`."
   ]
  },
  {
   "cell_type": "code",
   "execution_count": 2,
   "metadata": {
    "collapsed": true
   },
   "outputs": [],
   "source": [
    "# Biao Yang's solution\n",
    "\n",
    "def gaussian_elimination(A):\n",
    "\n",
    "    # INPUT: augmented_matrix, an n x (n+1) numpy matrix \n",
    "\n",
    "    # OUTPUT: augmented_matrix, altered to be an n x (n+1) upper-triangular matrix, \n",
    "    # or an error message if the method failed \n",
    "    # (because of rank deficiency)\n",
    "    \n",
    "    # see pseudocode in Lecture10\n",
    "    # see Algo 6.1 on p364 of Text \n",
    "    sz = A.shape\n",
    "    n = sz[0]\n",
    "    U = A.copy()\n",
    "    tol = 10**(-10)\n",
    "    for i in range(0,n-1):\n",
    "        for p in range(i,n):\n",
    "            if abs(U[p,i]) > tol:\n",
    "                break\n",
    "        if abs(U[p,i]) < tol:\n",
    "            return 'Method failed: matrix is rank deficient1'\n",
    "        if p != i:\n",
    "            U[[i,p],:] = U[[p,i],:]\n",
    "        for j in range(i+1,n):\n",
    "            m = U[j,i] / float(U[i,i])\n",
    "            U[j,:] -=  m*U[i,:]\n",
    "    if abs(U[n-1,n-1]) < tol:\n",
    "        return 'Method failed: matrix is rank deficient2'\n",
    "    return U\n",
    "        \n",
    "def back_substitution(U):\n",
    "\n",
    "    # INPUT: U, an n x (n+1) numpy upper-triangular matrix with non-zero diagonal entries\n",
    "\n",
    "    # OUTPUT: x, the solution to U[:,:n] x = U[:,-1]\n",
    "\n",
    "    # print an error message if the method failed \n",
    "    # (because of rank deficiency)\n",
    "    \n",
    "    # see pseudocode in Lecture10\n",
    "    # see Algo 6.1 on p364 of Text \n",
    "    sz = U.shape\n",
    "    n = sz[0]\n",
    "    x = zeros((n,1))\n",
    "    x[n-1]=U[n-1,n] / float(U[n-1,n-1])\n",
    "    for i in range(n-2,-1,-1):\n",
    "        x[i]=U[i,n]-dot(U[i,i+1:n],x[i+1:n])\n",
    "        x[i]=x[i]/float(U[i,i])\n",
    "    return x      "
   ]
  },
  {
   "cell_type": "markdown",
   "metadata": {},
   "source": [
    "# Problem 2\n",
    "\n",
    "Demonstrate that your code works by using it to solve $A x = b$ when $A$ is invertible (i.e. non-singular). Also give your code a non-invertible matrix and show that your code gives an error message. Use different-dimensional linear systems containing random coefficients.\n"
   ]
  },
  {
   "cell_type": "code",
   "execution_count": 3,
   "metadata": {},
   "outputs": [
    {
     "name": "stdout",
     "output_type": "stream",
     "text": [
      "Example 1:\n",
      "\n",
      "Matrix:\n",
      "[[ 1.  1.  1.  3.]\n",
      " [ 2. -1.  2.  6.]\n",
      " [-1.  1.  1.  1.]]\n",
      "After Gaussian Elimination:\n",
      "[[ 1.  1.  1.  3.]\n",
      " [ 0. -3.  0.  0.]\n",
      " [ 0.  0.  2.  4.]]\n",
      "Solving for x:\n",
      "[[ 1.]\n",
      " [-0.]\n",
      " [ 2.]]\n",
      "Checking max(abs(Ax-b):\n",
      "\n",
      "[ 0.]\n",
      "Example 2:\n",
      "\n",
      "Matrix:\n",
      "[[ 0.85330847  0.81358296  0.09994317  0.86797184  0.83932437]\n",
      " [ 0.04928582  0.03827487  0.835185    0.61374932  0.420431  ]\n",
      " [ 0.2584681   0.17696733  0.57669748  0.36973217  0.38129971]\n",
      " [ 0.10988916  0.74246386  0.31785075  0.82003972  0.95597209]]\n",
      "After Gaussian Elimination:\n",
      "[[ 0.85330847  0.81358296  0.09994317  0.86797184  0.83932437]\n",
      " [ 0.         -0.00871646  0.82941244  0.56361657  0.37195288]\n",
      " [ 0.          0.         -6.06377388 -4.38505295 -2.83729901]\n",
      " [ 0.          0.          0.         -2.15903155 -0.47541382]]\n",
      "Solving for x:\n",
      "[[-0.17030632]\n",
      " [ 0.93742508]\n",
      " [ 0.30867252]\n",
      " [ 0.22019772]]\n",
      "Checking max(abs(Ax-b):\n",
      "\n",
      "[  3.66373598e-15]\n",
      "Example 3:\n",
      "\n",
      "Matrix:\n",
      "[[ 1.  2.  3.  4.]\n",
      " [ 2.  2.  4.  6.]\n",
      " [ 1.  2.  3.  5.]]\n",
      "After Gaussian Elimination:\n",
      "Method failed: matrix is rank deficient2\n"
     ]
    }
   ],
   "source": [
    "# Biao Yang's solution\n",
    "\n",
    "from numpy import *\n",
    "print 'Example 1:\\n'\n",
    "A = array([[1.0,1,1,3],[2,-1,2,6],[-1,1,1,1]])\n",
    "print 'Matrix:\\n',A\n",
    "B = gaussian_elimination(A)\n",
    "print 'After Gaussian Elimination:\\n',B\n",
    "x = back_substitution(B)\n",
    "print 'Solving for x:\\n',x\n",
    "print 'Checking max(abs(Ax-b):\\n'\n",
    "print max(abs(dot(A[0:3,0:3],x)-A[0:3,3].reshape(3,1)))\n",
    "\n",
    "print 'Example 2:\\n'\n",
    "D = random.rand(4, 5)\n",
    "print 'Matrix:\\n',D\n",
    "E = gaussian_elimination(D)\n",
    "print 'After Gaussian Elimination:\\n',E\n",
    "y = back_substitution(E)\n",
    "print 'Solving for x:\\n',y\n",
    "print 'Checking max(abs(Ax-b):\\n'\n",
    "print max(abs(dot(D[0:4,0:4],y)-D[0:4,4].reshape(4,1)))\n",
    "\n",
    "print 'Example 3:\\n'\n",
    "F = array([[1.0,2,3,4],[2,2,4,6],[1,2,3,5]])\n",
    "print 'Matrix:\\n',F\n",
    "G = gaussian_elimination(F)\n",
    "print 'After Gaussian Elimination:\\n',G"
   ]
  },
  {
   "cell_type": "code",
   "execution_count": null,
   "metadata": {
    "collapsed": true
   },
   "outputs": [],
   "source": []
  },
  {
   "cell_type": "code",
   "execution_count": null,
   "metadata": {
    "collapsed": true
   },
   "outputs": [],
   "source": []
  }
 ],
 "metadata": {
  "kernelspec": {
   "display_name": "Python 2",
   "language": "python",
   "name": "python2"
  },
  "language_info": {
   "codemirror_mode": {
    "name": "ipython",
    "version": 2
   },
   "file_extension": ".py",
   "mimetype": "text/x-python",
   "name": "python",
   "nbconvert_exporter": "python",
   "pygments_lexer": "ipython2",
   "version": "2.7.14"
  }
 },
 "nbformat": 4,
 "nbformat_minor": 2
}
