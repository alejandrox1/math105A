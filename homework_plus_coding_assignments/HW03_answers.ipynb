{
 "cells": [
  {
   "cell_type": "code",
   "execution_count": 1,
   "metadata": {
    "collapsed": true
   },
   "outputs": [],
   "source": [
    "# Student name: \n",
    "# Student ID: "
   ]
  },
  {
   "cell_type": "markdown",
   "metadata": {},
   "source": [
    "# Math105A homework\n",
    "\n",
    "Please do the following (non-graded) homework taken from the Text in preparation for a (graded) quiz on Thursday. \n",
    "\n",
    "Error Analysis: Section 2.4: 7a, 10, 13\n",
    "\n",
    "Gaussian elimination: Sec. 6.1: 5a, 6a, 9, 12\n",
    "\n",
    "# Math105LA computer assignment\n",
    "\n",
    "Please fill the remainder of this notebook with your code (remove `pass` after \"# your code here\"), execute all cells, save the notebook on your machine, and upload the notebook to the [Math105LA Assign03 Dropbox](https://eee.uci.edu/toolbox/dropbox/) by the deadline indicated in the Dropbox. A primer on Dropbox is [here](https://eee.uci.edu/help/dropbox/instructors/_assets/dropbox_primer.pdf)."
   ]
  },
  {
   "cell_type": "markdown",
   "metadata": {},
   "source": [
    "# Problem 1\n",
    "\n",
    "Write a function `newton` that uses the Newton method to compute the zeros of the polynomial whose coefficients are the elements of a list `a`. In other words, if `n = len(a)`, then the polynomial is:\n",
    "\n",
    "$$p(x) = a[n-1] x^{n-1} + a[n-2] x^{n-2} + \\cdots + a[1] x^1 + a[0].$$\n",
    "\n",
    "Implement Newton's method using Horner's method to speed up the evaluation of the polynomial and its derivative. Please do this by having `newton` call a helper function `horner`."
   ]
  },
  {
   "cell_type": "code",
   "execution_count": 1,
   "metadata": {
    "collapsed": true
   },
   "outputs": [],
   "source": [
    "def horner(a, x): \n",
    "    n = len(a)\n",
    "    y = a[-1]\n",
    "    z = a[-1]\n",
    "    for i in range(n-2,0,-1):\n",
    "        y = a[i] + y*x\n",
    "        z = y + z*x\n",
    "    y = a[0] + y*x\n",
    "    return y,z\n",
    "\n",
    "def newton(a, p0, TOL, Nmax):\n",
    "    root = []\n",
    "    for i in range(0,len(p0)):\n",
    "        p = p0[i]\n",
    "        for j in range(Nmax):\n",
    "            y, z = horner(a,p)\n",
    "            pnew = p - (y / float(z))\n",
    "            if abs(p - pnew) < TOL:\n",
    "                root.append(p)\n",
    "                break\n",
    "            p = pnew\n",
    "    return root"
   ]
  },
  {
   "cell_type": "markdown",
   "metadata": {},
   "source": [
    "### Hints: \n",
    "\n",
    "* Newton is summarized in Algo 2.3 in the Text\n",
    "* Horner is sumarized in Algo 2.7 in the Text \n",
    "\n",
    "\n"
   ]
  },
  {
   "cell_type": "markdown",
   "metadata": {},
   "source": [
    "# Problem 2\n",
    "\n",
    "Use `newton` to compute ALL 10 roots of of the polynomial whose coefficients `a` are given by \n"
   ]
  },
  {
   "cell_type": "code",
   "execution_count": 2,
   "metadata": {},
   "outputs": [
    {
     "name": "stdout",
     "output_type": "stream",
     "text": [
      "coefficients =  [ -2.46093750e-01   0.00000000e+00   1.35351562e+01   0.00000000e+00\n",
      "  -1.17304688e+02   0.00000000e+00   3.51914062e+02   0.00000000e+00\n",
      "  -4.27324219e+02   0.00000000e+00   1.80425781e+02]\n"
     ]
    }
   ],
   "source": [
    "import numpy as np \n",
    "a = np.array([-63, 0, 3465, 0, -30030, 0, 90090, 0, -109395, 0, 46189])/256.0\n",
    "print 'coefficients = ', a"
   ]
  },
  {
   "cell_type": "markdown",
   "metadata": {},
   "source": [
    "You will need to run `newton` with the initial guesses:"
   ]
  },
  {
   "cell_type": "code",
   "execution_count": 3,
   "metadata": {},
   "outputs": [
    {
     "name": "stdout",
     "output_type": "stream",
     "text": [
      "initial guesses for roots =  [ 0.98768834  0.89100652  0.70710678  0.4539905   0.15643447 -0.15643447\n",
      " -0.4539905  -0.70710678 -0.89100652 -0.98768834]\n",
      "Roots = [0.97390684108433423, 0.86506355698754978, 0.67940988855232676, 0.43339540904756296, 0.14886710770426731, -0.14886710770426731, -0.43339540904756302, -0.67940988855232665, -0.86506355698755244, -0.97390684108433423]\n"
     ]
    }
   ],
   "source": [
    "thetas = np.pi*(2.0*np.array(range(1,11)) - 1)/20.0\n",
    "p0s = np.cos(thetas)\n",
    "print 'initial guesses for roots = ', p0s\n",
    "TOL = 1e-5\n",
    "Nmax = 100\n",
    "p = newton(a, p0s, TOL, Nmax)\n",
    "print 'Roots =', p"
   ]
  },
  {
   "cell_type": "code",
   "execution_count": 4,
   "metadata": {},
   "outputs": [
    {
     "name": "stdout",
     "output_type": "stream",
     "text": [
      "7.54331225039e-06\n",
      "-1.38767942559e-06\n",
      "1.31870462461e-06\n",
      "-4.51149425248e-08\n",
      "-1.90239146485e-05\n",
      "-1.90239146485e-05\n",
      "-4.51149425804e-08\n",
      "1.31870461884e-06\n",
      "-1.38767944691e-06\n",
      "7.54331225039e-06\n"
     ]
    }
   ],
   "source": [
    "# testing result\n",
    "for j in range(len(p)):\n",
    "    rs = 0\n",
    "    for i in range(len(a)):\n",
    "        rs = a[i] * p[j]**i + rs\n",
    "    print rs"
   ]
  },
  {
   "cell_type": "code",
   "execution_count": 5,
   "metadata": {},
   "outputs": [
    {
     "name": "stdout",
     "output_type": "stream",
     "text": [
      "(1.0, 55.0)\n"
     ]
    }
   ],
   "source": [
    "# testing horner\n",
    "print horner(a,1)"
   ]
  }
 ],
 "metadata": {
  "kernelspec": {
   "display_name": "Python 2",
   "language": "python",
   "name": "python2"
  },
  "language_info": {
   "codemirror_mode": {
    "name": "ipython",
    "version": 2
   },
   "file_extension": ".py",
   "mimetype": "text/x-python",
   "name": "python",
   "nbconvert_exporter": "python",
   "pygments_lexer": "ipython2",
   "version": "2.7.14"
  }
 },
 "nbformat": 4,
 "nbformat_minor": 2
}
