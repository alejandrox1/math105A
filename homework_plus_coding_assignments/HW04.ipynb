{
 "cells": [
  {
   "cell_type": "code",
   "execution_count": 1,
   "metadata": {
    "collapsed": true
   },
   "outputs": [],
   "source": [
    "# Student name: \n",
    "# Student ID: "
   ]
  },
  {
   "cell_type": "markdown",
   "metadata": {},
   "source": [
    "# Math105LA computer assignment\n",
    "\n",
    "Please fill the remainder of this notebook with your code (remove `pass` after \"# your code here\"), execute all cells, save the notebook on your machine, and upload the notebook to the [Math105LA Assign04 Dropbox](https://eee.uci.edu/toolbox/dropbox/) by the deadline indicated in the Dropbox. A primer on Dropbox is [here](https://eee.uci.edu/help/dropbox/instructors/_assets/dropbox_primer.pdf)."
   ]
  },
  {
   "cell_type": "markdown",
   "metadata": {},
   "source": [
    "# Problem 1\n",
    "\n",
    "Implement both a Gaussian elimination function `gaussian_elimination` and a backward substitution function `back_substitution`."
   ]
  },
  {
   "cell_type": "code",
   "execution_count": 1,
   "metadata": {
    "collapsed": true
   },
   "outputs": [],
   "source": [
    "def gaussian_elimination(augmented_matrix):\n",
    "\n",
    "    # INPUT: augmented_matrix, an n x (n+1) numpy matrix \n",
    "\n",
    "    # OUTPUT: augmented_matrix, altered to be an n x (n+1) upper-triangular matrix, \n",
    "    # or an error message if the method failed \n",
    "    # (because of rank deficiency)\n",
    "    \n",
    "    # see pseudocode in Lecture10\n",
    "    # see Algo 6.1 on p364 of Text \n",
    "\n",
    "    pass \n",
    "\n",
    "def back_substitution(U):\n",
    "\n",
    "    # INPUT: U, an n x (n+1) numpy upper-triangular matrix with non-zero diagonal entries\n",
    "\n",
    "    # OUTPUT: x, the solution to U[:,:n] x = U[:,-1]\n",
    "\n",
    "    # print an error message if the method failed \n",
    "    # (because of rank deficiency)\n",
    "    \n",
    "    # see pseudocode in Lecture10\n",
    "    # see Algo 6.1 on p364 of Text \n",
    "    \n",
    "    pass "
   ]
  },
  {
   "cell_type": "markdown",
   "metadata": {},
   "source": [
    "# Problem 2\n",
    "\n",
    "Demonstrate that your code works by using it to solve $A x = b$ when $A$ is invertible (i.e. non-singular). Also give your code a non-invertible matrix and show that your code gives an error message. Use different-dimensional linear systems containing random coefficients.\n"
   ]
  },
  {
   "cell_type": "code",
   "execution_count": null,
   "metadata": {
    "collapsed": true
   },
   "outputs": [],
   "source": []
  }
 ],
 "metadata": {
  "kernelspec": {
   "display_name": "Python 2",
   "language": "python",
   "name": "python2"
  },
  "language_info": {
   "codemirror_mode": {
    "name": "ipython",
    "version": 2
   },
   "file_extension": ".py",
   "mimetype": "text/x-python",
   "name": "python",
   "nbconvert_exporter": "python",
   "pygments_lexer": "ipython2",
   "version": "2.7.14"
  }
 },
 "nbformat": 4,
 "nbformat_minor": 2
}
