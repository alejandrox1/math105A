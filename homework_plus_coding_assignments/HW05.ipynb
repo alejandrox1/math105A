{
 "cells": [
  {
   "cell_type": "code",
   "execution_count": 1,
   "metadata": {
    "collapsed": true
   },
   "outputs": [],
   "source": [
    "# Student name: \n",
    "# Student ID: "
   ]
  },
  {
   "cell_type": "markdown",
   "metadata": {},
   "source": [
    "# Math105A homework\n",
    "\n",
    "Please do the following (non-graded) homework taken from the Text in preparation for a (graded) quiz on Thursday. \n",
    "\n",
    "Section 7.1: 1b, 2, 8\n",
    "\n",
    "Section 7.2: 1a-c, 6, 9\n",
    "\n",
    "# Math105LA computer assignment\n",
    "\n",
    "Please fill the remainder of this notebook with your code (remove `pass` after '`#your code here`'), execute all cells, save the notebook on your machine, and upload the notebook to the [Math105LA Assign05 Dropbox](https://eee.uci.edu/toolbox/dropbox/) by the deadline indicated in the Dropbox. A primer on Dropbox is [here](https://eee.uci.edu/help/dropbox/instructors/_assets/dropbox_primer.pdf)."
   ]
  },
  {
   "cell_type": "markdown",
   "metadata": {},
   "source": [
    "### PLU factorization\n",
    "\n",
    "The following pseudo-code implements PLU factorization with partial pivoting:\n",
    "\n",
    "```\n",
    "INPUT: An n x n matrix A\n",
    "\n",
    "OUTPUT: An n x n permutation matrix P, an n x n lower-triangular matrix\n",
    "L and an n x n upper-triangular matrix U such that PA = LU\n",
    "\n",
    "STEP 1: Set P = I, L = I\n",
    "STEP 2: For j = 1,2,.. n-1 do:\n",
    "  STEP 3: Set MAX to be the maximum of abs(A(i,j)) for i =\n",
    "  j,j+1,..,n\n",
    "  STEP 4: If MAX = 0 then\n",
    "    DISPLAY('Method failed: matrix is rank deficient')\n",
    "    OUTPUT(A);\n",
    "    STOP.\n",
    "  STEP 5: Let p be the smallest number such that MAX = abs(A(p,j));\n",
    "  STEP 6: Do Rj <--> Rp on A;\n",
    "  STEP 7: Do Cj <--> Cp on L;\n",
    "  STEP 8: Do Rj <--> Rp on L;\n",
    "  STEP 9: Do Rj <--> Rp on P;\n",
    "  STEP 10: For i = j+1,j+2,...,n do STEPS 11-12\n",
    "    STEP 11: Set L(i,j) = A(i,j)/A(j,j)\n",
    "    STEP 12: Do Ri - L(i,j) Rj --> Ri on A\n",
    "STEP 13: OUTPUT([P,L,A]); STOP.\n",
    "```\n",
    "\n",
    "### Problem 1 (ungraded)\n",
    "\n",
    "Apply this algorithm to the example worked out on pp12-14 inclusive of [Lecture 14](https://github.com/petermchale/math105A/blob/master/lectures/Lecture14.pdf). Notice how the algorithm computes $L$ on the fly by interchanging rows **and** columns as elimination proceeds. Contrast that with my much slower approach in which I have to pass through the elimination process twice to figure out $L$. Clever! "
   ]
  },
  {
   "cell_type": "markdown",
   "metadata": {},
   "source": [
    "### Problem 2\n",
    "\n",
    "Use the pseudo-code to implement PLU factorization with partial pivoting in Python."
   ]
  },
  {
   "cell_type": "code",
   "execution_count": 1,
   "metadata": {
    "collapsed": true
   },
   "outputs": [],
   "source": [
    "def number_rows(A):     \n",
    "    n, m = A.shape     \n",
    "    return n\n",
    "\n",
    "def is_zero(x, epsilon=1e-10):    \n",
    "    return abs(x) < epsilon\n",
    "\n",
    "def swap_row(A, i, j):  \n",
    "    A[[i,j],:] = A[[j,i],:]\n",
    "    \n",
    "def swap_col(A, i, j):  \n",
    "    A[:,[i,j]] = A[:,[j,i]]\n",
    "\n",
    "def PLU(A):\n",
    "    A = np.array(A, dtype=np.float32)    \n",
    "    n = number_rows(A)\n",
    "    P = np.eye(n, dtype=np.float32)\n",
    "    L = np.eye(n, dtype=np.float32)\n",
    "    U = A.copy() \n",
    "    # your code here \n",
    "    return P,L,U"
   ]
  },
  {
   "cell_type": "markdown",
   "metadata": {},
   "source": [
    "### Problem 3\n",
    "\n",
    "Demonstrate that your code works by computing `norm(P*A-L*U)` on the following matrix, $A$.  What value do you expect if your implementation is correct?"
   ]
  },
  {
   "cell_type": "code",
   "execution_count": 2,
   "metadata": {},
   "outputs": [
    {
     "name": "stdout",
     "output_type": "stream",
     "text": [
      "A:\n",
      "[[ 0  0 -1  1]\n",
      " [ 1  1 -1  2]\n",
      " [-1 -1  2  0]\n",
      " [ 1  2  0  2]]\n",
      "P: \n",
      "[[ 1.  0.  0.  0.]\n",
      " [ 0.  1.  0.  0.]\n",
      " [ 0.  0.  1.  0.]\n",
      " [ 0.  0.  0.  1.]]\n",
      "L:\n",
      "[[ 1.  0.  0.  0.]\n",
      " [ 0.  1.  0.  0.]\n",
      " [ 0.  0.  1.  0.]\n",
      " [ 0.  0.  0.  1.]]\n",
      "U:\n",
      "[[ 0.  0. -1.  1.]\n",
      " [ 1.  1. -1.  2.]\n",
      " [-1. -1.  2.  0.]\n",
      " [ 1.  2.  0.  2.]]\n",
      "norm(P*A-L*U) =  0.0\n"
     ]
    }
   ],
   "source": [
    "import numpy as np\n",
    "A = np.array([[0,0,-1,1],\n",
    "              [1,1,-1,2],\n",
    "              [-1,-1,2,0],\n",
    "              [1,2,0,2]])\n",
    "print 'A:'\n",
    "print A\n",
    "P,L,U = PLU(A)\n",
    "print 'P: '\n",
    "print P \n",
    "print 'L:'\n",
    "print L \n",
    "print 'U:'\n",
    "print U \n",
    "print 'norm(P*A-L*U) = ', np.linalg.norm(np.dot(L,U)-np.dot(P,A))"
   ]
  },
  {
   "cell_type": "code",
   "execution_count": null,
   "metadata": {
    "collapsed": true
   },
   "outputs": [],
   "source": []
  },
  {
   "cell_type": "code",
   "execution_count": null,
   "metadata": {
    "collapsed": true
   },
   "outputs": [],
   "source": []
  }
 ],
 "metadata": {
  "kernelspec": {
   "display_name": "Python 2",
   "language": "python",
   "name": "python2"
  },
  "language_info": {
   "codemirror_mode": {
    "name": "ipython",
    "version": 2
   },
   "file_extension": ".py",
   "mimetype": "text/x-python",
   "name": "python",
   "nbconvert_exporter": "python",
   "pygments_lexer": "ipython2",
   "version": "2.7.14"
  }
 },
 "nbformat": 4,
 "nbformat_minor": 2
}
