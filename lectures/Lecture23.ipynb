{
 "cells": [
  {
   "cell_type": "markdown",
   "metadata": {
    "slideshow": {
     "slide_type": "slide"
    }
   },
   "source": [
    "## Orthogonal matrices\n",
    "\n",
    "#### Definition\n",
    "\n",
    "Two non-zero vectors $x$ and $y$ are said to be __orthogonal__ if $x^T y = 0$.  A set $\\{v_1,v_2,\\ldots,v_m\\}$ of vectors is said to be orthogonal if $v_j^T v_i = 0$ for all $i \\neq j$."
   ]
  },
  {
   "cell_type": "markdown",
   "metadata": {
    "slideshow": {
     "slide_type": "slide"
    }
   },
   "source": [
    "Consider the $n \\times m$ matrix\n",
    "\n",
    "$$Q = [q_1,q_2, \\ldots, q_m],$$\n",
    "\n",
    "whose columns are the orthonormal vectors $q_j$.  It the follows that\n",
    "\n",
    "$$(Q^TQ)_{ij} =  q_i^Tq_j = \\begin{cases} 1, & i = j,\\\\\n",
    "0, & i \\neq j.\\end{cases}$$\n",
    "\n",
    "Or, $Q^TQ = I$, the $m\\times m$ identity matrix.\n",
    "\n",
    "#### Definition\n",
    "\n",
    "A matrix $Q$ is said to be __orthogonal__ if its columns form an orthonormal set in $\\mathbb R^n$."
   ]
  },
  {
   "cell_type": "markdown",
   "metadata": {
    "slideshow": {
     "slide_type": "slide"
    }
   },
   "source": [
    "For an $n\\times n$ orthogonal matrix,  $Q^TQ = I$, and the following theorem is a direct consequence of this.\n",
    "\n",
    "#### Theorem (Properties of orthogonal matrices)\n",
    "\n",
    "If $Q$ is an $n \\times n$ orthogonal matrix then\n",
    "\n",
    "1. $Q$ is invertible and $Q^T = Q^{-1}$.\n",
    "2. For any $x$ and $y$ in $\\mathbb R^n$, $(Qx)^TQy = x^Ty$.\n",
    "3. For any $x \\in \\mathbb R^n$, $\\|Qx\\|_2 = \\|x\\|_2$ (follows from 2.)\n",
    "\n",
    "This last point shows that $Q$ preserves $l_2$ distances."
   ]
  },
  {
   "cell_type": "markdown",
   "metadata": {
    "slideshow": {
     "slide_type": "slide"
    }
   },
   "source": [
    "## Similarity transformations\n",
    "\n",
    "#### Definition\n",
    "\n",
    "Two matrices $A$ and $B$ are said to be __similar__ if there exists an invertible matrix $S$ such that $A = S^{-1} B S$. \n",
    "\n",
    "#### Theorem\n",
    "\n",
    "If $A$ and $B$ are similar then they have the same eigenvalues."
   ]
  },
  {
   "cell_type": "markdown",
   "metadata": {
    "slideshow": {
     "slide_type": "slide"
    }
   },
   "source": [
    "#### Proof\n",
    "\n",
    "If $\\lambda$ is an eigenvalue of $A$ then $Av= \\lambda v$ for a non-zero vector $v$.  If we multiply this equation by $S^{-1}$ we obtain\n",
    "\n",
    "$$ S^{-1}A v = \\lambda S^{-1} v,$$\n",
    "$$ S^{-1}AS S^{-1} v = \\lambda S^{-1} v,$$\n",
    "$$ B w = \\lambda w, ~~ w = S^{-1}v.$$\n",
    "\n",
    "It follows that $w = S^{-1}v \\neq 0$ and $\\lambda$ is an eigenvalue of $B$.  Conversely, if $\\lambda$ is an eigenvalue of $B$, $Bw = \\lambda w$ for a non-zero vector $w$.  We multiply this equation by $S$\n",
    "\n",
    "$$ SB w = \\lambda S w,$$\n",
    "$$ ASw = \\lambda S w,$$\n",
    "$$ A v = \\lambda v, ~~ v = Sw.$$\n",
    "\n",
    "And so, $\\lambda$ is an eigenvalue of $A$.  This shows that the eigenvalues coincide."
   ]
  },
  {
   "cell_type": "markdown",
   "metadata": {
    "slideshow": {
     "slide_type": "slide"
    }
   },
   "source": [
    "#### Theorem\n",
    "\n",
    "An $n\\times n$ matrix is similar to a diagonal matrix $D$ if and only if $A$ has $n$ linearly independent eigenvectors.  In this case, the matrix $S$ in $A = S D S^{-1}$ has its columns being the eigenvectors of $A$.\n",
    "\n",
    "#### Definition\n",
    "\n",
    "The transformation $A \\mapsto S A S^{-1}$ is called a __similarity transformation__ of $A$."
   ]
  },
  {
   "cell_type": "markdown",
   "metadata": {
    "slideshow": {
     "slide_type": "slide"
    }
   },
   "source": [
    "Recall that a triangular matrix has its eigenvalues on the diagonal.  The following theorem is of great importance.\n",
    "\n",
    "#### Theorem (Schur)\n",
    "\n",
    "For any matrix $A$ there exits a non-singular matrix $U$ such that\n",
    "\n",
    "$$T = U^{-1} A U,$$\n",
    "\n",
    "where $T$ is an upper-triangular matrix.\n",
    "\n",
    "Note that $U$ will be, in general, a complex matrix.  Define $U^* = \\bar{U}^T$ where the $\\bar U$ denotes complex conjugation.  It a component of Schur's theorem is that $U^{-1}= U^*$ and $U$ is called __unitary__ (the complex analogue of an orthogonal matrix)."
   ]
  }
 ],
 "metadata": {
  "celltoolbar": "Slideshow",
  "kernelspec": {
   "display_name": "Python 2",
   "language": "python",
   "name": "python2"
  },
  "language_info": {
   "codemirror_mode": {
    "name": "ipython",
    "version": 2
   },
   "file_extension": ".py",
   "mimetype": "text/x-python",
   "name": "python",
   "nbconvert_exporter": "python",
   "pygments_lexer": "ipython2",
   "version": "2.7.14"
  }
 },
 "nbformat": 4,
 "nbformat_minor": 1
}
