{
 "cells": [
  {
   "cell_type": "markdown",
   "metadata": {
    "slideshow": {
     "slide_type": "slide"
    }
   },
   "source": [
    "# Inverse of a matrix\n",
    "\n",
    "Handwritten notes describe how Gaussian elimination can be used to compute the inverse of a matrix. "
   ]
  },
  {
   "cell_type": "markdown",
   "metadata": {
    "slideshow": {
     "slide_type": "slide"
    }
   },
   "source": [
    "# Determinants"
   ]
  },
  {
   "cell_type": "markdown",
   "metadata": {
    "collapsed": true,
    "slideshow": {
     "slide_type": "slide"
    }
   },
   "source": [
    "### Definition\n",
    "\n",
    "Suppose that $A$ is a square matrix\n",
    "\n",
    "* If $A = [a]$ is a $1 \\times 1$ matrix then $\\det A = a$.\n",
    "* If $A$ is an $n\\times n$ matrix with $n > 1$ the __minor__ $M_{ij}$ is the determinant of the $(n-1)\\times(n-1)$ submatrix of $A$ obtained by deleting the $i$th row and $j$th column of the matrix $A$.\n",
    "* The __cofactor__ $A_{ij}$ is given by $A_{ij} = M_{ij} (-1)^{i+j}$.\n",
    "* The __determinant__ of the $n \\times n$ matrix $A$ when $n > 1$ is given by either\n",
    "\n",
    "$$ \\det A = \\sum_{j=1}^n a_{ij}A_{ij},  \\quad \\det A = \\sum_{i=1}^n a_{ij}A_{ij}$$\n",
    "\n",
    "for any $1 \\leq i \\leq n$ or $1 \\leq j \\leq n$."
   ]
  },
  {
   "cell_type": "markdown",
   "metadata": {
    "slideshow": {
     "slide_type": "slide"
    }
   },
   "source": [
    "The determinant gives a theoretical condition for the invertiblity of matrices and the solvability of a system of equations: \n",
    "\n",
    "### Theorem\n",
    "\n",
    "The following are equivalent for an $n\\times n$ matrix $A$:\n",
    "\n",
    "1. The equation $Ax = 0$ has the unique solution $x = 0$.\n",
    "2. The system $Ax = b$ has a unique solution for any $n$-dimensional column vector $b$.\n",
    "3. The matrix $A$ is nonsingular; $A^{-1}$ exists.\n",
    "4. $\\det A \\neq 0$\n",
    "5. Gaussian elimination with row interchanges can be performed on the system $Ax = b$ for any $n$-dimensional vector $b$."
   ]
  },
  {
   "cell_type": "markdown",
   "metadata": {
    "slideshow": {
     "slide_type": "slide"
    }
   },
   "source": [
    "### Though useful in theory, the determinant can be useless in practice\n",
    "\n"
   ]
  },
  {
   "cell_type": "markdown",
   "metadata": {
    "slideshow": {
     "slide_type": "slide"
    }
   },
   "source": [
    "Consider the $100 \\times 100$ matrix\n",
    "\n",
    "$$A = \\begin{bmatrix} \\lambda \\\\ & \\lambda \\\\ && \\lambda \\\\ &&& \\lambda\\\\ &&&&\\ddots \\\\ &&&&& \\lambda \\end{bmatrix}.$$\n",
    "\n",
    "Assume $\\lambda = 10^{-1}$, then $\\det A = 10^{-100}$.  If we computed this, we might assume that $A$ is not invertible!  \n",
    "But for $Ax =b = [1,1,1,1,1,\\ldots,1]^T$ we have $x = [10,10,10,\\ldots,10]^T$, a perfectly fine solution!\n",
    "\n",
    "\n"
   ]
  },
  {
   "cell_type": "markdown",
   "metadata": {
    "slideshow": {
     "slide_type": "fragment"
    }
   },
   "source": [
    "This is a reason that determinants are typically not used numerically (determinants of \"small\"-dimensional matrices can be OK, but what is \"small\"?)"
   ]
  },
  {
   "cell_type": "markdown",
   "metadata": {
    "slideshow": {
     "slide_type": "slide"
    }
   },
   "source": [
    "### Properties of the determinant\n",
    "\n",
    "1.  If $\\tilde A$ is obtained from $A$ by the operation $R_i \\leftrightarrow R_j$ with $i \\neq j$ then $\\det \\tilde A = - \\det A$.\n",
    "2. If $\\tilde A$ is obtained from $A$ by the operation $\\lambda R_j \\to R_j$ then $\\det \\tilde A = \\lambda \\det A$.\n",
    "3. If $\\tilde A$ is obtained from $A$ by the operation $R_i + \\lambda R_j \\to R_i$ with $i \\neq j$ then $\\det \\tilde A = \\det A$.\n",
    "4. If $A$ is either upper or lower triangular then $\\det A = \\prod_{i=1}^n a_{ii}$."
   ]
  },
  {
   "cell_type": "markdown",
   "metadata": {
    "slideshow": {
     "slide_type": "slide"
    }
   },
   "source": [
    "One can show that these properties imply that if we use Gaussian elimination to transform a matrix $A$ to upper-triangular form $\\tilde A$, then: \n",
    "\n",
    "$$\\det A = (-1)^{\\text{ (# of row flips) }}\\prod_{i=1}^n \\tilde a_{ii}$$."
   ]
  },
  {
   "cell_type": "markdown",
   "metadata": {
    "slideshow": {
     "slide_type": "slide"
    }
   },
   "source": [
    "## Operation counts: cofactor expansion vs Gaussian elimination"
   ]
  },
  {
   "cell_type": "markdown",
   "metadata": {
    "collapsed": true,
    "slideshow": {
     "slide_type": "slide"
    }
   },
   "source": [
    "### Operation count for cofactor expansion\n",
    "\n",
    "Recall that we defined the determinant via\n",
    "\n",
    "$$\\det A = \\sum_{j=1}^n a_{ij} A_{ij}$$\n",
    "\n",
    "where $A_{ij}$ is itself a determinant of an $(n-1) \\times (n-1)$ matrix.\n",
    "\n"
   ]
  },
  {
   "cell_type": "markdown",
   "metadata": {
    "slideshow": {
     "slide_type": "slide"
    }
   },
   "source": [
    "Let $S_n$ denote the number of sums that are required to compute a determinant of size $n$.  Then \n",
    "\n",
    "$$S_n = (n - 1) S_{n-1}.$$\n",
    "\n",
    "For example, \n",
    "\n",
    "\n",
    "$$ S_2 = 1 $$\n",
    "\n",
    "$$ S_3 = 2S_2 $$ \n",
    "\n",
    "$$ \\ldots $$\n",
    "\n",
    "In general, \n",
    "\n",
    "$$ S_n = O(n!)$$ "
   ]
  },
  {
   "cell_type": "markdown",
   "metadata": {
    "slideshow": {
     "slide_type": "slide"
    }
   },
   "source": [
    "So, using the cofactor expansion it takes $O(n!)$ operations to compute an $n\\times n$ determinant.  We use __Stirling's approximation__\n",
    "\n",
    "$$n! \\approx \\sqrt{2\\pi n} \\left( \\frac{n}{e} \\right)^n$$.\n",
    "\n",
    "This is exponential growth!  How can we ever compute a (large) determinant (even if it is a bad idea...)?"
   ]
  },
  {
   "cell_type": "markdown",
   "metadata": {
    "slideshow": {
     "slide_type": "fragment"
    }
   },
   "source": [
    "In contrast, we showed in Lecture 9 that Gaussian elimination is $O(n^3)$. \n",
    "\n",
    "This is MUCH better! \n",
    "\n"
   ]
  },
  {
   "cell_type": "markdown",
   "metadata": {
    "slideshow": {
     "slide_type": "slide"
    }
   },
   "source": [
    "Let's tabulate a few values to highlight the expected divergence in the time complexities of the two algorithms for computing a determinant: "
   ]
  },
  {
   "cell_type": "code",
   "execution_count": 1,
   "metadata": {},
   "outputs": [
    {
     "name": "stdout",
     "output_type": "stream",
     "text": [
      "n n! n^3\n",
      "0 1 0\n",
      "1 1 1\n",
      "2 2 8\n",
      "3 6 27\n",
      "4 24 64\n",
      "5 120 125\n",
      "6 720 216\n",
      "7 5040 343\n",
      "8 40320 512\n",
      "9 362880 729\n",
      "10 3628800 1000\n",
      "11 39916800 1331\n",
      "12 479001600 1728\n",
      "13 6227020800 2197\n",
      "14 87178291200 2744\n",
      "15 1307674368000 3375\n",
      "16 20922789888000 4096\n",
      "17 355687428096000 4913\n",
      "18 6402373705728000 5832\n",
      "19 121645100408832000 6859\n"
     ]
    }
   ],
   "source": [
    "import math\n",
    "\n",
    "print 'n', 'n!', 'n^3'\n",
    "for n in range(20):\n",
    "    print n, math.factorial(n), n**3"
   ]
  }
 ],
 "metadata": {
  "celltoolbar": "Slideshow",
  "kernelspec": {
   "display_name": "Python 2",
   "language": "python",
   "name": "python2"
  },
  "language_info": {
   "codemirror_mode": {
    "name": "ipython",
    "version": 2
   },
   "file_extension": ".py",
   "mimetype": "text/x-python",
   "name": "python",
   "nbconvert_exporter": "python",
   "pygments_lexer": "ipython2",
   "version": "2.7.14"
  }
 },
 "nbformat": 4,
 "nbformat_minor": 1
}
