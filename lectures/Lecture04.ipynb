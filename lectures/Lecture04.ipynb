{
 "cells": [
  {
   "cell_type": "markdown",
   "metadata": {
    "slideshow": {
     "slide_type": "slide"
    }
   },
   "source": [
    "# Fixed-point iteration"
   ]
  },
  {
   "cell_type": "markdown",
   "metadata": {
    "slideshow": {
     "slide_type": "-"
    }
   },
   "source": [
    "#### Definition\n",
    "\n",
    "A function $g(x)$ has a fixed point at $x = p$ if $p = g(p)$.<br><br>\n",
    "\n",
    "\n"
   ]
  },
  {
   "cell_type": "markdown",
   "metadata": {
    "slideshow": {
     "slide_type": "fragment"
    }
   },
   "source": [
    "* This is called a fixed point because $g(g(p)) = g(p) = p$, or more generally $g^{(k)}(p) = p$ (the $k$th composition of $g$ with itself)."
   ]
  },
  {
   "cell_type": "markdown",
   "metadata": {
    "slideshow": {
     "slide_type": "fragment"
    }
   },
   "source": [
    "* If $g(x)$ has a fixed point at $x = p$ then $f(x) = x-g(x)$ has a root at $x = p$.\n"
   ]
  },
  {
   "cell_type": "markdown",
   "metadata": {
    "slideshow": {
     "slide_type": "fragment"
    }
   },
   "source": [
    "* If $f(x)$ has a zero at $x = p$ then the function $g(x) = x - f(x)$ has a fixed point at $x = p$."
   ]
  },
  {
   "cell_type": "markdown",
   "metadata": {
    "slideshow": {
     "slide_type": "slide"
    }
   },
   "source": [
    "#### Example\n",
    "\n",
    "Find the fixed point(s) of $g(x) = 1 + \\sqrt{x}$, $x \\geq 0$."
   ]
  },
  {
   "cell_type": "markdown",
   "metadata": {
    "slideshow": {
     "slide_type": "slide"
    }
   },
   "source": [
    "# Existence and uniqueness of fixed points\n",
    "#### Theorem 1\n",
    "\n",
    "1. If $g \\in C[a,b]$ and $g(x) \\in [a,b]$ for all $x \\in [a,b]$, then $g$ has at least one fixed point. \n",
    "2. If, in addition, $g'(x)$ exists on $(a,b)$ and there is a positive constant $K < 1$ with\n",
    "$$ |g'(x)| \\leq K, \\quad \\text{for all} \\quad x \\in (a,b),$$\n",
    "then there is exactly one fixed point in $[a,b]$.  "
   ]
  },
  {
   "cell_type": "markdown",
   "metadata": {
    "slideshow": {
     "slide_type": "subslide"
    }
   },
   "source": [
    "#### Proof\n",
    "\n",
    "__Part 1__: Let $f(x) = x - g(x)$.  Then $f(a) = a - g(a) \\leq 0$ because $g(a) \\in [a,b]$ or $g(a) \\geq a$.  Also, $f(b) = b - g(b) \\geq 0$ because $g(b) \\in [a,b]$ or $g(b) \\leq b$.  Then because $f(x)$ is continuous, the Intermediate Value Theorem guarantees that there is one root of $f$ in $[a,b]$ and therefore $g$ has a fixed point in $[a,b]$"
   ]
  },
  {
   "cell_type": "markdown",
   "metadata": {
    "slideshow": {
     "slide_type": "subslide"
    }
   },
   "source": [
    "__Part 2__ By Part 1, we know that $g(x)$ has at least one fixed point $p \\in [a,b]$.  Let us assume there is another fixed point $p^* \\in [a,b]$, $p^* \\neq p$.  Then $f(x) = x - g(x)$ has two roots in $[a,b]$.  Recall, Rolle's Theorem. It states that $f'(c) = 0$ for some point $c$ that lies between $p$ and $p^*$:\n",
    "\n",
    "$$ 0 = f'(c) = 1 - g'(c) \\Longrightarrow g'(c) = 1.$$\n",
    "\n",
    "This violates our assumptions and $p^*$ cannot exist."
   ]
  },
  {
   "cell_type": "markdown",
   "metadata": {
    "slideshow": {
     "slide_type": "slide"
    }
   },
   "source": [
    "#### Example\n",
    "\n",
    "Using this theorem, show that $g(x) = 1 + \\sqrt{x}$ has one and only one fixed point on $[1,4]$."
   ]
  },
  {
   "cell_type": "markdown",
   "metadata": {
    "slideshow": {
     "slide_type": "slide"
    }
   },
   "source": [
    "### This theorem gives a sufficient condition for a unique fixed point to exist.  It does not give a necessary condition. \n",
    "\n",
    "Consider\n",
    "\n",
    "$$g(x) = e^{-x}, \\quad x \\in [0,1].$$\n",
    "\n",
    "Because $g$ is decreasing, $g(0) = 1 \\in [0,1]$, and $g(1) > 0$ we are guaranteed a fixed point on $[0,1]$.  To apply the theorem we look at $g'(x) = - e^{-x}$.\n",
    "\n",
    "On the interval $[0,1]$, $|g'(x)| \\leq 1$ and it attains the value one at $x = 0$.  We cannot apply the theorem (need a strict inequality) to state uniqueness of the fixed point."
   ]
  },
  {
   "cell_type": "markdown",
   "metadata": {
    "slideshow": {
     "slide_type": "slide"
    }
   },
   "source": [
    "But if we plot $g(x)$ and the function $h(x) = x$, it is clear that they cross only once."
   ]
  },
  {
   "cell_type": "code",
   "execution_count": 1,
   "metadata": {
    "scrolled": true,
    "slideshow": {
     "slide_type": "fragment"
    }
   },
   "outputs": [
    {
     "data": {
      "image/png": "[encoded data removed]",
      "text/plain": [
       "<matplotlib.figure.Figure at 0x1112039b0>"
      ]
     },
     "metadata": {},
     "output_type": "display_data"
    }
   ],
   "source": [
    "from draw import graph_two_functions\n",
    "import numpy as np \n",
    "f1 = lambda x: np.exp(-x)\n",
    "f2 = lambda x: x\n",
    "graph_two_functions(f1, f2, x1=0, y1=0)"
   ]
  },
  {
   "cell_type": "markdown",
   "metadata": {
    "slideshow": {
     "slide_type": "slide"
    }
   },
   "source": [
    "#### Definition\n",
    "\n",
    "Suppose that $g(x)$ has a unique fixed point on the interval $[a,b]$.  Given $p_0 \\in [a,b]$ (an initial guess), define $p_n = g(p_{n-1})$ for $n \\geq 1$.\n",
    "\n",
    "<br>\n",
    "\n",
    "If the sequence $p_n \\to p$ as $n \\to \\infty$, and if $g$ is continuous\n",
    "\n",
    "$$ p = \\lim_{n\\to\\infty} p_n = \\lim_{n \\to \\infty} g(p_{n-1}) = g \\left( \\lim_{n \\to \\infty} p_{n-1} \\right) = g(p).$$\n",
    "\n",
    "The technique of constructing the sequence $\\{g_n\\}_{n = 1}^\\infty$ is called __fixed-point iteration__.  "
   ]
  },
  {
   "cell_type": "markdown",
   "metadata": {
    "slideshow": {
     "slide_type": "slide"
    }
   },
   "source": [
    "#### Example\n",
    "\n",
    "Use fixed-point iteration to find the fixed point(s) of $g(x) = 1 + \\sqrt{x}$, $x \\geq 0$."
   ]
  },
  {
   "cell_type": "code",
   "execution_count": 2,
   "metadata": {},
   "outputs": [
    {
     "name": "stdout",
     "output_type": "stream",
     "text": [
      "p_n\t\t g(p_n)\n",
      "0.100000\t 1.316228\t\n",
      "1.316228\t 2.147270\t\n",
      "2.147270\t 2.465357\t\n",
      "2.465357\t 2.570145\t\n",
      "2.570145\t 2.603167\t\n",
      "2.603167\t 2.613433\t\n",
      "2.613433\t 2.616612\t\n",
      "2.616612\t 2.617594\t\n",
      "2.617594\t 2.617898\t\n",
      "2.617898\t 2.617992\t\n",
      "difference between approximate and exact fixed points =  4.19776218132e-05\n"
     ]
    }
   ],
   "source": [
    "from fixed_point_iteration_helper import print_heading, print_row\n",
    "import numpy as np \n",
    "\n",
    "def fixed_point_iteration(func, p0, n_max):\n",
    "    print_heading()     \n",
    "    p = p0\n",
    "    for n in range(n_max):\n",
    "        print_row(p, func(p))\n",
    "        p = func(p)\n",
    "    return p\n",
    "\n",
    "g = lambda x: 1 + np.sqrt(x)\n",
    "p_approx = fixed_point_iteration(g, p0=0.1, n_max=10)\n",
    "p_exact = ((1 + np.sqrt(5))/2)**2\n",
    "print('difference between approximate and exact fixed points = ', abs(p_approx - p_exact))"
   ]
  },
  {
   "cell_type": "markdown",
   "metadata": {
    "slideshow": {
     "slide_type": "slide"
    }
   },
   "source": [
    "### Convergence of fixed point iteration\n",
    "\n",
    "When does fixed point iteration converge, and at what rate?\n",
    "\n",
    "#### Theorem 2\n",
    "\n",
    "Let $g \\in C[a,b]$ be such that $g(x) \\in [a,b]$ for all $x \\in [a,b]$.  Suppose, in addition, that $g'$ exists on $(a,b)$ and there exists $0 \\leq K < 1 $ such that\n",
    "\n",
    "$$ |g'(x)| \\leq K, \\quad \\text{ for all } ~~ x \\in [a,b]. $$\n",
    "\n",
    "Then for any number $p_0 \\in [a,b]$, the sequence $p_n \\to p$ at rate $K^n$ where $p$ is the unique fixed point in $[a,b]$. "
   ]
  },
  {
   "cell_type": "markdown",
   "metadata": {
    "slideshow": {
     "slide_type": "subslide"
    }
   },
   "source": [
    "#### Proof\n",
    "\n",
    "From Theorem 1, we know that the unique fixed point $p$ exists.  Then\n",
    "\n",
    "$$ |p_n - p| = |g(p_{n-1}) - g(p)| \\leq K|p_{n-1} - p| \\leq K^2 |p_{n-2} - p| \\leq K^n |p_0 - p|. $$\n",
    "\n",
    "It also follows that $|p_0 - p| \\leq b-a$, the length of the interval that contains them both.  And so\n",
    "\n",
    "$$|p_n - p| \\leq K^n (b-a), \\quad \\text{or} \\quad p_n = p + O(K^n),$$\n",
    "\n",
    "as $n \\to \\infty$.  Convergence follows because $K < 1$."
   ]
  },
  {
   "cell_type": "markdown",
   "metadata": {
    "slideshow": {
     "slide_type": "slide"
    }
   },
   "source": [
    "## Example \n",
    "Use fixed-point iteration to find the root of $f(x) = x^4 + 2x^2 -x - 3$. "
   ]
  },
  {
   "cell_type": "code",
   "execution_count": 3,
   "metadata": {
    "scrolled": false,
    "slideshow": {
     "slide_type": "fragment"
    }
   },
   "outputs": [
    {
     "name": "stdout",
     "output_type": "stream",
     "text": [
      "p_n\t\t g(p_n)\n",
      "1.000000\t 0.000000\t\n",
      "0.000000\t -3.000000\t\n",
      "-3.000000\t 96.000000\t\n",
      "96.000000\t 84953085.000000\t\n",
      "84953085.000000\t 52085473681492913685918814044160.000000\t\n"
     ]
    }
   ],
   "source": [
    "# Method 1: find fixed point of g_1(x)\n",
    "g1 = lambda x: x**4 + 2*x**2 - 3\n",
    "root = fixed_point_iteration(g1, p0=1, n_max=5)"
   ]
  },
  {
   "cell_type": "code",
   "execution_count": 4,
   "metadata": {
    "slideshow": {
     "slide_type": "fragment"
    }
   },
   "outputs": [
    {
     "name": "stdout",
     "output_type": "stream",
     "text": [
      "p_n\t\t g(p_n)\n",
      "1.000000\t 1.189207\t\n",
      "1.189207\t 1.080058\t\n",
      "1.080058\t 1.149671\t\n",
      "1.149671\t 1.107821\t\n",
      "1.107821\t 1.133932\t\n",
      "1.133932\t 1.118003\t\n",
      "1.118003\t 1.127857\t\n",
      "1.127857\t 1.121813\t\n",
      "1.121813\t 1.125540\t\n",
      "1.125540\t 1.123249\t\n"
     ]
    }
   ],
   "source": [
    "# Method 2: find fixed point of g_2(x)\n",
    "g2 = lambda x: (3 + x - 2*x**2)**0.25\n",
    "root = fixed_point_iteration(g2, p0=1, n_max=10)"
   ]
  }
 ],
 "metadata": {
  "celltoolbar": "Slideshow",
  "kernelspec": {
   "display_name": "Python 2",
   "language": "python",
   "name": "python2"
  },
  "language_info": {
   "codemirror_mode": {
    "name": "ipython",
    "version": 2
   },
   "file_extension": ".py",
   "mimetype": "text/x-python",
   "name": "python",
   "nbconvert_exporter": "python",
   "pygments_lexer": "ipython2",
   "version": "2.7.14"
  }
 },
 "nbformat": 4,
 "nbformat_minor": 1
}
