{
 "cells": [
  {
   "cell_type": "markdown",
   "metadata": {
    "slideshow": {
     "slide_type": "slide"
    }
   },
   "source": [
    "## Pivoting Strategies"
   ]
  },
  {
   "cell_type": "markdown",
   "metadata": {
    "slideshow": {
     "slide_type": "slide"
    }
   },
   "source": [
    "## Partial Pivoting\n",
    "The handwritten notes describe how a strategy called partial pivoting overcomes a deficiency of our GE-BS algorithm that arises from round-off error. "
   ]
  },
  {
   "cell_type": "markdown",
   "metadata": {
    "slideshow": {
     "slide_type": "slide"
    }
   },
   "source": [
    "### argmax\n",
    "\n",
    "Partial pivoting requires that we compute the __index__ of the element that is the largest in absolute value. Here's how to do that in Python:"
   ]
  },
  {
   "cell_type": "code",
   "execution_count": 4,
   "metadata": {},
   "outputs": [
    {
     "name": "stdout",
     "output_type": "stream",
     "text": [
      "1\n",
      "None\n"
     ]
    }
   ],
   "source": [
    "def argmax(xs):  \n",
    "    '''returns the index of the max of |xs|'''\n",
    "\n",
    "    current_max = 0.0\n",
    "    current_max_location = None\n",
    "    # use enumerate to cycle through i and xs[i] at the same time\n",
    "    for i, x in enumerate(xs):   \n",
    "        if current_max < abs(x):\n",
    "            current_max = abs(x)\n",
    "            current_max_location = i\n",
    "    return current_max_location\n",
    "\n",
    "print argmax([2,-5,3])\n",
    "print argmax([0,0,0])"
   ]
  },
  {
   "cell_type": "markdown",
   "metadata": {
    "slideshow": {
     "slide_type": "slide"
    }
   },
   "source": [
    "### Gaussian elimination with partial pivoting"
   ]
  },
  {
   "cell_type": "code",
   "execution_count": null,
   "metadata": {
    "collapsed": true
   },
   "outputs": [],
   "source": [
    "function A = GEpp(A)\n",
    "\n",
    "    INPUT: A is an n x m matrix\n",
    "\n",
    "    OUTPUT:  A an n x m upper-triangular matrix, \n",
    "             or None if the method failed\n",
    "\n",
    "    STEP 1: For i = 1,2,...,n-1 do STEPS 2-6\n",
    "      STEP 2: Set p = argmax(A[i:,i])\n",
    "      STEP 3: If p is None then\n",
    "        DISPLAY('Method failed: matrix is rank deficient')\n",
    "        OUTPUT(A);\n",
    "        STOP.\n",
    "      # notice how we correct the index argmax returns:\n",
    "      STEP 4: Set p = i + p \n",
    "      STEP 5: if p > i: Do Ri <-> Rp on A\n",
    "      STEP 6: For j = i+1,i+2,...,n do STEP 7\n",
    "        STEP 7: Do R_j - A(j,i)/A(i,i) R_i --> R_j on A\n",
    "      STEP 8: If A(n,n) = 0\n",
    "      DISPLAY('Method failed: matrix is rank deficient')\n",
    "      OUTPUT(A)\n",
    "    STEP 9: OUTPUT(A); STOP."
   ]
  },
  {
   "cell_type": "markdown",
   "metadata": {
    "slideshow": {
     "slide_type": "slide"
    }
   },
   "source": [
    "### Scaled partial pivoting"
   ]
  },
  {
   "cell_type": "markdown",
   "metadata": {},
   "source": [
    "See the handwritten notes"
   ]
  }
 ],
 "metadata": {
  "celltoolbar": "Slideshow",
  "kernelspec": {
   "display_name": "Python 2",
   "language": "python",
   "name": "python2"
  },
  "language_info": {
   "codemirror_mode": {
    "name": "ipython",
    "version": 2
   },
   "file_extension": ".py",
   "mimetype": "text/x-python",
   "name": "python",
   "nbconvert_exporter": "python",
   "pygments_lexer": "ipython2",
   "version": "2.7.14"
  }
 },
 "nbformat": 4,
 "nbformat_minor": 1
}
