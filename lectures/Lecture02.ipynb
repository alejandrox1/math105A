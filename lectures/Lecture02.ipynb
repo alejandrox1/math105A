{
 "cells": [
  {
   "cell_type": "markdown",
   "metadata": {
    "slideshow": {
     "slide_type": "slide"
    }
   },
   "source": [
    "# Finite-precision arithmetic and round-off errors \n",
    "\n",
    "An important consideration when performing a numerical calculation is the fact that all calculations are performed with finite precision.  \n",
    "\n",
    "There can be VERY different behavior when compared to infinite precision calculations (i.e. doing the calculation by hand).\n",
    "\n"
   ]
  },
  {
   "cell_type": "markdown",
   "metadata": {
    "slideshow": {
     "slide_type": "slide"
    }
   },
   "source": [
    "## Example \n",
    "Consider the numerical representation of $\\sqrt{2} = 1.4142\\ldots$.  As we know, $\\sqrt{2}$ is an irrational number and it has an infinite number of decimal digits that never repeat.  To store this \"simple\" number on a computer using only information about its decimal digits we would need an infinite amount of storage."
   ]
  },
  {
   "cell_type": "code",
   "execution_count": 1,
   "metadata": {
    "slideshow": {
     "slide_type": "fragment"
    }
   },
   "outputs": [
    {
     "name": "stdout",
     "output_type": "stream",
     "text": [
      "a =  1.41421356237\n",
      "|2 - a^2| =  4.4408920985e-16\n"
     ]
    }
   ],
   "source": [
    "import numpy as np \n",
    "a = np.sqrt(2)\n",
    "print('a = ', a)\n",
    "print('|2 - a^2| = ', abs(2-a**2))"
   ]
  },
  {
   "cell_type": "markdown",
   "metadata": {
    "slideshow": {
     "slide_type": "fragment"
    }
   },
   "source": [
    "This is called **round-off error**. \n",
    "\n",
    "It results from **finite-precision arithmetic**."
   ]
  },
  {
   "cell_type": "markdown",
   "metadata": {
    "collapsed": true,
    "slideshow": {
     "slide_type": "slide"
    }
   },
   "source": [
    "Some \"symbolic\" mathematical software (such as Maple and Mathematica) treat $\\sqrt{2}$ using its mathematical definition that $(\\sqrt{2})^2 = 2$. In this way, the full precision is retained without infinite storage.  But we are going to use Python in this class, and the only information we will keep about numbers are their (binary) digits.\n",
    "\n",
    "\n"
   ]
  },
  {
   "cell_type": "markdown",
   "metadata": {
    "slideshow": {
     "slide_type": "slide"
    }
   },
   "source": [
    "## Binary Machine Numbers\n",
    "\n",
    "Computers store numbers using their binary form.\n",
    "\n",
    "For our purposes, a binary number will be a sequence of 64 ones and zeros:\n",
    "\n",
    "$$ 000000010101000001010001010101010101000010101010000001111111111 $$"
   ]
  },
  {
   "cell_type": "markdown",
   "metadata": {
    "slideshow": {
     "slide_type": "slide"
    }
   },
   "source": [
    "The digits in a binary number are partitioned for different purposes:\n",
    "\n",
    "1. The first digit $s$ indicates the sign of the number, 0: positive, 1: negative, $(-1)^s$\n",
    "2. The next 11 digits specify an exponent (base 2, called the __characteristic__ $c$)\n",
    "3. The last 52 digits are used to specify a fraction (called the __mantissa__ $f$)\n",
    "\n",
    "This binary sequence in the computer represents numbers as:\n",
    "\n",
    "$$(-1)^s 2^{c-1023} (1 + f)$$\n"
   ]
  },
  {
   "cell_type": "markdown",
   "metadata": {
    "slideshow": {
     "slide_type": "slide"
    }
   },
   "source": [
    "## Many numbers are approximated in the computer (though it may not seem that way at first)..."
   ]
  },
  {
   "cell_type": "code",
   "execution_count": 2,
   "metadata": {
    "slideshow": {
     "slide_type": "-"
    }
   },
   "outputs": [
    {
     "data": {
      "text/plain": [
       "'0.1000000000'"
      ]
     },
     "execution_count": 2,
     "metadata": {},
     "output_type": "execute_result"
    }
   ],
   "source": [
    "'%.10f' % 0.1"
   ]
  },
  {
   "cell_type": "code",
   "execution_count": 3,
   "metadata": {
    "slideshow": {
     "slide_type": "fragment"
    }
   },
   "outputs": [
    {
     "data": {
      "text/plain": [
       "'0.100000000000000'"
      ]
     },
     "execution_count": 3,
     "metadata": {},
     "output_type": "execute_result"
    }
   ],
   "source": [
    "'%.15f' % 0.1"
   ]
  },
  {
   "cell_type": "code",
   "execution_count": 4,
   "metadata": {
    "slideshow": {
     "slide_type": "fragment"
    }
   },
   "outputs": [
    {
     "data": {
      "text/plain": [
       "'0.10000000000000000555'"
      ]
     },
     "execution_count": 4,
     "metadata": {},
     "output_type": "execute_result"
    }
   ],
   "source": [
    "'%.20f' % 0.1"
   ]
  },
  {
   "cell_type": "markdown",
   "metadata": {
    "slideshow": {
     "slide_type": "slide"
    }
   },
   "source": [
    "### Example \n",
    "\n",
    "Consider the binary number\n",
    "\n",
    "$$ 0 \\,11000000001\\, 110100001000\\ldots $$\n",
    "\n",
    "* $s = 0$\n",
    "* $c = 1\\cdot 2^{10} + 1\\cdot 2^9 + 0 \\cdot 2^8 + \\cdots  = 1537$\n",
    "* $f = \\displaystyle 1 \\cdot \\left(\\frac{1}{2}\\right)^1 + 1 \\cdot \\left(\\frac{1}{2}\\right)^2 + 1 \\cdot \\left(\\frac{1}{2}\\right)^4 + 1 \\cdot \\left(\\frac{1}{2}\\right)^{9}$\n",
    "$= 0.814453125$\n",
    "\n",
    "\n"
   ]
  },
  {
   "cell_type": "markdown",
   "metadata": {
    "slideshow": {
     "slide_type": "fragment"
    }
   },
   "source": [
    "Then the number represented by this binary number, in decimal notation is\n",
    "\n",
    "$$(-1)^s 2^{c-1023} (1 + f) = 1 \\cdot 2^{514} (1 + .814453125) \\approx 9.7311 \\times 10^{154}$$\n",
    "\n"
   ]
  },
  {
   "cell_type": "markdown",
   "metadata": {
    "slideshow": {
     "slide_type": "slide"
    }
   },
   "source": [
    "### Underflow \n",
    "\n",
    "Smallest possible __positive__ number is given by $s = 0, c = 1, f = 0$:\n",
    "\n",
    "$$ N_{\\min} = 2^{-1022} \\cdot (1+ 0) $$\n",
    "\n",
    "Any numbers that occur in computation that are less (in absolute value) then $N_{\\min}$ give rise to __underflow__, are treated as zero, which is represented in the machine by setting $c = 0$, $f = 0$ and $s = 0,1$ (two possible choices of zero):\n",
    "\n",
    "$$ 10000000\\ldots \\quad \\text{and} \\quad 0000000\\ldots$$\n",
    "\n"
   ]
  },
  {
   "cell_type": "code",
   "execution_count": 5,
   "metadata": {
    "slideshow": {
     "slide_type": "fragment"
    }
   },
   "outputs": [
    {
     "data": {
      "text/plain": [
       "0.0"
      ]
     },
     "execution_count": 5,
     "metadata": {},
     "output_type": "execute_result"
    }
   ],
   "source": [
    "np.exp(-800)"
   ]
  },
  {
   "cell_type": "markdown",
   "metadata": {
    "slideshow": {
     "slide_type": "slide"
    }
   },
   "source": [
    "\n",
    "### Overflow \n",
    "\n",
    "The largest positive number is $s = 0$, $c = 2046$ (this is one less than the maximum value for $c$) and $f = 1 - 2^{-52}$ (max value for $f$):\n",
    "\n",
    "$$ N_{\\max} = 2^{1023} \\cdot (2 - 2^{-52})$$\n",
    "\n",
    "\n",
    "Numbers that are larger (in magnitude) than $N_\\max$ give __overflow__, are treated as infinity, and are represented in the machine by putting $c=2047$ (its max value).  \n",
    "\n"
   ]
  },
  {
   "cell_type": "code",
   "execution_count": 6,
   "metadata": {
    "slideshow": {
     "slide_type": "fragment"
    }
   },
   "outputs": [
    {
     "name": "stderr",
     "output_type": "stream",
     "text": [
      "/Users/petermchale/anaconda/lib/python3.6/site-packages/ipykernel_launcher.py:1: RuntimeWarning: overflow encountered in exp\n",
      "  \"\"\"Entry point for launching an IPython kernel.\n"
     ]
    },
    {
     "data": {
      "text/plain": [
       "inf"
      ]
     },
     "execution_count": 6,
     "metadata": {},
     "output_type": "execute_result"
    }
   ],
   "source": [
    "np.exp(800)"
   ]
  },
  {
   "cell_type": "markdown",
   "metadata": {
    "slideshow": {
     "slide_type": "slide"
    }
   },
   "source": [
    "## A simple model of computer arithmetic \n",
    "\n",
    "To get a feeling for the implications of using binary approximations, let's suppose that we approximate numbers using $k$-digit machine numbers:\n",
    "\n",
    "$$ \\pm 0.d_1d_2\\cdots d_k \\times 10^n. $$\n",
    "\n",
    "And while the mechanism for rounding in a computer can be complicated, we take the convention of chopping to the closest $k$-digit machine number."
   ]
  },
  {
   "cell_type": "markdown",
   "metadata": {
    "slideshow": {
     "slide_type": "fragment"
    }
   },
   "source": [
    "* If $k = 4$, $y= 1.25555455$ is chopped to $.1255 \\times 10^1$\n",
    "* If $k = 5$, $y= 302.4533$ is chopped to $.30245 \\times 10^3$"
   ]
  },
  {
   "cell_type": "markdown",
   "metadata": {
    "slideshow": {
     "slide_type": "slide"
    }
   },
   "source": [
    "## Definition\n",
    "\n",
    "Suppose that $p^*$ is an approximation to $p\\neq 0$.  The __absolute error__ of $p^*$ is given by $|p^* - p|$ and the __relative error__ is given by\n",
    "\n",
    "$$ \\left|\\frac{p^*-p}{p} \\right|.$$\n",
    "\n",
    "\n",
    "\n"
   ]
  },
  {
   "cell_type": "markdown",
   "metadata": {
    "slideshow": {
     "slide_type": "slide"
    }
   },
   "source": [
    "##  Example\n",
    "\n",
    "Suppose we approximate $0.89 \\times 10^3$ by the 1-digit machine number, $0.9 \\times 10^3$.  The absolute error is\n",
    "\n",
    "$$ 0.89 \\times 10^3 - 0.9 \\times 10^3 = -0.1 \\times 10^2 $$\n",
    "\n",
    "and the relative error is\n",
    "\n",
    "$$ \\left | \\frac{ 0.89 \\times 10^3 - 0.9 \\times 10^3}{ 0.89 \\times 10^3} \\right| = 0.112 \\times 10^{-1}.  $$\n",
    "\n",
    "<br>\n",
    "\n",
    "Because the numbers we are comparing are large (compared to one), the absolute error is large but the relative error is small."
   ]
  },
  {
   "cell_type": "markdown",
   "metadata": {
    "collapsed": true,
    "slideshow": {
     "slide_type": "slide"
    }
   },
   "source": [
    "## Example\n",
    "\n",
    "Compute the roots of $\\frac{1}{2} x^2 + 60x + 1 = 0$ to a relative accuracy of $10^{-4}$ using $5$-digit machine arithmetic"
   ]
  },
  {
   "cell_type": "markdown",
   "metadata": {
    "slideshow": {
     "slide_type": "fragment"
    }
   },
   "source": [
    "We know that\n",
    "\n",
    "$$ x = {-60 \\pm \\sqrt{60^2-2}}. $$\n",
    "\n",
    "How accurate is this naive algorithm when implemented on a machine?"
   ]
  },
  {
   "cell_type": "code",
   "execution_count": 7,
   "metadata": {
    "slideshow": {
     "slide_type": "fragment"
    }
   },
   "outputs": [
    {
     "name": "stdout",
     "output_type": "stream",
     "text": [
      "0.019858313651939973934458797771105\n",
      "0.000027762338710156256856180444719621\n",
      "715.29685806604021135731070209644\n"
     ]
    }
   ],
   "source": [
    "from computer_arithmetic import x_plus, x_minus, relative_error\n",
    "\n",
    "print(relative_error(x_plus))\n",
    "print(relative_error(x_minus))\n",
    "print(relative_error(x_plus)/relative_error(x_minus))"
   ]
  },
  {
   "cell_type": "markdown",
   "metadata": {
    "slideshow": {
     "slide_type": "fragment"
    }
   },
   "source": [
    "The relative error for computing $x_{+}$ is orders of magnitude higher than that for $x_{-}$!"
   ]
  },
  {
   "cell_type": "markdown",
   "metadata": {
    "slideshow": {
     "slide_type": "slide"
    }
   },
   "source": [
    "## Subtracting nearly equal numbers using low-precision arithmetic"
   ]
  },
  {
   "cell_type": "markdown",
   "metadata": {
    "slideshow": {
     "slide_type": "-"
    }
   },
   "source": [
    "Recall that $x_+ = -b + \\sqrt{b^2 - 4ac}$. When $b^2 \\gg 4ac$, $x_+$ is the result of subtracting nearly equal numbers.\n",
    "\n",
    "Subtracting nearly equal numbers can lead to large relative errors on a machine. \n",
    "\n",
    "As an example, consider the task of computing \n",
    "\n",
    "$p = 1.01 - 1.00 = 0.01$. \n",
    "\n",
    "A 2-digit machine would approximate this computation as follows: \n",
    "\n",
    "$p^* = 1.0 - 1.0 = 0.0$, \n",
    "\n",
    "leading to a relative error of\n",
    "\n",
    "$ \\left| \\frac{p - p^*}{p} \\right| = 1. $"
   ]
  },
  {
   "cell_type": "markdown",
   "metadata": {
    "slideshow": {
     "slide_type": "slide"
    }
   },
   "source": [
    "## Subtracting nearly equal numbers using low-precision arithmetic\n",
    "\n",
    "Returning to our quadratic-formula example, \n",
    "let's begin by computing what the value of $x_+$ ought to be: "
   ]
  },
  {
   "cell_type": "code",
   "execution_count": 8,
   "metadata": {
    "slideshow": {
     "slide_type": "fragment"
    }
   },
   "outputs": [
    {
     "name": "stdout",
     "output_type": "stream",
     "text": [
      "actual value of x_plus =  -0.016668982124708948887200263703\n"
     ]
    }
   ],
   "source": [
    "from decimal import getcontext\n",
    "from computer_arithmetic import minus_b, square_root\n",
    "\n",
    "getcontext().prec = 32 # don't worry about this; consider it as a way to get an estimate of the true value of x_plus\n",
    "print('actual value of x_plus = ', minus_b() + square_root())"
   ]
  },
  {
   "cell_type": "markdown",
   "metadata": {
    "slideshow": {
     "slide_type": "fragment"
    }
   },
   "source": [
    "Let's now see what a machine with low precision would compute $x_+$ to be: "
   ]
  },
  {
   "cell_type": "code",
   "execution_count": 9,
   "metadata": {
    "scrolled": true,
    "slideshow": {
     "slide_type": "fragment"
    }
   },
   "outputs": [
    {
     "name": "stdout",
     "output_type": "stream",
     "text": [
      "5-digit machine number approximation of x_plus =  -0.017\n"
     ]
    }
   ],
   "source": [
    "getcontext().prec = 5\n",
    "print('5-digit machine number approximation of x_plus = ', minus_b() + square_root())"
   ]
  },
  {
   "cell_type": "markdown",
   "metadata": {
    "slideshow": {
     "slide_type": "slide"
    }
   },
   "source": [
    "# Rounding error propagates \n",
    "\n",
    "actual value of $x_+$ =  -0.016668982124708948887200263703\n",
    "\n",
    "5-digit machine number approximation of $x_+$ =  -0.017\n",
    "\n",
    "What has happened here? \n",
    "\n"
   ]
  },
  {
   "cell_type": "markdown",
   "metadata": {
    "slideshow": {
     "slide_type": "fragment"
    }
   },
   "source": [
    "* First $b$ in the quadratic formula has to be stored with finite precision. \n",
    "* Then $a$ and $c$ have to be stored with similar errors.\n",
    "* Then $b^2$ has to be computed and stored, and that incurs additional error.  \n",
    "* etc\n",
    "\n",
    "When all is said and done, the computer spits out the approximation above for $x_+$. \n",
    "\n",
    "What if we used an even lower precision machine..."
   ]
  },
  {
   "cell_type": "code",
   "execution_count": 10,
   "metadata": {
    "slideshow": {
     "slide_type": "fragment"
    }
   },
   "outputs": [
    {
     "name": "stdout",
     "output_type": "stream",
     "text": [
      "0\n"
     ]
    }
   ],
   "source": [
    "getcontext().prec = 3\n",
    "print(minus_b() + square_root())"
   ]
  },
  {
   "cell_type": "markdown",
   "metadata": {
    "slideshow": {
     "slide_type": "fragment"
    }
   },
   "source": [
    "An approximate value of zero, corresponds to a relative error of one. Very bad! \n",
    "\n",
    "We now understand why the relative accuracy of x_plus is so poor (compared to that of x_minus). \n",
    "\n",
    "But is there anything we can do about it? \n"
   ]
  },
  {
   "cell_type": "markdown",
   "metadata": {
    "slideshow": {
     "slide_type": "slide"
    }
   },
   "source": [
    "## Solution: rationalize the numerator \n",
    "\n",
    "$$ x = \\left( -60 + \\sqrt{60^2-2} \\right) \\left (\\frac{-60 - \\sqrt{60^2-2}}{-60 - \\sqrt{60^2-2}} \\right) \\\\= \\frac{-2}{60 + \\sqrt{60^2-2}}.$$"
   ]
  },
  {
   "cell_type": "code",
   "execution_count": 11,
   "metadata": {
    "slideshow": {
     "slide_type": "fragment"
    }
   },
   "outputs": [
    {
     "name": "stdout",
     "output_type": "stream",
     "text": [
      "0.0000010723684816132654996294022047794\n",
      "0.000027762338710156256856180444719621\n",
      "0.038626734325554585367248902589600\n"
     ]
    }
   ],
   "source": [
    "from computer_arithmetic import x_plus_better\n",
    "\n",
    "print(relative_error(x_plus_better))\n",
    "print(relative_error(x_minus))\n",
    "print(relative_error(x_plus_better)/relative_error(x_minus))"
   ]
  },
  {
   "cell_type": "markdown",
   "metadata": {
    "slideshow": {
     "slide_type": "slide"
    }
   },
   "source": [
    "## Polynomial evaluation\n",
    "\n",
    "Another situation where round-off error comes into play is the evaulation of polynomials.  Consider\n",
    "\n",
    " $$ f(x) = x^3 - 4x^2 + \\frac{1}{4} x - 1.$$\n",
    " \n",
    "We want to evaulate $f(4.16)$ with $3$-digit machine arithmetic. "
   ]
  },
  {
   "cell_type": "markdown",
   "metadata": {
    "slideshow": {
     "slide_type": "fragment"
    }
   },
   "source": [
    "One approach is to code up an algorithm using this expression for $f(x)$. This leads to 8 operations. "
   ]
  },
  {
   "cell_type": "markdown",
   "metadata": {
    "slideshow": {
     "slide_type": "fragment"
    }
   },
   "source": [
    "Is there a way to rewrite the polynomial in a way that uses fewer computations? \n",
    "\n",
    "\n"
   ]
  },
  {
   "cell_type": "markdown",
   "metadata": {
    "slideshow": {
     "slide_type": "slide"
    }
   },
   "source": [
    "## Nesting reduces round-off error \n",
    "\n",
    "Rewrite the polynomial as a nested expression:\n",
    "\n",
    "$$ f(x) = x^3 - 4 x^2 + 1/4x -1 = x(x^2 - 4x + 1/4) - 1\\\\\n",
    "= x(x(x-4) + 1/4) -1. $$\n",
    "\n"
   ]
  },
  {
   "cell_type": "markdown",
   "metadata": {
    "slideshow": {
     "slide_type": "fragment"
    }
   },
   "source": [
    "Because this algorithm has fewer opportunities for making finite precision errors (only 5 operations), we expect it to reduce the relative error...\n"
   ]
  },
  {
   "cell_type": "code",
   "execution_count": 2,
   "metadata": {
    "slideshow": {
     "slide_type": "fragment"
    }
   },
   "outputs": [
    {
     "name": "stdout",
     "output_type": "stream",
     "text": [
      "0.00067499829114452160707599503891303\n",
      "0.0000014240470267735154557312198069073\n"
     ]
    }
   ],
   "source": [
    "from computer_arithmetic import f, f_better, relative_error\n",
    "\n",
    "print(relative_error(f))\n",
    "print(relative_error(f_better))"
   ]
  }
 ],
 "metadata": {
  "celltoolbar": "Slideshow",
  "kernelspec": {
   "display_name": "Python 3",
   "language": "python",
   "name": "python3"
  },
  "language_info": {
   "codemirror_mode": {
    "name": "ipython",
    "version": 3
   },
   "file_extension": ".py",
   "mimetype": "text/x-python",
   "name": "python",
   "nbconvert_exporter": "python",
   "pygments_lexer": "ipython3",
   "version": "3.6.1"
  }
 },
 "nbformat": 4,
 "nbformat_minor": 1
}
