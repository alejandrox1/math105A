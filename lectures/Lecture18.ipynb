{
 "cells": [
  {
   "cell_type": "markdown",
   "metadata": {
    "slideshow": {
     "slide_type": "slide"
    }
   },
   "source": [
    "#### Definition\n",
    "\n",
    "An $n \\times n$ matrix $A$ is __convergent__ if\n",
    "\n",
    "$$\\lim_{k\\to \\infty} (A^k)_{ij} = 0,$$\n",
    "\n",
    "for all $1 \\leq i,j\\leq n$.\n",
    "\n",
    "#### Theorem\n",
    "\n",
    "The following statements are equivalent:\n",
    "\n",
    "1. $A$ is a convergent matrix\n",
    "2. $\\lim_{n\\to \\infty} \\|A^n\\| = 0$, for some induced norm\n",
    "3. $\\lim_{n \\to \\infty} \\|A^n\\| = 0$, for all induced norms\n",
    "4. $\\rho(A) < 1$\n",
    "5. $\\lim_{n\\to\\infty} A^n x = 0$ for every $x \\in \\mathbb R^n$\n",
    "6. Given an induced norm $\\|\\cdot\\|$, $\\|A^n\\| = O((1+\\delta)^{-n})$, for some $\\delta > 0$."
   ]
  },
  {
   "cell_type": "markdown",
   "metadata": {
    "slideshow": {
     "slide_type": "slide"
    }
   },
   "source": [
    "#### Gershgorin Circle Theorem\n",
    "\n",
    "Let $A$ be an $n\\times n$ matrix and let $R_i$ denote the circle in the complex plane $\\mathbb C$ with center $a_{ii}$ and radius $\\sum_{j\\neq i} |a_{ij}|$:\n",
    "\n",
    "$$R_i = \\left\\{ z \\in \\mathbb C : |z-a_{ii}| \\leq \\sum_{j \\neq i} |a_{ij}| \\right\\}.$$\n",
    "\n",
    "Then all of the eigenvalues of $A$ are contained in the union $\\bigcup_i R_i$."
   ]
  },
  {
   "cell_type": "markdown",
   "metadata": {
    "slideshow": {
     "slide_type": "subslide"
    }
   },
   "source": [
    "#### Proof\n",
    "\n",
    "Suppose $\\lambda$ is an eigenvalue with assoicated eigenvector $v$.  We need to show that $\\lambda \\in R_i$ for some $i$.  We normalize $\\|x\\|_\\infty = 1$.  The eigenvalue equation gives $Ax = \\lambda x$ or\n",
    "\n",
    "$$ \\sum_{j=1}^n a_{ij} x_j = \\lambda x_j, \\quad 1 \\leq i \\leq n.$$\n",
    "\n",
    "Let $k$ be the smallest integer such that $|x_k| = 1$.  Consider the above equation for this value of $k$:\n",
    "\n",
    "$$ \\sum_{j=1}^n a_{kj} x_j = \\lambda x_k$$\n",
    "$$ ( \\lambda - a_{kk}) x_k = \\sum_{j\\neq k} a_{kj} x_j$$\n",
    "$$ |\\lambda - a_{kk}| |x_k| \\leq \\sum_{j\\neq k} |a_{kj}| |x_j|$$\n",
    "$$ |\\lambda - a_{kk}| \\leq \\sum_{j\\neq k} |a_{kj}|.$$\n",
    "\n",
    "This shows that $\\lambda \\in R_k$ and therefore $\\lambda \\in \\bigcup_i R_i$.  This holds for every eigenvalue."
   ]
  },
  {
   "cell_type": "code",
   "execution_count": 21,
   "metadata": {},
   "outputs": [
    {
     "data": {
      "image/png": "[encoded data removed]",
      "text/plain": [
       "<IPython.core.display.Image object>"
      ]
     },
     "metadata": {},
     "output_type": "display_data"
    }
   ],
   "source": [
    "hold on\n",
    "%A = [10 2 3 1; 1 -3 1 -1; -1 -3 -1 4; 2 2 2 5];\n",
    "%A = rand(10)-1/2; A = A + 1j*(rand(10)-1/2);\n",
    "A = [4,1,1;0,2,1;-2,0,9];\n",
    "for i = 1:length(A)\n",
    "    a = A(i,i); r = norm(A(i,:),1)-abs(a);\n",
    "    theta = linspace(0,2*pi,100);\n",
    "    x = r*cos(theta); y = r*sin(theta);\n",
    "    plot(x+real(a),y + imag(a),'k')\n",
    "end\n",
    "lambda = eigs(A);\n",
    "plot(real(lambda),imag(lambda),'*')"
   ]
  },
  {
   "cell_type": "markdown",
   "metadata": {},
   "source": [
    "#### Example\n",
    "\n",
    "Estimate the spectral radius of $A$ using the Gershgorin Circle Theorem\n",
    "\n",
    "$$ A = \\begin{bmatrix} 4 & 1 & 2 \\\\ 0 & 2 &1 \\\\ 2 & 1 & 9 \\end{bmatrix}.$$"
   ]
  },
  {
   "cell_type": "markdown",
   "metadata": {
    "slideshow": {
     "slide_type": "slide"
    }
   },
   "source": [
    "## Simple iteration\n",
    "\n",
    "We want to solve the equation $Ax = b$, or find the root of $Ax - b$.  Recall that every root-finding problem has equivalent, associated fixed-point iterations.  If $x$ is a solution of $Ax = b$ then $x$ satisfies\n",
    "\n",
    "$$x = (I - A)x + b.$$\n",
    "\n",
    "Define $T = I -A$, and we want to find a fixed point of\n",
    "\n",
    "$$g(x) = Tx + b.$$"
   ]
  },
  {
   "cell_type": "code",
   "execution_count": 20,
   "metadata": {
    "slideshow": {
     "slide_type": "slide"
    }
   },
   "outputs": [
    {
     "name": "stdout",
     "output_type": "stream",
     "text": [
      "ans =\n",
      "\n",
      "   1.0e-04 *\n",
      "\n",
      "   -0.9116\n",
      "   -0.4433\n",
      "   -0.6195\n",
      "   -0.5963\n"
     ]
    }
   ],
   "source": [
    "A = [1.1 .1 .3 .4; .2 .9 -.1 .33; -.3 .4 1. .8; .1 .2 .3 1];\n",
    "b = [1 1 1 1]';\n",
    "T = eye(4)-A;\n",
    "x = [0 0 0 0]';\n",
    "for i = 1:20\n",
    "    x = T*x + b;\n",
    "end\n",
    "A*x-b"
   ]
  },
  {
   "cell_type": "markdown",
   "metadata": {
    "slideshow": {
     "slide_type": "slide"
    }
   },
   "source": [
    "This leads to the natural question:\n",
    "\n",
    "Given a matrix $T$ and an initial vector $x^{(0)}$, when does the fixed point method given by\n",
    "\n",
    "$$g(x) = Tx + b$$\n",
    "\n",
    "converge?"
   ]
  },
  {
   "cell_type": "markdown",
   "metadata": {
    "slideshow": {
     "slide_type": "slide"
    }
   },
   "source": [
    "Fortunately, the spectral radius allows us to answer this question in a fairly simple manner:\n",
    "\n",
    "#### Lemma \n",
    "\n",
    "If the spectral radius of $T$ satisfies $\\rho(T) < 1$, then $(I-T)^{-1}$ exists and\n",
    "\n",
    "$$(I-T)^{-1} = \\sum_{k=0}^\\infty T^k.$$"
   ]
  },
  {
   "cell_type": "markdown",
   "metadata": {
    "slideshow": {
     "slide_type": "subslide"
    }
   },
   "source": [
    "#### Proof\n",
    "\n",
    "First, if $(I-T)$ is invertible if and only if it has a trivial nullspace or $(I-T)v = 0$ if and only if $v = 0$.  If $v$ is not zero, then $\\lambda = 1$ would be an eigenvalue of $T$, but $\\rho(T) < 1$.  Thus $(I-T)^{-1}$ exists.  Then for any induced norm, consider\n",
    "\n",
    "$$\\left\\| (I-T)^{-1} - \\sum_{j=0}^k T^j \\right\\| = \\left\\|(I-T)^{-1} \\left( I - (I-T) \\sum_{j=0}^k T^j \\right) \\right\\| \\leq \\left\\|(I-T)^{-1} \\right\\| \\left\\| I - (I-T) \\sum_{j=0}^k T^j \\right\\|. $$\n",
    "\n",
    "Now, we examine this last factor\n",
    "\n",
    "$$I - (I-T) \\sum_{j=0}^k T^j = I - \\sum_{j=0}^k T^j + \\sum_{j=0}^k T^{j+1} = T^{k+1}.$$\n",
    "\n",
    "Then, because $T$ is a convergent matrix $\\|T^{k+1}\\| \\to 0$ as $k \\to \\infty$.  This shows\n",
    "\n",
    "$$ \\lim_{k \\to \\infty} \\left\\| (I-T)^{-1} - \\sum_{j=0}^k T^j \\right\\| = 0.$$\n",
    "\n",
    "Then because convergence in matrix norm implies that individual entries converge, we obtain\n",
    "\n",
    "$$(I-T)^{-1} = \\sum_{j=0}^\\infty T^j,$$\n",
    "\n",
    "as required."
   ]
  }
 ],
 "metadata": {
  "celltoolbar": "Slideshow",
  "kernelspec": {
   "display_name": "Python 2",
   "language": "python",
   "name": "python2"
  },
  "language_info": {
   "codemirror_mode": {
    "name": "ipython",
    "version": 2
   },
   "file_extension": ".py",
   "mimetype": "text/x-python",
   "name": "python",
   "nbconvert_exporter": "python",
   "pygments_lexer": "ipython2",
   "version": "2.7.14"
  }
 },
 "nbformat": 4,
 "nbformat_minor": 1
}
