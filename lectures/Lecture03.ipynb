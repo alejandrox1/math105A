{
 "cells": [
  {
   "cell_type": "markdown",
   "metadata": {
    "slideshow": {
     "slide_type": "slide"
    }
   },
   "source": [
    "# Rates of convergence \n",
    "# (compare with Lec 6)\n"
   ]
  },
  {
   "cell_type": "markdown",
   "metadata": {
    "slideshow": {
     "slide_type": "slide"
    }
   },
   "source": [
    "### Definition \n",
    "\n",
    "Suppose $\\{\\beta_n\\}_{n=1}^\\infty$, $\\beta_n > 0$ is a sequence known to converge to zero, and $\\{\\alpha_n\\}_{n=1}^\\infty$ converges to a number $\\alpha$.  If a positive constant $K$ exists such that\n",
    "\n",
    "$$ |\\alpha_n - \\alpha| \\leq K \\beta_n, $$\n",
    "\n",
    "the we say that $\\{\\alpha_n\\}_{n=1}^\\infty$ converges to $\\alpha$ with __rate__ (or __order__) $O(\\beta_n)$.\n",
    "\n",
    "In this case we also write\n",
    "\n",
    "$$ \\alpha_n = \\alpha + O(\\beta_n)$$\n",
    "\n",
    "to indicate that the error decays like $\\beta_n$."
   ]
  },
  {
   "cell_type": "markdown",
   "metadata": {
    "slideshow": {
     "slide_type": "slide"
    }
   },
   "source": [
    "### Example\n",
    "\n",
    "Consider $\\displaystyle \\alpha_n = \\log\\frac{n+1}{n}$. Find the rate of convergence.  "
   ]
  },
  {
   "cell_type": "markdown",
   "metadata": {
    "slideshow": {
     "slide_type": "slide"
    }
   },
   "source": [
    "We can also talk about order of convergence when we do not have a sequence:\n",
    "\n",
    "###  Definition\n",
    "\n",
    "Suppose that for a positive function $g(h) > 0$ we have $\\lim_{h\\to 0} g(h) = 0$.  We say that $f(h)$ converges to $L$ at $O(g(h))$ (equiv. $f(h) = L + O(g(h))$) if\n",
    "\n",
    "$$ |f(h) - L| \\leq K g(h) $$\n",
    "\n",
    "for some positive constant K."
   ]
  },
  {
   "cell_type": "markdown",
   "metadata": {
    "slideshow": {
     "slide_type": "slide"
    }
   },
   "source": [
    "### Example\n",
    "\n",
    "An approximation to the derivative of $\\sin(x)$ at $x = 0$ is given by\n",
    "\n",
    "$$ f(h) = \\frac{\\sin(h) - \\sin(0)}{h}. $$\n",
    "\n",
    "Show that $f(h) = 1 + O(h^2)$.  "
   ]
  },
  {
   "cell_type": "markdown",
   "metadata": {
    "slideshow": {
     "slide_type": "slide"
    }
   },
   "source": [
    "# Root-finding problem \n",
    "\n",
    "Given a continuous function $f$, we want to find points $x$ (called roots) where $f(x) = 0$.  \n",
    "\n",
    "Assume $f \\in C[a,b]$ and $f(a) < 0$ and $f(b) > 0$.  The case where $f(a) > 0$ and $f(b) < 0$ is analogous.  What we really require here is that $f(a)f(b) < 0$.\n",
    "\n",
    "From the intermediate value theorem, we are guaranteed to have at least one (could be many!) value $c$ such that $f(c) = 0$.  \n",
    "\n"
   ]
  },
  {
   "cell_type": "markdown",
   "metadata": {
    "slideshow": {
     "slide_type": "slide"
    }
   },
   "source": [
    "# Bisection Method\n",
    "\n",
    "We have that $f(a)f(b) < 0$.  Set $a_1 = a$ and $b_1 = b$.  Let $p_1  = (a_1+b_1)/2$.\n",
    "\n",
    "Then we look at the sign of $f(a)f(p_1)$.  \n",
    "\n",
    "* If $f(a)f(p_1) < 0$ then $f$ must have a root between $a$ and $p_1$.\n",
    "* If $f(a)f(p_1) > 0$ then $f$ must have a root between $p_1$ and $b$.\n",
    "\n",
    "After this process, we've narrowed our search for a root from the interval $[a,b]$ (has length $b-a)$) to either the interval\n",
    "\n",
    "$$ \\left[a, \\frac{a+b}{2} \\right] \\quad \\text{or} \\quad \\left[ \\frac{a+b}{2}, b \\right].$$\n",
    "\n",
    "These both have lengths $(b-a)/2$.  Assume $f(a)f(p_1) < 0$.  Then set $a_2 = a_1, b_2 = p_1, p_2 = (a_2+b_2)/2$ and repeat."
   ]
  },
  {
   "cell_type": "markdown",
   "metadata": {
    "slideshow": {
     "slide_type": "slide"
    }
   },
   "source": [
    "# Error Analysis \n",
    "\n",
    "We will now determine the order of convergence of the Bisection method.  In the algorithm we take $p_n$ (the definition of $p$ in the $n$th iteration) to be the approximation of the root:\n",
    "\n",
    "$$ p_1 = \\frac{a+b}{2}. $$\n",
    "\n",
    "Let $p^*$ be the actual root.  We then estimate\n",
    "\n",
    "$$ |p_1 - p^*| \\leq \\frac{b-a}{2}.$$\n",
    "\n",
    "So, the error in one step the bisection algorithm is bounded by half of the length of the interval that is being searched."
   ]
  },
  {
   "cell_type": "markdown",
   "metadata": {
    "slideshow": {
     "slide_type": "slide"
    }
   },
   "source": [
    "In the second step of the Bisection method we search an interval of length $(b-a)/2$ and so\n",
    "\n",
    "$$ |p_2 - p^*| \\leq \\frac{b-a}{4} = \\frac{b-a}{2^2}.$$\n",
    "\n",
    "From this, the general formula follows:\n",
    "\n",
    "#### Theorem\n",
    "\n",
    "Suppose that $f \\in C[a,b]$ and $f(a)\\cdot f(b) < 0$.  The Bisection method generates a sequence $\\{p_n\\}_{n=1}^\\infty$, approximating a root $p^*$ such that\n",
    "\n",
    "$$ |p_n - p^*| \\leq \\frac{b-a}{2^n}.$$\n",
    "\n",
    "Said another way, $p_n = p + O(2^{-n})$."
   ]
  },
  {
   "cell_type": "markdown",
   "metadata": {
    "slideshow": {
     "slide_type": "fragment"
    }
   },
   "source": [
    "Later we will consider other root-finding algorithms that converge faster. "
   ]
  },
  {
   "cell_type": "markdown",
   "metadata": {
    "slideshow": {
     "slide_type": "slide"
    }
   },
   "source": [
    "# Bisection Method in code"
   ]
  },
  {
   "cell_type": "code",
   "execution_count": 4,
   "metadata": {
    "collapsed": true,
    "slideshow": {
     "slide_type": "-"
    }
   },
   "outputs": [],
   "source": [
    "from bisection import different_sign, print_heading, print_row\n",
    "\n",
    "def bisection(func, low, high, n_max):\n",
    "    'Find root of continuous function where f(low) and f(high) have opposite signs'\n",
    "\n",
    "    assert different_sign(func(low), func(high))\n",
    "\n",
    "    print_heading() \n",
    "    \n",
    "    for i in range(n_max):\n",
    "        midpoint = (low + high) / 2.0\n",
    "        print_row(func, low, high, midpoint)\n",
    "        if different_sign(func(low), func(midpoint)):\n",
    "            high = midpoint\n",
    "        else:\n",
    "            low = midpoint\n",
    "\n",
    "    return midpoint"
   ]
  },
  {
   "cell_type": "markdown",
   "metadata": {
    "slideshow": {
     "slide_type": "slide"
    }
   },
   "source": [
    "# Bisection method in action"
   ]
  },
  {
   "cell_type": "markdown",
   "metadata": {
    "slideshow": {
     "slide_type": "-"
    }
   },
   "source": [
    "Suppose f(x) looks like this:"
   ]
  },
  {
   "cell_type": "code",
   "execution_count": 5,
   "metadata": {
    "slideshow": {
     "slide_type": "-"
    }
   },
   "outputs": [
    {
     "data": {
      "image/png": "[encoded data removed]",
      "text/plain": [
       "<matplotlib.figure.Figure at 0x11266d0f0>"
      ]
     },
     "metadata": {},
     "output_type": "display_data"
    }
   ],
   "source": [
    "import numpy as np \n",
    "from draw import graph_function\n",
    "\n",
    "f = lambda x: np.exp(-x) - x\n",
    "graph_function(f, y2=4)"
   ]
  },
  {
   "cell_type": "code",
   "execution_count": 6,
   "metadata": {
    "slideshow": {
     "slide_type": "fragment"
    }
   },
   "outputs": [
    {
     "name": "stdout",
     "output_type": "stream",
     "text": [
      "a_n\t\t b_n\t\t p_n\t\t f(p_n)\n",
      "-1.000000\t 1.000000\t 0.000000\t 1.000000\t\n",
      "0.000000\t 1.000000\t 0.500000\t 0.106531\t\n",
      "0.500000\t 1.000000\t 0.750000\t -0.277633\t\n",
      "0.500000\t 0.750000\t 0.625000\t -0.089739\t\n",
      "0.500000\t 0.625000\t 0.562500\t 0.007283\t\n",
      "0.562500\t 0.625000\t 0.593750\t -0.041498\t\n",
      "0.562500\t 0.593750\t 0.578125\t -0.017176\t\n",
      "0.562500\t 0.578125\t 0.570312\t -0.004964\t\n",
      "0.562500\t 0.570312\t 0.566406\t 0.001155\t\n",
      "0.566406\t 0.570312\t 0.568359\t -0.001905\t\n"
     ]
    }
   ],
   "source": [
    "root = bisection(f, -1, 1, 10)"
   ]
  }
 ],
 "metadata": {
  "celltoolbar": "Slideshow",
  "kernelspec": {
   "display_name": "Python 3",
   "language": "python",
   "name": "python3"
  },
  "language_info": {
   "codemirror_mode": {
    "name": "ipython",
    "version": 3
   },
   "file_extension": ".py",
   "mimetype": "text/x-python",
   "name": "python",
   "nbconvert_exporter": "python",
   "pygments_lexer": "ipython3",
   "version": "3.6.1"
  }
 },
 "nbformat": 4,
 "nbformat_minor": 1
}
