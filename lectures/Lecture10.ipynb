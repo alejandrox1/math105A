{
 "cells": [
  {
   "cell_type": "markdown",
   "metadata": {
    "slideshow": {
     "slide_type": "slide"
    }
   },
   "source": [
    "## Algorithmic deficiencies of Gaussian elimination (and back-substitution)"
   ]
  },
  {
   "cell_type": "markdown",
   "metadata": {
    "slideshow": {
     "slide_type": "slide"
    }
   },
   "source": [
    "Handwritten notes show how rank deficiency results in no unique solution and failure of Gaussian elimination."
   ]
  },
  {
   "cell_type": "markdown",
   "metadata": {
    "slideshow": {
     "slide_type": "slide"
    }
   },
   "source": [
    "#### Gaussian elimination (with contingency for rank deficiency)"
   ]
  },
  {
   "cell_type": "code",
   "execution_count": null,
   "metadata": {
    "collapsed": true,
    "slideshow": {
     "slide_type": "-"
    }
   },
   "outputs": [],
   "source": [
    "function A = GE(A):\n",
    "\n",
    "    INPUT: A is an n x n matrix\n",
    "\n",
    "    OUTPUT: A an n x n upper-triangular matrix, \n",
    "            or a message of failure\n",
    "\n",
    "    STEP 1: For i = 1,2,...,n-1 do STEPS 2-5\n",
    "      STEP 2: Let p >= i be the smallest integer s.t. A(p,i) != 0. \n",
    "      STEP 3: If p cannot be found then\n",
    "        DISPLAY('Method failed: matrix is rank deficient')\n",
    "        OUTPUT(A);\n",
    "        STOP.\n",
    "      STEP 4: If p > i do Ri <-> Rp on A\n",
    "      STEP 5: For j = i+1,i+2,...,n do STEP 6\n",
    "        STEP 6: Do R_j - A(j,i)/A(i,i) R_i --> R_j on A\n",
    "    STEP 7: If A(n,n) = 0\n",
    "      DISPLAY('Method failed: matrix is rank deficient')\n",
    "      OUTPUT(A)\n",
    "    STEP 8: OUTPUT(A); STOP."
   ]
  },
  {
   "cell_type": "markdown",
   "metadata": {
    "slideshow": {
     "slide_type": "slide"
    }
   },
   "source": [
    "#### Backward substitution (with contingency for rank deficiency)"
   ]
  },
  {
   "cell_type": "code",
   "execution_count": null,
   "metadata": {
    "collapsed": true
   },
   "outputs": [],
   "source": [
    "function x = Backsub(U)\n",
    "\n",
    "    INPUT: U is an n x (n + 1) upper-triangular matrix with non-zero diagonal entries\n",
    "\n",
    "    OUTPUT: the solution to U(1:n,1:n) x = U(1:n,n+1)\n",
    "\n",
    "    STEP 1: Set x = U(:,n+1)\n",
    "    STEP 2: \n",
    "        If U(n,n) = 0 then\n",
    "            OUTPUT('Method failed: singular matrix')\n",
    "            STOP.\n",
    "        Else set x(n) = U(n,n+1)/U(n,n)\n",
    "    STEP 3: For i = n-1,...,1 do STEP 4\n",
    "        STEP 4:\n",
    "          If U(i,i) = 0 then\n",
    "            OUTPUT('Method failed: singular matrix')\n",
    "            STOP.\n",
    "          Else set\n",
    "            x(i) = [U(i,n+1) - SUM( U(i,j)x(j), j= i+1,...,n )]\n",
    "            x(i) = x(i)/U(i,i)\n",
    "    STEP 5: OUTPUT(x); STOP."
   ]
  },
  {
   "cell_type": "markdown",
   "metadata": {
    "slideshow": {
     "slide_type": "slide"
    }
   },
   "source": [
    "Despite all the bells and whistles we have added to our algorithm, it can still run into trouble because of round-off error, as illustrated in the handwritten notes. "
   ]
  }
 ],
 "metadata": {
  "celltoolbar": "Slideshow",
  "kernelspec": {
   "display_name": "Python 2",
   "language": "python",
   "name": "python2"
  },
  "language_info": {
   "codemirror_mode": {
    "name": "ipython",
    "version": 2
   },
   "file_extension": ".py",
   "mimetype": "text/x-python",
   "name": "python",
   "nbconvert_exporter": "python",
   "pygments_lexer": "ipython2",
   "version": "2.7.14"
  }
 },
 "nbformat": 4,
 "nbformat_minor": 1
}
