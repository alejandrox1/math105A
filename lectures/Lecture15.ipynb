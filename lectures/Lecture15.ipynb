{
 "cells": [
  {
   "cell_type": "markdown",
   "metadata": {
    "slideshow": {
     "slide_type": "slide"
    }
   },
   "source": [
    "#### Example\n",
    "\n",
    "How do you perform an LU factorization of the matrix\n",
    "\n",
    "$$ A = \\begin{bmatrix} 0 & 1 & 1 \\\\ 1 & 1 & 1\\\\ -1 & 1 & -1 \\end{bmatrix}? $$"
   ]
  },
  {
   "cell_type": "markdown",
   "metadata": {
    "slideshow": {
     "slide_type": "subslide"
    }
   },
   "source": [
    "If we perform the row operation $R_1 \\leftrightarrow R_2$ first\n",
    "\n",
    "$$ A_1 = \\begin{bmatrix} 1 & 1 & 1 \\\\ 0 & 1 & 1\\\\ -1 & 1 & -1 \\end{bmatrix} $$"
   ]
  },
  {
   "cell_type": "markdown",
   "metadata": {
    "slideshow": {
     "slide_type": "subslide"
    }
   },
   "source": [
    "$$ A_1 = \\begin{bmatrix} 1 & 1 & 1 \\\\ 0 & 1 & 1\\\\ -1 & 1 & -1 \\end{bmatrix}  =  \\begin{bmatrix} 1 & 0 & 0 \\\\ 0 & 1 & 0\\\\ 0 & 0 & 1 \\end{bmatrix}\\begin{bmatrix} 1 & 1 & 1 \\\\ 0 & 1 & 1\\\\ -1 & 1 & -1 \\end{bmatrix}$$\n",
    "\n",
    "$$R_3 + R_1 \\to R_3$$\n",
    "\n",
    "$$ =  \\begin{bmatrix} 1 & 0 & 0 \\\\ 0 & 1 & 0\\\\ -1 & 0 & 1 \\end{bmatrix}\\begin{bmatrix} 1 & 1 & 1 \\\\ 0 & 1 & 1\\\\ 0 & 2 & 0 \\end{bmatrix}$$"
   ]
  },
  {
   "cell_type": "markdown",
   "metadata": {
    "slideshow": {
     "slide_type": "subslide"
    }
   },
   "source": [
    "Let's not do any more row operations:\n",
    "\n",
    "$$ A_1 =\\begin{bmatrix} 1 & 0 & 0 \\\\ 0 & 1 & 0\\\\ -1 & 0 & 1 \\end{bmatrix}\\begin{bmatrix} 1 & 1 & 1 \\\\ 0 & 1 & 1\\\\ 0 & 2 & 0 \\end{bmatrix}$$\n",
    "\n",
    "$$ R_3 - 2 R_2 \\to R_3$$\n",
    "\n",
    "$$ A_1 =\\begin{bmatrix} 1 & 0 & 0 \\\\ 0 & 1 & 0\\\\ -1 & 2 & 1 \\end{bmatrix}\\begin{bmatrix} 1 & 1 & 1 \\\\ 0 & 1 & 1\\\\ 0 & 0 & -2 \\end{bmatrix}$$"
   ]
  },
  {
   "cell_type": "markdown",
   "metadata": {
    "slideshow": {
     "slide_type": "slide"
    }
   },
   "source": [
    "But, if we want to factorize $A$, how is $A_1$ related to $A$?  It follows that all row operations are linear operations:\n",
    "\n",
    "If you do a row operation on a vector $v = \\alpha v_1 + \\beta v_2$ to get a vector $\\hat v$ it is the same as doing the row operation on $v_1$ and $v_2$ to get $\\hat v_1$ and $\\hat v_2$, respectively, and then $\\hat v = \\alpha \\hat v_1 + \\beta \\hat v_2$.\n",
    "\n",
    "This is important because it implies that all row operations have a matrix representation.  We've already found the matrix $L$ for $R_m + \\alpha R_p \\to R_m$ for $m > p$:\n",
    "\n",
    "$$L = (l_{ij}), \\quad l_{ij} = \\begin{cases} 1, & i =j\\\\\n",
    "\\alpha,& j = m, ~~ i = p,\\\\\n",
    "0, & \\text{otherwise}.\\end{cases}, ~~\\quad  L^{-1} = (l'_{ij}), \\quad l'_{ij} = \\begin{cases} 1, & i =j\\\\\n",
    "-\\alpha,& j = m, ~~ i = p,\\\\\n",
    "0, & \\text{otherwise}.\\end{cases}$$"
   ]
  },
  {
   "cell_type": "markdown",
   "metadata": {
    "slideshow": {
     "slide_type": "slide"
    }
   },
   "source": [
    "#### The matrix for $R_1 \\leftrightarrow R_2$\n",
    "\n",
    "To find the matrix representation for a (linear) transformation, you apply the transformation to each of the standard (basis) unit vectors:\n",
    "\n",
    "$$\\begin{bmatrix} 1 \\\\ 0 \\\\ 0 \\end{bmatrix} \\to \\begin{bmatrix} 0 \\\\ 1 \\\\ 0 \\end{bmatrix} $$\n",
    "\n",
    "$$\\begin{bmatrix} 0 \\\\ 1 \\\\ 0 \\end{bmatrix} \\to \\begin{bmatrix} 1 \\\\ 0 \\\\ 0 \\end{bmatrix} $$\n",
    "\n",
    "$$\\begin{bmatrix} 0 \\\\ 0 \\\\ 1 \\end{bmatrix} \\to \\begin{bmatrix} 0 \\\\ 0 \\\\ 1 \\end{bmatrix} $$"
   ]
  },
  {
   "cell_type": "markdown",
   "metadata": {
    "slideshow": {
     "slide_type": "slide"
    }
   },
   "source": [
    "We assemble the resulting columns into a matrix.  The $R_1 \\leftrightarrow R_2$ matrix is\n",
    "\n",
    "$$ P = \\begin{bmatrix} 0 & 1 & 0 \\\\ 1 & 0 & 0 \\\\ 0 & 0 & 1 \\end{bmatrix}$$\n",
    "\n",
    "This is called a __simple permutation matrix__ because it corresponds to ONE row interchange.  Another way of constructing the matrix associated with a row operation is:\n",
    "\n",
    "__To construct the matrix associated with a row operation, apply that row operation to the identity matrix.__"
   ]
  },
  {
   "cell_type": "markdown",
   "metadata": {
    "slideshow": {
     "slide_type": "slide"
    }
   },
   "source": [
    "A general simple permutation matrix corresponding to $R_m \\leftrightarrow R_k$ is given by\n",
    "\n",
    "$$ P = (p_{ij}), \\quad p_{ij} = \\begin{cases}1, & i = j \\text{ and } i \\neq m,p \\text{ and } j \\neq m,p\\\\\n",
    "1, & i = m, j = p \\text{ or } i = p, j = m\\\\\n",
    "0, & \\text{otherwise}.\\end{cases}$$\n",
    "\n",
    "It follows immediately, that $p_{ij} = p_{ji}$ so that $P^T = P$."
   ]
  },
  {
   "cell_type": "markdown",
   "metadata": {
    "slideshow": {
     "slide_type": "slide"
    }
   },
   "source": [
    "Returning to our example,\n",
    "\n",
    "$$ A = \\begin{bmatrix} 0 & 1 & 1 \\\\ 1 & 1 & 1\\\\ -1 & 1 & -1 \\end{bmatrix}. $$\n",
    "\n",
    "$$ PA = A_1 = \\begin{bmatrix} 1 & 0 & 0 \\\\ 0 & 1 & 0\\\\ -1 & 2 & 1 \\end{bmatrix}\\begin{bmatrix} 1 & 1 & 1 \\\\ 0 & 1 & 1\\\\ 0 & 0 & -2 \\end{bmatrix} = LU$$\n",
    "\n",
    "$$ A = P^{-1} LU$$\n",
    "\n",
    "It follows that $P^{-1} = P= P^T$.\n"
   ]
  },
  {
   "cell_type": "markdown",
   "metadata": {
    "slideshow": {
     "slide_type": "slide"
    }
   },
   "source": [
    "Consider a general __permutation matrix__, which we define to be the product of a number of simple permulation \n",
    "\n",
    "$$P = P_k P_{k-1} \\cdots P_{2} P_{1}.$$\n",
    "\n",
    "Notice that $P^T = P_1^T P_2^T \\cdots P_{k-1}^T P_k^T = P_1^{-1} P_2^{-1} \\cdots P_{k-1}^{-1} P_k^{-1} = P^{-1}$.\n",
    "\n"
   ]
  },
  {
   "cell_type": "markdown",
   "metadata": {
    "slideshow": {
     "slide_type": "slide"
    }
   },
   "source": [
    "## The permuted LU factorization\n",
    "\n",
    "Given an invertible matrix $A$, we want to find a permutation matrix $P$ such that\n",
    "\n",
    "$$PA = LU$$\n",
    "$$A = P^T LU$$\n",
    "\n",
    "where $L$ is a lower-triangular matrix with ones on the diagonal and $U$ is upper trianguler.  Note that such a factorization is NOT unique.  Different pivoting strategies give different permutation matrices."
   ]
  },
  {
   "cell_type": "markdown",
   "metadata": {
    "slideshow": {
     "slide_type": "slide"
    }
   },
   "source": [
    "#### Example\n",
    "\n",
    "Compute the permuted $LU$ factorization for $A$ using partial pivoting\n",
    "\n",
    "$$ A = \\begin{bmatrix} 0 & 1 & 1 \\\\ 1 & 1 & 1\\\\ -1 & 1 & -1 \\end{bmatrix} $$"
   ]
  },
  {
   "cell_type": "markdown",
   "metadata": {
    "slideshow": {
     "slide_type": "subslide"
    }
   },
   "source": [
    "You should check the following.  If $P_1A$ swaps rows $i$ and $j$ of the matrix $A$ then $AP_1$ swaps __columns__ $i$ and $j$ of $A$.\n",
    "\n",
    "To compute this factorization, we first write\n",
    "\n",
    "$$ A = \\begin{bmatrix} 1 & 0 & 0 \\\\ 0 & 1 & 0 \\\\ 0 & 0 & 1 \\end{bmatrix} \\begin{bmatrix} 1 & 0 & 0 \\\\ 0 & 1 & 0 \\\\ 0 & 0 & 1 \\end{bmatrix}  \\begin{bmatrix} 0 & 1 & 1 \\\\ 1 & 1 & 1\\\\ -1 & 1 & -1 \\end{bmatrix} $$\n",
    "\n",
    "These two identity matrices will be used to capture both the $P$ and $L$ in the matrix factorization\n",
    "\n"
   ]
  },
  {
   "cell_type": "markdown",
   "metadata": {
    "slideshow": {
     "slide_type": "subslide"
    }
   },
   "source": [
    "$$ A = \\begin{bmatrix} 1 & 0 & 0 \\\\ 0 & 1 & 0 \\\\ 0 & 0 & 1 \\end{bmatrix} \\begin{bmatrix} 1 & 0 & 0 \\\\ 0 & 1 & 0 \\\\ 0 & 0 & 1 \\end{bmatrix}  \\begin{bmatrix} 0 & 1 & 1 \\\\ 1 & 1 & 1\\\\ -1 & 1 & -1 \\end{bmatrix} $$\n",
    "\n",
    "We first must swap the rows one and two (following partial pivoting).  Let $P_1$ be the matrix that corresponds to this.  Because $P_1 = P_1^{-1}$ we can write:\n",
    "\n",
    "$$ A = \\begin{bmatrix} 1 & 0 & 0 \\\\ 0 & 1 & 0 \\\\ 0 & 0 & 1 \\end{bmatrix} P_1 P_1 \\begin{bmatrix} 1 & 0 & 0 \\\\ 0 & 1 & 0 \\\\ 0 & 0 & 1 \\end{bmatrix} P_1 P_1 \\begin{bmatrix} 0 & 1 & 1 \\\\ 1 & 1 & 1\\\\ -1 & 1 & -1 \\end{bmatrix} $$"
   ]
  },
  {
   "cell_type": "markdown",
   "metadata": {
    "slideshow": {
     "slide_type": "subslide"
    }
   },
   "source": [
    "$$ A = \\begin{bmatrix} 1 & 0 & 0 \\\\ 0 & 1 & 0 \\\\ 0 & 0 & 1 \\end{bmatrix} P_1P_1 \\begin{bmatrix} 1 & 0 & 0 \\\\ 0 & 1 & 0 \\\\ 0 & 0 & 1 \\end{bmatrix} P_1 \\begin{bmatrix} 1 & 1 & 1 \\\\ 0 & 1 & 1\\\\ -1 & 1 & -1 \\end{bmatrix} $$\n",
    "\n",
    "The matrix $P_1 I P_1 = I$.  As we progress, this will not always happen.  Recall that multiplication on the right by $P_1$ corresponds to column swaps:\n",
    "\n",
    "$$ A = \\begin{bmatrix} 0 & 1 & 0 \\\\ 1 & 0 & 0 \\\\ 0 & 0 & 1 \\end{bmatrix}  \\begin{bmatrix} 1 & 0 & 0 \\\\ 0 & 1 & 0 \\\\ 0 & 0 & 1 \\end{bmatrix} \\begin{bmatrix} 1 & 1 & 1 \\\\ 0 & 1 & 1\\\\ -1 & 1 & -1 \\end{bmatrix} $$"
   ]
  },
  {
   "cell_type": "markdown",
   "metadata": {
    "slideshow": {
     "slide_type": "subslide"
    }
   },
   "source": [
    "Now we perform the row operation $R_3 + R_1 \\to R_3$.  This modifies the matrix that will become $L$ in the $A = P^T LU$ factorization\n",
    "\n",
    "$$ A = \\begin{bmatrix} 0 & 1 & 0 \\\\ 1 & 0 & 0 \\\\ 0 & 0 & 1 \\end{bmatrix}  \\begin{bmatrix} 1 & 0 & 0 \\\\ 0 & 1 & 0 \\\\ -1 & 0 & 1 \\end{bmatrix} \\begin{bmatrix} 1 & 1 & 1 \\\\ 0 & 1 & 1\\\\ 0 & 2 & 0 \\end{bmatrix} $$\n",
    "\n",
    "Following the rules of partial pivoting, we must swap rows 2 and 3.  Let $P_2$ be the matrix that does this:\n",
    "\n",
    "$$ A = \\begin{bmatrix} 0 & 1 & 0 \\\\ 1 & 0 & 0 \\\\ 0 & 0 & 1 \\end{bmatrix} P_2 P_2 \\begin{bmatrix} 1 & 0 & 0 \\\\ 0 & 1 & 0 \\\\ -1 & 0 & 1 \\end{bmatrix} P_2P_2 \\begin{bmatrix} 1 & 1 & 1 \\\\ 0 & 1 & 1\\\\ 0 & 2 & 0 \\end{bmatrix} $$"
   ]
  },
  {
   "cell_type": "markdown",
   "metadata": {
    "slideshow": {
     "slide_type": "subslide"
    }
   },
   "source": [
    "$$ A = \\begin{bmatrix} 0 & 1 & 0 \\\\ 1 & 0 & 0 \\\\ 0 & 0 & 1 \\end{bmatrix} P_2 P_2 \\begin{bmatrix} 1 & 0 & 0 \\\\ 0 & 1 & 0 \\\\ -1 & 0 & 1 \\end{bmatrix} P_2 \\begin{bmatrix} 1 & 1 & 1 \\\\ 0 & 2 & 0\\\\ 0 & 1 & 1 \\end{bmatrix} $$\n",
    "\n",
    "$$ A = \\begin{bmatrix} 0 & 1 & 0 \\\\ 1 & 0 & 0 \\\\ 0 & 0 & 1 \\end{bmatrix} P_2 P_2 \\begin{bmatrix} 1 & 0 & 0 \\\\ 0 & 0 & 1 \\\\ -1 & 1 & 0 \\end{bmatrix}  \\begin{bmatrix} 1 & 1 & 1 \\\\ 0 & 2 & 0\\\\ 0 & 1 & 1 \\end{bmatrix} $$"
   ]
  },
  {
   "cell_type": "markdown",
   "metadata": {
    "slideshow": {
     "slide_type": "subslide"
    }
   },
   "source": [
    "$$ A = \\begin{bmatrix} 0 & 1 & 0 \\\\ 1 & 0 & 0 \\\\ 0 & 0 & 1 \\end{bmatrix} P_2 \\begin{bmatrix} 1 & 0 & 0 \\\\ -1 & 1 & 0 \\\\ 0 & 0 & 1 \\end{bmatrix}  \\begin{bmatrix} 1 & 1 & 1 \\\\ 0 & 2 & 0\\\\ 0 & 1 & 1 \\end{bmatrix} $$\n",
    "\n",
    "$$ A = \\begin{bmatrix} 0 & 0 & 1 \\\\ 1 & 0 & 0 \\\\ 0 & 1 & 0 \\end{bmatrix} \\begin{bmatrix} 1 & 0 & 0 \\\\ -1 & 1 & 0 \\\\ 0 & 0 & 1 \\end{bmatrix}  \\begin{bmatrix} 1 & 1 & 1 \\\\ 0 & 2 & 0\\\\ 0 & 1 & 1 \\end{bmatrix} $$"
   ]
  },
  {
   "cell_type": "markdown",
   "metadata": {
    "slideshow": {
     "slide_type": "subslide"
    }
   },
   "source": [
    "We have one final row operation: $R_3 - 1/2 R_2 \\to R_3$\n",
    "\n",
    "$$ A = \\begin{bmatrix} 0 & 0 & 1 \\\\ 1 & 0 & 0 \\\\ 0 & 1 & 0 \\end{bmatrix} \\begin{bmatrix} 1 & 0 & 0 \\\\ -1 & 1 & 0 \\\\ 0 & 1/2 & 1 \\end{bmatrix}  \\begin{bmatrix} 1 & 1 & 1 \\\\ 0 & 2 & 0\\\\ 0 & 0 & 1 \\end{bmatrix} $$"
   ]
  },
  {
   "cell_type": "markdown",
   "metadata": {
    "slideshow": {
     "slide_type": "slide"
    }
   },
   "source": [
    "#### Two factorizations: \n",
    "\n",
    "Naive Gaussian elimination:\n",
    "$$A = \\begin{bmatrix} 0 & 1 & 0 \\\\ 1 & 0 & 0 \\\\ 0 & 0 & 1 \\end{bmatrix}\\begin{bmatrix} 1 & 0 & 0 \\\\ 0 & 1 & 0\\\\ -1 & 2 & 1 \\end{bmatrix}\\begin{bmatrix} 1 & 1 & 1 \\\\ 0 & 1 & 1\\\\ 0 & 0 & -2 \\end{bmatrix} = P^T LU$$\n",
    "\n",
    "Partial pivoting:\n",
    "$$ A = \\begin{bmatrix} 0 & 0 & 1 \\\\ 1 & 0 & 0 \\\\ 0 & 1 & 0 \\end{bmatrix} \\begin{bmatrix} 1 & 0 & 0 \\\\ -1 & 1 & 0 \\\\ 0 & 1/2 & 1 \\end{bmatrix}  \\begin{bmatrix} 1 & 1 & 1 \\\\ 0 & 2 & 0\\\\ 0 & 0 & 1 \\end{bmatrix} = P^TLU$$"
   ]
  },
  {
   "cell_type": "markdown",
   "metadata": {
    "slideshow": {
     "slide_type": "fragment"
    }
   },
   "source": [
    "The entries of $L$ for partial pivoting will always be less than one!"
   ]
  }
 ],
 "metadata": {
  "celltoolbar": "Slideshow",
  "kernelspec": {
   "display_name": "Python 2",
   "language": "python",
   "name": "python2"
  },
  "language_info": {
   "codemirror_mode": {
    "name": "ipython",
    "version": 2
   },
   "file_extension": ".py",
   "mimetype": "text/x-python",
   "name": "python",
   "nbconvert_exporter": "python",
   "pygments_lexer": "ipython2",
   "version": "2.7.14"
  }
 },
 "nbformat": 4,
 "nbformat_minor": 1
}
