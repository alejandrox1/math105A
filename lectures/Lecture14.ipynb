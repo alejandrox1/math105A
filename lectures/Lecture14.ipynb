{
 "cells": [
  {
   "cell_type": "markdown",
   "metadata": {
    "slideshow": {
     "slide_type": "slide"
    }
   },
   "source": [
    "### Matrix factorization"
   ]
  },
  {
   "cell_type": "markdown",
   "metadata": {
    "slideshow": {
     "slide_type": "slide"
    }
   },
   "source": [
    "Let $L$ be a lower-triangular matrix ($n \\times n$) and $U$ be an upper-triangular matrix (also $n \\times n$).\n",
    "\n",
    "We've discussed how to solve $Ux = y$ with backward substitution:\n",
    "\n",
    "$$ x_i = \\frac{\\displaystyle y_i - \\sum_{j = i+1}^n u_{ij}x_j}{u_{ii}},\\quad i = n, n-1, \\ldots, 2,1.$$\n",
    "\n",
    "We also discussed how to solve $Ly = b$ with forward substitution:\n",
    "\n",
    "$$ y_i = \\frac{\\displaystyle b_i - \\sum_{j=1}^{i-1} l_{ij} y_j }{l_{ii}}, \\quad i = 1,2,\\ldots,n-1,n.$$"
   ]
  },
  {
   "cell_type": "markdown",
   "metadata": {
    "slideshow": {
     "slide_type": "slide"
    }
   },
   "source": [
    "### Using an LU factorization\n",
    "\n",
    "Assume that we can express $A = LU$ and we want to solve $Ax=b$:\n",
    "\n",
    "$$A x = LU x = b = L(Ux) = b.$$\n",
    "\n",
    "1. Solve for $y = Ux$ which is given by $Ly = b$ by forward substitution.\n",
    "2. Solve $Ux = y$ for $x$, because $U$ and $y$ are now known by backward substitution.\n"
   ]
  },
  {
   "cell_type": "markdown",
   "metadata": {
    "slideshow": {
     "slide_type": "slide"
    }
   },
   "source": [
    "### Operation count\n",
    "\n",
    "Recall from Lecture 9 that backward substitution requires\n",
    "\n",
    "$$  \\frac{n^2+3n}{2} \\quad \\text{multiplications, and}\\\\\n",
    "\\frac{n^2+n}{2} \\quad \\text{additions.}$$\n",
    "\n",
    "The same is true of forward substitution."
   ]
  },
  {
   "cell_type": "markdown",
   "metadata": {
    "slideshow": {
     "slide_type": "slide"
    }
   },
   "source": [
    "To solve $Ax = b$ when a factorization $A = LU$ is known requires\n",
    "\n",
    "$$  {n^2+3n} \\quad \\text{multiplications, and}\\\\\n",
    "{n^2+n} \\quad \\text{additions.}$$\n",
    "\n",
    "This should be compared with Gaussian elimination with backward substitution (or worse, matrix inversion) that requires $\\sim n^3/3$ operations."
   ]
  },
  {
   "cell_type": "markdown",
   "metadata": {
    "slideshow": {
     "slide_type": "slide"
    }
   },
   "source": [
    "Even if you could compute $A^{-1}$ for free, computing $x = A^{-1}b$ requires (again, see Lecture 9) $n^2$ multiplications and $n^2-n$ additions.  This is nearly the same number of operations as the $LU$ method.<br><br><br>\n",
    "\n",
    "### Having an LU factorization of a matrix is just as good (if not better) as having the inverse matrix"
   ]
  },
  {
   "cell_type": "markdown",
   "metadata": {
    "collapsed": true,
    "slideshow": {
     "slide_type": "slide"
    }
   },
   "source": [
    "#### The LU factorization algorithm\n",
    "\n",
    "Assume $A$ is an $n\\times n$ matrix that can be put in upper-triangular form without row swaps (we'll deal with those next lecture).\n",
    "\n",
    "Consider the $3\\times 3$ case first\n",
    "\n",
    "$$A = \\begin{bmatrix} a_{11} & a_{12} & a_{13} \\\\ a_{21} & a_{22} & a_{23} \\\\ a_{31} & a_{32} & a_{33} \\end{bmatrix}$$\n",
    "\n",
    "$$ R_2 - \\frac{a_{21}}{a_{11}}R_1 \\to R_1$$"
   ]
  },
  {
   "cell_type": "markdown",
   "metadata": {
    "slideshow": {
     "slide_type": "slide"
    }
   },
   "source": [
    "$$ R_2 - \\frac{a_{21}}{a_{11}}R_1 \\to R_1$$\n",
    "\n",
    "$$A = \\begin{bmatrix} a_{11} & a_{12} & a_{13} \\\\ 0 & a^{(1)}_{22} & a^{(1)}_{23} \\\\ a_{31} & a_{32} & a_{33} \\end{bmatrix}$$\n",
    "\n",
    "Here $a^{(1)}_{22} = a_{22} - a_{12} \\frac{a_{21}}{a_{11}}$ and $a^{(1)}_{23}= a_{23} - a_{13} \\frac{a_{21}}{a_{11}}$. The question that will lead us to an $LU$ factorization is:  What type of matrix does this row operation correspond to?"
   ]
  },
  {
   "cell_type": "markdown",
   "metadata": {
    "slideshow": {
     "slide_type": "slide"
    }
   },
   "source": [
    "$$ \\begin{bmatrix} 1 & 0 & 0 \\\\ 0 & 1 & 0 \\\\ 0 & 0 & 1 \\end{bmatrix}\\begin{bmatrix} a_{11} & a_{12} & a_{13} \\\\ a_{21} & a_{22} & a_{23} \\\\ a_{31} & a_{32} & a_{33} \\end{bmatrix} =\\begin{bmatrix} a_{11} & a_{12} & a_{13} \\\\ a_{21} & a_{22} & a_{23} \\\\ a_{31} & a_{32} & a_{33} \\end{bmatrix}$$\n",
    "\n",
    "$$ \\begin{bmatrix} 1 & 0 & 0 \\\\ -a_{21}/a_{11} & 1 & 0 \\\\ 0 & 0 & 1 \\end{bmatrix}\\begin{bmatrix} a_{11} & a_{12} & a_{13} \\\\ a_{21} & a_{22} & a_{23} \\\\ a_{31} & a_{32} & a_{33} \\end{bmatrix} =\\begin{bmatrix} a_{11} & a_{12} & a_{13} \\\\ 0 & a^{(1)}_{22} & a^{(1)}_{23} \\\\ a_{31} & a_{32} & a_{33} \\end{bmatrix}$$"
   ]
  },
  {
   "cell_type": "markdown",
   "metadata": {
    "slideshow": {
     "slide_type": "slide"
    }
   },
   "source": [
    "Recall that the goal is to express $A = LU$, so we find the inverse of the lower-triangular matrix on the left-hand side:\n",
    "\n",
    "$$\\begin{bmatrix} 1 & 0 & 0 \\\\ a_{21}/a_{11} & 1 & 0 \\\\ 0 & 0 & 1 \\end{bmatrix}\\begin{bmatrix} 1 & 0 & 0 \\\\ -a_{21}/a_{11} & 1 & 0 \\\\ 0 & 0 & 1 \\end{bmatrix} = \\begin{bmatrix} 1 & 0 & 0 \\\\ 0 & 1 & 0 \\\\ 0 & 0 & 1 \\end{bmatrix} $$"
   ]
  },
  {
   "cell_type": "markdown",
   "metadata": {
    "slideshow": {
     "slide_type": "slide"
    }
   },
   "source": [
    "So, after a single step, we have found\n",
    "\n",
    "$$\\begin{bmatrix} a_{11} & a_{12} & a_{13} \\\\ a_{21} & a_{22} & a_{23} \\\\ a_{31} & a_{32} & a_{33} \\end{bmatrix} =\\begin{bmatrix} 1 & 0 & 0 \\\\ a_{21}/a_{11} & 1 & 0 \\\\ 0 & 0 & 1 \\end{bmatrix}\\begin{bmatrix} a_{11} & a_{12} & a_{13} \\\\ 0 & a^{(1)}_{22} & a^{(1)}_{23} \\\\ a_{31} & a_{32} & a_{33} \\end{bmatrix}$$\n",
    "\n",
    "This is closer to a lower/upper factorization."
   ]
  },
  {
   "cell_type": "markdown",
   "metadata": {
    "slideshow": {
     "slide_type": "slide"
    }
   },
   "source": [
    "If we perform the row operation $R_{3} - \\frac{a_{31}}{a_{11}} R_1 \\to R_3$ which corresponds to\n",
    "\n",
    "$$\\begin{bmatrix} 1 & 0 & 0 \\\\ 0 & 1 & 0 \\\\ - a_{31}/a_{11} & 0 & 1 \\end{bmatrix}\\begin{bmatrix} a_{11} & a_{12} & a_{13} \\\\ 0 & a^{(1)}_{22} & a^{(1)}_{23} \\\\ a_{31} & a_{32} & a_{33} \\end{bmatrix} = \\begin{bmatrix} a_{11} & a_{12} & a_{13} \\\\ 0 & a^{(1)}_{22} & a^{(1)}_{23} \\\\ 0 & a^{(1)}_{32} & a^{(1)}_{33} \\end{bmatrix}$$\n",
    "\n",
    "where $a^{(1)}_{32} = a_{32} - a_{12} \\frac{a_{31}}{a_{11}}$ and $a^{(1)}_{33} = a_{33} - a_{13} \\frac{a_{31}}{a_{11}}$"
   ]
  },
  {
   "cell_type": "markdown",
   "metadata": {
    "slideshow": {
     "slide_type": "slide"
    }
   },
   "source": [
    "The inverse of the lower-triangular factor can be confirmed\n",
    "\n",
    "$$\\begin{bmatrix} 1 & 0 & 0 \\\\ 0 & 1 & 0 \\\\  a_{31}/a_{11} & 0 & 1 \\end{bmatrix}\\begin{bmatrix} 1 & 0 & 0 \\\\ 0 & 1 & 0 \\\\ - a_{31}/a_{11} & 0 & 1 \\end{bmatrix} = \\begin{bmatrix} 1 & 0 & 0 \\\\ 0 & 1 & 0 \\\\ 0& 0 & 1 \\end{bmatrix}$$"
   ]
  },
  {
   "cell_type": "markdown",
   "metadata": {
    "slideshow": {
     "slide_type": "slide"
    }
   },
   "source": [
    "We use this with our expression from the first step\n",
    "\n",
    "$$\\begin{bmatrix} a_{11} & a_{12} & a_{13} \\\\ 0 & a^{(1)}_{22} & a^{(1)}_{23} \\\\ a_{31} & a_{32} & a_{33} \\end{bmatrix} = \\begin{bmatrix} 1 & 0 & 0 \\\\ 0 & 1 & 0 \\\\  a_{31}/a_{11} & 0 & 1 \\end{bmatrix}\\begin{bmatrix} a_{11} & a_{12} & a_{13} \\\\ 0 & a^{(1)}_{22} & a^{(1)}_{23} \\\\ 0 & a^{(1)}_{32} & a^{(1)}_{33} \\end{bmatrix}$$\n",
    "\n",
    "$$\\begin{bmatrix} a_{11} & a_{12} & a_{13} \\\\ a_{21} & a_{22} & a_{23} \\\\ a_{31} & a_{32} & a_{33} \\end{bmatrix} =\\begin{bmatrix} 1 & 0 & 0 \\\\ a_{21}/a_{11} & 1 & 0 \\\\ 0 & 0 & 1 \\end{bmatrix}\\begin{bmatrix} a_{11} & a_{12} & a_{13} \\\\ 0 & a^{(1)}_{22} & a^{(1)}_{23} \\\\ a_{31} & a_{32} & a_{33} \\end{bmatrix}$$"
   ]
  },
  {
   "cell_type": "markdown",
   "metadata": {
    "slideshow": {
     "slide_type": "slide"
    }
   },
   "source": [
    "$$\\begin{bmatrix} a_{11} & a_{12} & a_{13} \\\\ a_{21} & a_{22} & a_{23} \\\\ a_{31} & a_{32} & a_{33} \\end{bmatrix} =\\begin{bmatrix} 1 & 0 & 0 \\\\ a_{21}/a_{11} & 1 & 0 \\\\ 0 & 0 & 1 \\end{bmatrix} \\begin{bmatrix} 1 & 0 & 0 \\\\ 0 & 1 & 0 \\\\  a_{31}/a_{11} & 0 & 1 \\end{bmatrix}\\begin{bmatrix} a_{11} & a_{12} & a_{13} \\\\ 0 & a^{(1)}_{22} & a^{(1)}_{23} \\\\ 0 & a^{(1)}_{32} & a^{(1)}_{33} \\end{bmatrix}$$\n",
    "$$\\begin{bmatrix} a_{11} & a_{12} & a_{13} \\\\ a_{21} & a_{22} & a_{23} \\\\ a_{31} & a_{32} & a_{33} \\end{bmatrix} =\\begin{bmatrix} 1 & 0 & 0 \\\\ a_{21}/a_{11} & 1 & 0 \\\\ a_{31}/a_{11} & 0 & 1 \\end{bmatrix} \\begin{bmatrix} a_{11} & a_{12} & a_{13} \\\\ 0 & a^{(1)}_{22} & a^{(1)}_{23} \\\\ 0 & a^{(1)}_{32} & a^{(1)}_{33} \\end{bmatrix}$$\n",
    "\n",
    "This brings us very close to an $LU$ factorization"
   ]
  },
  {
   "cell_type": "markdown",
   "metadata": {
    "slideshow": {
     "slide_type": "slide"
    }
   },
   "source": [
    "For the last step, we need to perform $R_3 - \\frac{a^{(1)}_{32}}{a^{(1)}_{22}} R_2 \\to R_3$\n",
    "\n",
    "$$ \\begin{bmatrix} 1 & 0 & 0 \\\\ 0 & 1 & 0 \\\\  0 & -a^{(1)}_{32}/a^{(1)}_{22} & 1 \\end{bmatrix} \\begin{bmatrix} a_{11} & a_{12} & a_{13} \\\\ 0 & a^{(1)}_{22} & a^{(1)}_{23} \\\\ 0 & a^{(1)}_{32} & a^{(1)}_{33} \\end{bmatrix} = \\begin{bmatrix} a_{11} & a_{12} & a_{13} \\\\ 0 & a^{(1)}_{22} & a^{(1)}_{23} \\\\ 0 & 0 & a^{(2)}_{33} \\end{bmatrix}$$\n",
    "\n",
    "where $a^{(2)}_{33} = a^{(1)}_{33} - a^{(1)}_{23} \\frac{a^{(1)}_{32}}{a^{(1)}_{22}}$."
   ]
  },
  {
   "cell_type": "markdown",
   "metadata": {
    "slideshow": {
     "slide_type": "slide"
    }
   },
   "source": [
    "Again, you can check that the inverse of the matrix on the left is simple\n",
    "\n",
    "$$ \\begin{bmatrix} 1 & 0 & 0 \\\\ 0 & 1 & 0 \\\\  0 & a^{(1)}_{32}/a^{(1)}_{22} & 1 \\end{bmatrix}  \\begin{bmatrix} 1 & 0 & 0 \\\\ 0 & 1 & 0 \\\\  0 & -a^{(1)}_{32}/a^{(1)}_{22} & 1 \\end{bmatrix}  = \\begin{bmatrix} 1 & 0 & 0 \\\\ 0 & 1 & 0 \\\\  0 & 0 & 1 \\end{bmatrix} $$\n",
    "\n",
    "$$\\begin{bmatrix} a_{11} & a_{12} & a_{13} \\\\ 0 & a^{(1)}_{22} & a^{(1)}_{23} \\\\ 0 & a^{(1)}_{32} & a^{(1)}_{33} \\end{bmatrix} = \\begin{bmatrix} 1 & 0 & 0 \\\\ 0 & 1 & 0 \\\\  0 & a^{(1)}_{32}/a^{(1)}_{22} & 1 \\end{bmatrix} \\begin{bmatrix} a_{11} & a_{12} & a_{13} \\\\ 0 & a^{(1)}_{22} & a^{(1)}_{23} \\\\ 0 & 0 & a^{(2)}_{33} \\end{bmatrix}$$"
   ]
  },
  {
   "cell_type": "markdown",
   "metadata": {
    "slideshow": {
     "slide_type": "slide"
    }
   },
   "source": [
    "Inserting this into the existing factorization:\n",
    "$$\\begin{bmatrix} a_{11} & a_{12} & a_{13} \\\\ a_{21} & a_{22} & a_{23} \\\\ a_{31} & a_{32} & a_{33} \\end{bmatrix} =\\begin{bmatrix} 1 & 0 & 0 \\\\ a_{21}/a_{11} & 1 & 0 \\\\ a_{31}/a_{11} & 0 & 1 \\end{bmatrix} \\begin{bmatrix} a_{11} & a_{12} & a_{13} \\\\ 0 & a^{(1)}_{22} & a^{(1)}_{23} \\\\ 0 & a^{(1)}_{32} & a^{(1)}_{33} \\end{bmatrix}$$\n",
    "\n",
    "$$\\begin{bmatrix} a_{11} & a_{12} & a_{13} \\\\ a_{21} & a_{22} & a_{23} \\\\ a_{31} & a_{32} & a_{33} \\end{bmatrix} =\\begin{bmatrix} 1 & 0 & 0 \\\\ a_{21}/a_{11} & 1 & 0 \\\\ a_{31}/a_{11} & 0 & 1 \\end{bmatrix} \\begin{bmatrix} 1 & 0 & 0 \\\\ 0 & 1 & 0 \\\\  0 & a^{(1)}_{32}/a^{(1)}_{22} & 1 \\end{bmatrix} \\begin{bmatrix} a_{11} & a_{12} & a_{13} \\\\ 0 & a^{(1)}_{22} & a^{(1)}_{23} \\\\ 0 & 0 & a^{(2)}_{33} \\end{bmatrix}$$"
   ]
  },
  {
   "cell_type": "markdown",
   "metadata": {
    "slideshow": {
     "slide_type": "slide"
    }
   },
   "source": [
    "This inner factors simplify and we have an LU factorization\n",
    "\n",
    "$$\\begin{bmatrix} a_{11} & a_{12} & a_{13} \\\\ a_{21} & a_{22} & a_{23} \\\\ a_{31} & a_{32} & a_{33} \\end{bmatrix} =\\begin{bmatrix} 1 & 0 & 0 \\\\ a_{21}/a_{11} & 1 & 0 \\\\ a_{31}/a_{11} & a^{(1)}_{32}/a^{(1)}_{22} & 1 \\end{bmatrix} \\begin{bmatrix} a_{11} & a_{12} & a_{13} \\\\ 0 & a^{(1)}_{22} & a^{(1)}_{23} \\\\ 0 & 0 & a^{(2)}_{33} \\end{bmatrix}$$"
   ]
  },
  {
   "cell_type": "markdown",
   "metadata": {
    "slideshow": {
     "slide_type": "slide"
    }
   },
   "source": [
    "#### Example\n",
    "\n",
    "Compute the $LU$ factorization of\n",
    "\n",
    "$$A = \\begin{bmatrix} 1 & -1 & 1 \\\\ 2 & -3 & 4 \\\\ 1 & 1 & 1 \\end{bmatrix}. $$"
   ]
  },
  {
   "cell_type": "code",
   "execution_count": null,
   "metadata": {
    "collapsed": true,
    "slideshow": {
     "slide_type": "slide"
    }
   },
   "outputs": [],
   "source": [
    "The LU algorithm (no row interchanges)\n",
    "\n",
    "INPUT a n x n matrix A\n",
    "\n",
    "OUTPUT the LU factorization of A, or a message of failure\n",
    "\n",
    "STEP 1: Set L to be the n x n identity matrix;\n",
    "STEP 2: For j = 1, 2, ...,n do STEPS 3-4\n",
    "  STEP 3: If A(j,j) = 0\n",
    "            OUTPUT('LU Factorization failed')\n",
    "            STOP.\n",
    "  STEP 4: For i = j+1, j+2, ... , n do STEPS 5-6\n",
    "    STEP 5: Set L(i,j) = A(i,j)/A(j,j);\n",
    "    STEP 6: Perform row operation Ri - L(i,j)*Rj --> Ri on A;\n",
    "STEP 7: OUTPUT([L,A]);\n",
    "  "
   ]
  },
  {
   "cell_type": "code",
   "execution_count": null,
   "metadata": {
    "collapsed": true,
    "slideshow": {
     "slide_type": "slide"
    }
   },
   "outputs": [],
   "source": [
    "function [L,A] = LU(A)\n",
    "   % this function will give two output matrices\n",
    "end"
   ]
  },
  {
   "cell_type": "code",
   "execution_count": 3,
   "metadata": {
    "slideshow": {
     "slide_type": "slide"
    }
   },
   "outputs": [
    {
     "name": "stdout",
     "output_type": "stream",
     "text": [
      "A =\n",
      "\n",
      "    0.7922    0.8491    0.7431    0.7060\n",
      "    0.9595    0.9340    0.3922    0.0318\n",
      "    0.6557    0.6787    0.6555    0.2769\n",
      "    0.0357    0.7577    0.1712    0.0462\n",
      "\n",
      "\n",
      "L =\n",
      "\n",
      "    1.0000         0         0         0\n",
      "    1.2112    1.0000         0         0\n",
      "    0.8277    0.2554    1.0000         0\n",
      "    0.0451   -7.6181  -21.9384    1.0000\n",
      "\n",
      "\n",
      "U =\n",
      "\n",
      "    0.7922    0.8491    0.7431    0.7060\n",
      "   -0.0000   -0.0944   -0.5078   -0.8233\n",
      "    0.0000         0    0.1701   -0.0972\n",
      "   -0.0000         0         0   -8.3903\n",
      "\n",
      "\n",
      "ans =\n",
      "\n",
      "   2.3420e-15\n"
     ]
    }
   ],
   "source": [
    "A = rand(4)\n",
    "[L,U] = LU(A);\n",
    "L\n",
    "U\n",
    "norm(A-L*U)"
   ]
  },
  {
   "cell_type": "code",
   "execution_count": null,
   "metadata": {
    "collapsed": true
   },
   "outputs": [],
   "source": []
  }
 ],
 "metadata": {
  "celltoolbar": "Slideshow",
  "kernelspec": {
   "display_name": "Python 2",
   "language": "python",
   "name": "python2"
  },
  "language_info": {
   "codemirror_mode": {
    "name": "ipython",
    "version": 2
   },
   "file_extension": ".py",
   "mimetype": "text/x-python",
   "name": "python",
   "nbconvert_exporter": "python",
   "pygments_lexer": "ipython2",
   "version": "2.7.14"
  }
 },
 "nbformat": 4,
 "nbformat_minor": 1
}
