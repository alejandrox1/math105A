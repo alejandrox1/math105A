{
 "cells": [
  {
   "cell_type": "markdown",
   "metadata": {
    "slideshow": {
     "slide_type": "slide"
    }
   },
   "source": [
    "## Error Analysis for Iterative Methods\n",
    "\n",
    "We've discussed three iterative methods:\n",
    "\n",
    "1. Bisection\n",
    "2. Fixed-point iteration\n",
    "3. Newton's method\n",
    "\n",
    "For Bisection, we saw that $p_n = p + O(1/2^n)$.  For, fixed-point iteration we have $p_n = p + O(K^n)$ where $K$ is the upper bound on the absolute value of the derivative.  And for Newton's method $p_n = p + O(K^n)$ for all $0 < K < 1$.\n",
    "\n",
    "We introduce some definitions to classify these methods."
   ]
  },
  {
   "cell_type": "markdown",
   "metadata": {
    "slideshow": {
     "slide_type": "slide"
    }
   },
   "source": [
    "##### Definition (Order of convergence)\n",
    "\n",
    "Suppose $\\{p_n\\}_{n=0}^\\infty$ is a sequence that converges to $p$ with $p_n \\neq p$ for all $n$.  If positive constants $\\lambda$ and $\\alpha$ exist such that\n",
    "\n",
    "$$ \\lim_{n \\to \\infty} \\frac{|p_{n+1}-p|}{|p_{n}-p|^\\alpha} = \\lambda,$$\n",
    "\n",
    "then $\\{p_n\\}_{n=0}^\\infty$ __converges to $p$ to order__ $\\alpha$, __with asymptotic order constant $\\lambda$__."
   ]
  },
  {
   "cell_type": "markdown",
   "metadata": {
    "slideshow": {
     "slide_type": "fragment"
    }
   },
   "source": [
    "Two cases are of particular interest:\n",
    "\n",
    "1. If $\\alpha = 1$ (and $\\lambda < 1$) the sequence is linearly convergent.\n",
    "2. If $\\alpha = 2$, the sequence is quadratically convergent."
   ]
  },
  {
   "cell_type": "markdown",
   "metadata": {
    "slideshow": {
     "slide_type": "slide"
    }
   },
   "source": [
    "### Quadratic convergence is faster than linear convergence\n",
    "\n",
    "Assume $p_n \\to p$, linearly, with constant $\\lambda = .5$.  Also assume $q_n \\to p$, quadratically, with the same constant.  Then\n",
    "\n",
    "$$ \\lim_{n \\to \\infty} \\frac{|p_{n+1} - p|}{|p_{n}-p|} = .5, \\quad \\lim_{n \\to \\infty} \\frac{|q_{n+1} - p|}{|q_{n}-p|^2} = .5.$$\n",
    "\n",
    "Let's assume that $|p_0 -p|, ~|q_0-q| < 1$.  Then\n",
    "\n",
    "$$ \\frac{|p_{n+1} - p|}{|p_{n}-p|} \\approx .5, \\quad \\frac{|q_{n+1} - p|}{|q_{n}-p|^2} \\approx .5$$\n",
    "\n"
   ]
  },
  {
   "cell_type": "markdown",
   "metadata": {
    "slideshow": {
     "slide_type": "slide"
    }
   },
   "source": [
    "Then\n",
    "\n",
    "$$|p_{n+1} - p|\\approx (.5){|p_{n}-p|}, \\quad |q_{n+1} - p|\\approx (.5){|q_{n}-p|^2}.$$\n",
    "\n"
   ]
  },
  {
   "cell_type": "markdown",
   "metadata": {
    "slideshow": {
     "slide_type": "fragment"
    }
   },
   "source": [
    "$$|p_{n+1} - p|\\approx (.5){|p_{n}-p|} \\approx (.5)^2{|p_{n-1}-p|} \n",
    "\\approx (.5)^{3}{|p_{n-2}-p|} \\approx \\cdots $$\n",
    "\n"
   ]
  },
  {
   "cell_type": "markdown",
   "metadata": {
    "slideshow": {
     "slide_type": "fragment"
    }
   },
   "source": [
    "$$|q_{n+1} - p|\\approx (.5){|q_{n}-p|^2} \\approx (.5)^3{|q_{n-1}-p|^4} \\approx \n",
    "(.5)^{7}{|q_{n-2}-p|^{8}} \\approx \\cdots $$\n",
    "\n"
   ]
  },
  {
   "cell_type": "markdown",
   "metadata": {
    "slideshow": {
     "slide_type": "slide"
    }
   },
   "source": [
    "#### Theorem 1 (order of convergence of arbitrary fixed-point iteration scheme)\n",
    "\n",
    "Let $g \\in C[a,b]$ be such that $g(x) \\in [a,b]$ for all $x \\in [a,b]$.  Suppose, in addition, that $g'$ exists on $(a,b)$ and there exists $0 \\leq K < 1$ such that\n",
    "\n",
    "$$ |g'(x)| \\leq K, \\quad \\text{ for all } ~~ x \\in [a,b]. $$\n",
    "\n",
    "If $p$ is the unique fixed point and $g'(p) \\neq 0$ then for $p_0 \\in [a,b]$ the sequence $p_n = g(p_{n-1})$ converges to $p$ only linearly with asymptotic error constant \n",
    "\n",
    "$$ \\lambda = |g'(p)|$$\n",
    "\n",
    "(if $p_n \\neq p$ for all $n$)."
   ]
  },
  {
   "cell_type": "markdown",
   "metadata": {
    "slideshow": {
     "slide_type": "subslide"
    }
   },
   "source": [
    "#### Proof\n",
    "\n",
    "Based on the previous theorem for convergence of fixed-point iteration, we know that $p_{n} \\to p$.  It then follows that \n",
    "\n",
    "$$ \\lim_{n \\to \\infty} \\frac{g(p_n)- g(p)}{p_n - p} = g'(p).$$\n",
    "\n"
   ]
  },
  {
   "cell_type": "markdown",
   "metadata": {
    "slideshow": {
     "slide_type": "fragment"
    }
   },
   "source": [
    "$$ \\lim_{n \\to \\infty} \\frac{|g(p_n)- g(p)|}{|p_n - p|} = |g'(p)|$$\n",
    "\n",
    "\n",
    "\n"
   ]
  },
  {
   "cell_type": "markdown",
   "metadata": {
    "slideshow": {
     "slide_type": "fragment"
    }
   },
   "source": [
    "$$ \\lim_{n \\to \\infty} \\frac{|p_{n+1} - p|}{|p_n - p|} = |g'(p)|$$"
   ]
  },
  {
   "cell_type": "markdown",
   "metadata": {
    "slideshow": {
     "slide_type": "slide"
    }
   },
   "source": [
    "It is immediately clear that something special happens when $g'(p) = 0$ for a fixed point $p$.  This next theorem helps describe this behavior.\n",
    "\n",
    "#### Theorem 2 (order of convergence of special fixed-point scheme)\n",
    "\n",
    "Let $p = (a+b)/2 \\in (a,b)$ be a fixed point of $g \\in C^2[a,b]$.  Suppose that $g'(p) = 0$ and $|g'(x)| \\leq K < 1$ for $x \\in [a,b]$.  For $p_0 \\in [a,b]$, the sequence $p_n = g(p_{n-1})$ converges at least quadradically to $p$ with asymptotic rate constant $\\lambda = |g''(p)|/2$."
   ]
  },
  {
   "cell_type": "markdown",
   "metadata": {
    "slideshow": {
     "slide_type": "subslide"
    }
   },
   "source": [
    "#### Proof\n",
    "\n",
    "\n",
    "Let $x \\in [a,b]$.  By the Mean-Value Theorem, for some $\\xi$ between $x$ and $p$\n",
    "\n",
    "$$ g(x) = g(p) + g'(\\xi)(x-p) = p + g'(\\xi)(x-p).$$\n",
    "\n",
    "Then using that $|x-p| \\leq (b-a)/2$\n",
    "$$g(x) = p + g'(\\xi)(x-p) \\leq p + |g'(\\xi)||x-p| \\leq (b+a)/2 + (b-a)/2 = b\\\\\n",
    " g(x) = p + g'(\\xi)(x-p) \\geq p - |g'(\\xi)||x-p| \\geq (b+a)/2 - (b-a)/2 = a.$$\n",
    " \n",
    "So, $g(x) \\in [a,b]$ for $x \\in [a,b]$.  We now know that $p_n \\to p$, the unique fixed point.\n"
   ]
  },
  {
   "cell_type": "markdown",
   "metadata": {
    "slideshow": {
     "slide_type": "subslide"
    }
   },
   "source": [
    "We use Taylor's theorem to state that for some $\\xi \\in [a,b]$ (between $p$ and $x$ actually)\n",
    "\n",
    "$$ g(x) = g(p) + g'(p)(x-p) + \\frac{g''(\\xi)}{2}(x-p)^2 \\\\= g(p) + \\frac{g''(\\xi)}{2}(x-p)^2.$$\n",
    "\n",
    "If $x = p_{n}$ we find for some $\\xi_n$ between $p$ and $p_n$.\n",
    "\n",
    "$$\\frac{p_{n+1}-p}{(p_n-p)^2}  = \\frac{g''(\\xi_n)}{2}.$$\n",
    "\n",
    "Then $\\xi_n \\to p$ as $n \\to \\infty$ (it is closer to $p$ than $p_n$ is) and so\n",
    "\n",
    "$$\\lim_{n \\to \\infty} \\frac{|p_{n+1}-p|}{|p_n-p|^2} = \\lim_{n \\to \\infty} \\frac{|g''(\\xi_n)|}{2} = \\frac{|g''(p)|}{2}.$$"
   ]
  },
  {
   "cell_type": "markdown",
   "metadata": {
    "slideshow": {
     "slide_type": "slide"
    }
   },
   "source": [
    "###  Summary: A fixed-point iteration scheme converges quadratically if $g'(p) = 0$. \n",
    "\n"
   ]
  },
  {
   "cell_type": "markdown",
   "metadata": {
    "slideshow": {
     "slide_type": "fragment"
    }
   },
   "source": [
    "This is something satisfied by Newton's method with $g(x) = x - f(x)/f'(x)$ because then \n",
    "\n",
    "$$g'(x) = \\frac{f(x)f''(x)}{[f'(x)]^2}$$\n",
    "\n",
    "where is zero at the fixed point.\n",
    "\n"
   ]
  },
  {
   "cell_type": "markdown",
   "metadata": {
    "slideshow": {
     "slide_type": "fragment"
    }
   },
   "source": [
    "#### Conclusion: Newton converges faster than an arbitrary fixed-point scheme"
   ]
  },
  {
   "cell_type": "markdown",
   "metadata": {
    "slideshow": {
     "slide_type": "slide"
    }
   },
   "source": [
    "### Multiple roots\n",
    "\n",
    "A function $f(x)$ has a __zero of mutiplicity $m$__ (or __of order $m$__) at $x = p$ if for $x \\neq p$ we can write $f(x) = (x-p)^m q(x)$ where $q(p) \\neq 0$.\n",
    "\n",
    "\n",
    "\n"
   ]
  },
  {
   "cell_type": "markdown",
   "metadata": {
    "slideshow": {
     "slide_type": "fragment"
    }
   },
   "source": [
    "The following can be proved using Taylor's Theorem:\n",
    "\n",
    "### Theorem 3\n",
    "\n",
    "A function $f \\in C^m[a,b]$ has a zero of multiplicity $m$ at $p \\in (a,b)$ if and only if\n",
    "\n",
    "$$ 0 = f(p) = f'(p) = \\cdots = f^{(m-1)}(p), \\quad \\text{but} \\quad f^{(m)}(p) \\neq 0.$$\n"
   ]
  },
  {
   "cell_type": "markdown",
   "metadata": {
    "slideshow": {
     "slide_type": "slide"
    }
   },
   "source": [
    "Suppose the solution to $f(x)= 0$ is $p$, but $f'(p) = 0$. Solving this equation is a problem for Newton's method, if we use the iteration function,\n",
    "\n",
    "$$ g(x) = x - f(x)/f'(x),$$\n",
    "\n",
    "because it will force the computer to divide by small numbers, magnifying the effect of round-off error. \n",
    "\n"
   ]
  },
  {
   "cell_type": "markdown",
   "metadata": {
    "slideshow": {
     "slide_type": "fragment"
    }
   },
   "source": [
    "We also cannot guarantee that $g'(p) = f(p)f''(p)/(f'(p))^2$ is zero, i.e. we cannot guarantee quadratic convergence (by Theorem 2)."
   ]
  },
  {
   "cell_type": "markdown",
   "metadata": {
    "slideshow": {
     "slide_type": "fragment"
    }
   },
   "source": [
    "One way around this problem is to make use of the fact that there are other functional iteration schemes we could use. \n",
    "\n"
   ]
  },
  {
   "cell_type": "markdown",
   "metadata": {
    "slideshow": {
     "slide_type": "fragment"
    }
   },
   "source": [
    "In particular, we will construct a new function $\\mu(x)$ out of $f(x)$ that has a simple zero at $x=p$, i.e. $\\mu'(p) \\neq 0$, and then apply Newton to $\\mu(x)$."
   ]
  },
  {
   "cell_type": "markdown",
   "metadata": {
    "slideshow": {
     "slide_type": "slide"
    }
   },
   "source": [
    "### Modified Newton's method \n",
    "\n",
    "More generally, let $f(x)$ have a zero of multiplicity $m$ at $x = p$. Let's take the problematic $f/f'$ and turn it to our advantage by considering the function\n",
    "\n",
    "$$\\mu(x) = \\frac{f(x)}{f'(x)} = \\frac{(x-p)^m q(x)}{m(x-p)^{m-1} q(x) + (x-p)^m q'(x)} \\\\\n",
    "= (x-p) \\frac{q(x)}{m q(x) + (x-p) q'(x)}$$\n",
    "\n"
   ]
  },
  {
   "cell_type": "markdown",
   "metadata": {
    "slideshow": {
     "slide_type": "fragment"
    }
   },
   "source": [
    "It follows that $\\lim_{x \\to p} \\mu(x)/(x-p) = 1/m \\neq 0$, or $\\mu(x)$ has a simple zero at $x=p$, which is equivalent to saying that $\\mu'(p) \\neq 0 $ (by Theorem 3). \n",
    "\n"
   ]
  },
  {
   "cell_type": "markdown",
   "metadata": {
    "slideshow": {
     "slide_type": "slide"
    }
   },
   "source": [
    "And so, to find a zero of $f(x)$ when $f$ has a zero of higher multiplicity we can apply Newton's method to $\\mu(x)$, i.e. choose $g(x)$ to be\n",
    "\n",
    "$$g(x) = x - \\frac{\\mu(x)}{\\mu'(x)} = x - \\frac{f(x)f'(x)}{[f'(x)]^2 - f(x)f''(x)}.$$\n",
    "\n",
    "This can work well in some cases."
   ]
  }
 ],
 "metadata": {
  "celltoolbar": "Slideshow",
  "kernelspec": {
   "display_name": "Python 2",
   "language": "python",
   "name": "python2"
  },
  "language_info": {
   "codemirror_mode": {
    "name": "ipython",
    "version": 2
   },
   "file_extension": ".py",
   "mimetype": "text/x-python",
   "name": "python",
   "nbconvert_exporter": "python",
   "pygments_lexer": "ipython2",
   "version": "2.7.14"
  }
 },
 "nbformat": 4,
 "nbformat_minor": 1
}
