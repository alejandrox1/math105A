{
 "cells": [
  {
   "cell_type": "markdown",
   "metadata": {
    "collapsed": true,
    "slideshow": {
     "slide_type": "slide"
    }
   },
   "source": [
    "## Zeros of polynomials"
   ]
  },
  {
   "cell_type": "markdown",
   "metadata": {
    "slideshow": {
     "slide_type": "slide"
    }
   },
   "source": [
    "#### Definition\n",
    "\n",
    "A __polynomial of degree (or order) $n$__ is given by\n",
    "\n",
    "$$P(x) = a_n x^n + a_{n-1} x^{n-1} + \\cdots + a_1 x + a_0.$$\n",
    "\n",
    "The numbers $\\{a_i\\}_{i=0}^n$ are called the coefficients."
   ]
  },
  {
   "cell_type": "markdown",
   "metadata": {
    "slideshow": {
     "slide_type": "slide"
    }
   },
   "source": [
    "#### Theorem ([Fundamental Theorem of Algebra](https://en.wikipedia.org/wiki/Fundamental_theorem_of_algebra))\n",
    "\n",
    "A polynomial $P(x)$ with real or complex coefficients has $n$ (possibly repeated and possibly complex) roots.  Furthermore, for some (possibly complex) values $x_1,x_2,\\ldots,x_k$, and integers $m_1,m_2,\\ldots,m_k$\n",
    "\n",
    "$$P(x) = a_n (x-x_1)^{m_1} (x-x_2)^{m_2} \\cdots (x-x_k)^{m_k}, \\quad \\sum_{j=1}^k m_k = n.$$\n",
    "\n"
   ]
  },
  {
   "cell_type": "markdown",
   "metadata": {
    "slideshow": {
     "slide_type": "fragment"
    }
   },
   "source": [
    "#### Corollary [Aside]\n",
    "\n",
    "Suppose $P(x)$ and $Q(x)$ are polynomials of degree $n$.  If there are $n+1$ distinct points $x_1,x_2,\\ldots,x_{n+1}$ (on the real axis or in the complex plane) such that $P(x_i) = Q(x_i)$, then $P(x) = Q(x)$ for all $x$. [Proof [here](https://trans4mind.com/personal_development/mathematics/polynomials/polyNomialsIdntical.htm)]"
   ]
  },
  {
   "cell_type": "markdown",
   "metadata": {
    "slideshow": {
     "slide_type": "slide"
    }
   },
   "source": [
    "# A need to speed up polynomial evaluation\n",
    "\n",
    "The roots of a polynomial equation, $P(x) = 0$, could be found by Bisection or Fixed-point iteration. Both require computing $P(x)$ at various value of $x$, which can be computationally intensive because there are so many multiplications and additions in a (high-degree) polynomial.\n",
    "\n"
   ]
  },
  {
   "cell_type": "markdown",
   "metadata": {
    "slideshow": {
     "slide_type": "fragment"
    }
   },
   "source": [
    "Better convergence is achieved by using the Newton method, but the trade-off is that there are even more multiplications and divisions because not only $P(x)$ but also $P'(x)$ needs to be computed. \n",
    "\n"
   ]
  },
  {
   "cell_type": "markdown",
   "metadata": {
    "slideshow": {
     "slide_type": "fragment"
    }
   },
   "source": [
    "In Lec 2, we realized that nesting a polynomial reduced the number of operations needed to compute it. Now we introduce a systematic method, Horner's method, that effectively does computes a nested representation of a polynomial. "
   ]
  },
  {
   "cell_type": "markdown",
   "metadata": {
    "slideshow": {
     "slide_type": "slide"
    }
   },
   "source": [
    "# [Horner's Method](https://en.wikipedia.org/wiki/Horner%27s_method) (for efficiently computing polynomials)\n",
    "\n",
    "### Theorem\n",
    "\n",
    "Let\n",
    "\n",
    "$$P(x) = a_n x^n + a_{n-1} x^{n-1} + \\cdots + a_1 x + a_0.$$\n",
    "\n",
    "Define $b_n = a_n$ and\n",
    "\n",
    "$$ b_k = a_k + b_{k+1}x_0, \\quad \\text{for } k = n-1, n-2,\\ldots,1,0.$$\n",
    "\n",
    "Then $b_0 = P(x_0)$. Moreover, if\n",
    "\n",
    "$$ Q(x) = b_n x^{n-1} + b_{n-1} x^{n-2} + \\cdots + b_2 x + b_1,$$\n",
    "\n",
    "then\n",
    "\n",
    "$$ P(x) = (x-x_0) Q(x) + b_0.$$"
   ]
  },
  {
   "cell_type": "markdown",
   "metadata": {
    "slideshow": {
     "slide_type": "slide"
    }
   },
   "source": [
    "#### Proof\n",
    "\n",
    "If we can prove the last claim then $P(x_0) = b_0$.  So, consider\n",
    "\n",
    "$$ (x-x_0) Q(x) + b_0\\\\\n",
    "= x Q(x) - x_0 Q(x) + b_0\\\\\n",
    "= b_n x^{n} + b_{n-1} x^{n-1} + \\cdots + b_2 x^2 + b_1 x\\\\\n",
    "- b_n x_0 x^{n-1} - b_{n-1} x_0 x^{n-2} - \\cdots - b_2 x_0 x - b_1 x_0 + b_0$$\n",
    "\n",
    "Collecting the powers, we find\n",
    "\n",
    "* $b_n x^n = a_n x^n$ (by definition)\n",
    "* $(b_{n-1} - b_n x_0) x^{n-1} = a_{n-1} x^{n-1}$\n",
    "* $(b_{n-2} - b_{n-1} x_0) x^{n-2} = a_{n-1} x^{n-2}$\n",
    "* $\\vdots$\n",
    "* $ b_0 - b_1 x_0 = a_0$"
   ]
  },
  {
   "cell_type": "markdown",
   "metadata": {
    "slideshow": {
     "slide_type": "slide"
    }
   },
   "source": [
    "This we have an iterative and computationally efficient method for computing $P(x_0)$.   \n",
    "\n"
   ]
  },
  {
   "cell_type": "markdown",
   "metadata": {
    "slideshow": {
     "slide_type": "fragment"
    }
   },
   "source": [
    "Now, recall that we are interested in speeding up Newtons method, which calls for not only $P(x_0)$, but also $P'(x_0)$. \n",
    "\n"
   ]
  },
  {
   "cell_type": "markdown",
   "metadata": {
    "collapsed": true,
    "slideshow": {
     "slide_type": "fragment"
    }
   },
   "source": [
    "But here's the clever part: \n",
    "\n",
    "$$ P'(x) = Q(x) + (x-x_0)Q'(x) \\quad\\Rightarrow\\quad P'(x_0) = Q(x_0).$$\n",
    "\n"
   ]
  },
  {
   "cell_type": "markdown",
   "metadata": {
    "slideshow": {
     "slide_type": "fragment"
    }
   },
   "source": [
    "### Summary: using Horner's method to speed up Newton's method \n",
    "\n",
    "* use Horner's method to compute $P(x_0)$ and the coefficients of $Q(x)$\n",
    "* use Horner's method to compute $Q(x_0)$, which is $P'(x_0)$"
   ]
  }
 ],
 "metadata": {
  "celltoolbar": "Slideshow",
  "kernelspec": {
   "display_name": "Python 2",
   "language": "python",
   "name": "python2"
  },
  "language_info": {
   "codemirror_mode": {
    "name": "ipython",
    "version": 2
   },
   "file_extension": ".py",
   "mimetype": "text/x-python",
   "name": "python",
   "nbconvert_exporter": "python",
   "pygments_lexer": "ipython2",
   "version": "2.7.14"
  }
 },
 "nbformat": 4,
 "nbformat_minor": 1
}
