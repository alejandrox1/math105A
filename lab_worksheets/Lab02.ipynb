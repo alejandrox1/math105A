{
 "cells": [
  {
   "cell_type": "markdown",
   "metadata": {},
   "source": [
    "This lab will be mostly focused on implementing efficient algorithms. While we are not going to place huge focus on the efficiency of the algorithms we write, we are going to make sure we understand the basics."
   ]
  },
  {
   "cell_type": "markdown",
   "metadata": {},
   "source": [
    "# Evaluating Taylor polynomials"
   ]
  },
  {
   "cell_type": "markdown",
   "metadata": {},
   "source": [
    "Consider the Taylor series expansion for $\\log(x)$ about $x = 1$:\n",
    "\n",
    "$$\\log(x) = \\sum_{n=1}^\\infty \\frac{(-1)^{n+1} (x-1)^{n}}{n}. $$\n",
    "\n",
    "The partial sums are given by\n",
    "\n",
    "$$P_N(x) = \\sum_{n=1}^N \\frac{(-1)^{n+1} (x-1)^{n}}{n}. $$\n",
    "\n",
    "Here is some example code that is not efficient to compute $P_N(x)$"
   ]
  },
  {
   "cell_type": "code",
   "execution_count": 5,
   "metadata": {
    "scrolled": false
   },
   "outputs": [
    {
     "name": "stdout",
     "output_type": "stream",
     "text": [
      "partial sum =  0.0953101798035\n",
      "full sum =  0.0953101798043\n",
      "time taken to execute code =  0.00073504447937\n"
     ]
    }
   ],
   "source": [
    "x_value = 1.1\n",
    "def partial_sum_slow(x, N=10):    \n",
    "    partial_sum = 0.0   \n",
    "    for n in range(1,N+1):\n",
    "        partial_sum += (-1)**(n+1)*(x-1)**n/n\n",
    "    return partial_sum\n",
    "\n",
    "import numpy as np \n",
    "\n",
    "import time\n",
    "start = time.time()\n",
    "print 'partial sum = ', partial_sum_slow(x_value)\n",
    "print 'full sum = ', np.log(x_value)\n",
    "end = time.time()\n",
    "print 'time taken to execute code = ', end - start"
   ]
  },
  {
   "cell_type": "markdown",
   "metadata": {},
   "source": [
    "# Exercise 1\n",
    "\n",
    "Modify the above code for computing $P_N(x)$ such that it counts the total number operations (multiplications/divisions and additions/subtractions). For simplicity consider $a^k$ as $k-1$ multiplications. Vary $N$; how does the number of operations scale with $N$? "
   ]
  },
  {
   "cell_type": "code",
   "execution_count": 2,
   "metadata": {},
   "outputs": [
    {
     "name": "stdout",
     "output_type": "stream",
     "text": [
      "number of operations =  None\n",
      "number of terms =  10\n"
     ]
    }
   ],
   "source": [
    "def partial_sum_slow(x, N):     \n",
    "    # your code here \n",
    "    return None, None \n",
    "\n",
    "N = 10\n",
    "partial_sum, number_operations = partial_sum_slow(x_value, N)\n",
    "print 'number of operations = ', number_operations\n",
    "print 'number of terms = ', N"
   ]
  },
  {
   "cell_type": "markdown",
   "metadata": {},
   "source": [
    "By the way, in the code cell above, I made use of the following very useful Python syntax that 'unpacks' the tuple $(1,2)$ and assigns the values of its elements to the variables `a` and `b`: "
   ]
  },
  {
   "cell_type": "code",
   "execution_count": 3,
   "metadata": {},
   "outputs": [
    {
     "name": "stdout",
     "output_type": "stream",
     "text": [
      "1\n",
      "2\n"
     ]
    }
   ],
   "source": [
    "a, b = (1,2)\n",
    "print a\n",
    "print b"
   ]
  },
  {
   "cell_type": "markdown",
   "metadata": {},
   "source": [
    "# Exercise 2\n",
    "\n",
    "Write code to compute $P_N(x)$ that needs only $4N$ operations to compute $N$ terms. Call this `partial_sum_fast`. [Hint: rather than compute each term of the sum anew, instead compute the numerator of the term using the numerator of the previous term!]"
   ]
  },
  {
   "cell_type": "code",
   "execution_count": 4,
   "metadata": {},
   "outputs": [
    {
     "name": "stdout",
     "output_type": "stream",
     "text": [
      "number of operations =  None\n",
      "number of terms =  100\n"
     ]
    }
   ],
   "source": [
    "def partial_sum_fast(x, N):    \n",
    "    # your code here \n",
    "    return None, None \n",
    "\n",
    "N = 100\n",
    "partial_sum, number_operations = partial_sum_fast(x_value, N)\n",
    "print 'number of operations = ', number_operations\n",
    "print 'number of terms = ', N"
   ]
  },
  {
   "cell_type": "code",
   "execution_count": null,
   "metadata": {
    "collapsed": true
   },
   "outputs": [],
   "source": []
  }
 ],
 "metadata": {
  "kernelspec": {
   "display_name": "Python 2",
   "language": "python",
   "name": "python2"
  },
  "language_info": {
   "codemirror_mode": {
    "name": "ipython",
    "version": 2
   },
   "file_extension": ".py",
   "mimetype": "text/x-python",
   "name": "python",
   "nbconvert_exporter": "python",
   "pygments_lexer": "ipython2",
   "version": "2.7.14"
  }
 },
 "nbformat": 4,
 "nbformat_minor": 2
}
