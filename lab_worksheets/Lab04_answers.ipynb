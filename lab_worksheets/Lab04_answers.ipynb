{
 "cells": [
  {
   "cell_type": "markdown",
   "metadata": {},
   "source": [
    "This lab will be mostly focused on constructing loops inside of loops."
   ]
  },
  {
   "cell_type": "markdown",
   "metadata": {},
   "source": [
    "# Exercise 1: Summing matrix entries\n",
    "\n",
    "Oftentimes we want to generate a random matrix to test an algorithm. \n",
    "Here is how you generate an $n \\times m$ matrix with randomly chosen elements (lying between 0 and 1):"
   ]
  },
  {
   "cell_type": "code",
   "execution_count": 1,
   "metadata": {},
   "outputs": [
    {
     "data": {
      "text/plain": [
       "array([[ 0.42244471,  0.24864564,  0.59533135],\n",
       "       [ 0.22606616,  0.73560283,  0.11541708]])"
      ]
     },
     "execution_count": 1,
     "metadata": {},
     "output_type": "execute_result"
    }
   ],
   "source": [
    "import numpy as np \n",
    "number_rows = 2\n",
    "number_cols = 3\n",
    "np.random.rand(number_rows,number_cols)"
   ]
  },
  {
   "cell_type": "markdown",
   "metadata": {},
   "source": [
    "### Question\n",
    "Write a function that returns the sum of the elements of a random matrix of size $n\\times n$. The implementation should involve looping through the matrix' elements. "
   ]
  },
  {
   "cell_type": "markdown",
   "metadata": {},
   "source": [
    "### Solution"
   ]
  },
  {
   "cell_type": "code",
   "execution_count": 2,
   "metadata": {},
   "outputs": [
    {
     "data": {
      "text/plain": [
       "3.2474913052059522"
      ]
     },
     "execution_count": 2,
     "metadata": {},
     "output_type": "execute_result"
    }
   ],
   "source": [
    "def sum_matrix(n): \n",
    "    s = 0.0\n",
    "    A = np.random.rand(n,n)\n",
    "    for i in range(n): \n",
    "        for j in range(n): \n",
    "            s += A[i,j]\n",
    "    return s"
   ]
  },
  {
   "cell_type": "markdown",
   "metadata": {},
   "source": [
    "### Question\n",
    "Plot \n",
    "$$\\frac{1}{n^2} \\texttt{sum_matrix(n)}$$\n",
    "\n",
    "against $n$. What value does the function approach as $n$ approaches infinity? Why do you think it approaches that value? "
   ]
  },
  {
   "cell_type": "markdown",
   "metadata": {},
   "source": [
    "#### Hint \n",
    "You might want to feed a `numpy` array into `sum_matrix` and get back an array of the output values. You can do this, but you must first **vectorize** `sum_matrix`. The syntax is:"
   ]
  },
  {
   "cell_type": "code",
   "execution_count": 4,
   "metadata": {
    "collapsed": true
   },
   "outputs": [],
   "source": [
    "def f(): \n",
    "    pass \n",
    "f_vectorized = np.vectorize(f)"
   ]
  },
  {
   "cell_type": "markdown",
   "metadata": {},
   "source": [
    "#### Hint\n",
    "You may find it useful to be able to divide two `numpy` arrays element-wise. Here's an example doing that:"
   ]
  },
  {
   "cell_type": "code",
   "execution_count": 3,
   "metadata": {},
   "outputs": [
    {
     "name": "stdout",
     "output_type": "stream",
     "text": [
      "m =  [ 0.  1.  2.  3.]\n",
      "n =  [ 1.  2.  3.  4.]\n",
      "m/n =  [ 0.          0.5         0.66666667  0.75      ]\n"
     ]
    }
   ],
   "source": [
    "m = np.array(range(0,4), dtype=float) \n",
    "print 'm = ', m\n",
    "n = np.array(range(1,5), dtype=float) \n",
    "print 'n = ', n\n",
    "print 'm/n = ', m/n"
   ]
  },
  {
   "cell_type": "markdown",
   "metadata": {},
   "source": [
    "Notice that in the above code snippet, I chose to make the elements of the arrays `m` and `n` of type `float`. In Python 2, when both `m` and `n` are of an integer type, `m/n` will do integer arithmetic, i.e. return the quotient, which is not what we want. "
   ]
  },
  {
   "cell_type": "markdown",
   "metadata": {},
   "source": [
    "### Solution"
   ]
  },
  {
   "cell_type": "code",
   "execution_count": 5,
   "metadata": {},
   "outputs": [
    {
     "data": {
      "text/plain": [
       "Text(0.5,0,u'n')"
      ]
     },
     "execution_count": 5,
     "metadata": {},
     "output_type": "execute_result"
    },
    {
     "data": {
      "image/png": "[encoded data removed]",
      "text/plain": [
       "<matplotlib.figure.Figure at 0x1052f0710>"
      ]
     },
     "metadata": {},
     "output_type": "display_data"
    }
   ],
   "source": [
    "from matplotlib import pyplot as plt \n",
    "%matplotlib inline \n",
    "\n",
    "n = np.array(range(1,100)) \n",
    "sum_matrix_vectorized = np.vectorize(sum_matrix)\n",
    "normalized_sum = sum_matrix_vectorized(n)/(n*n) # elementwise division\n",
    "\n",
    "plt.plot(n,normalized_sum)\n",
    "plt.gca().set_ylim([0, 1])    \n",
    "plt.ylabel('normalized matrix sum')\n",
    "plt.xlabel('n')"
   ]
  },
  {
   "cell_type": "markdown",
   "metadata": {},
   "source": [
    "We see that the normalized matrix sum approaches 0.5. This is because this number is \n",
    "\n",
    "$$ Z_m = \\frac{1}{m} \\sum_{i=1}^m X_i $$ \n",
    "\n",
    "where $X_i$ are independent and identically distributed random variables, each uniformly distributed between 0 and 1. In other words $Z_m$ is the average of the sample $\\{X_1, X_2, \\ldots , X_m\\}$. [The Law of Large Numbers](https://en.wikipedia.org/wiki/Law_of_large_numbers) says that, in the limit of large $m$, $Z_m$ approaches the expected value of $X_i$, which is 0.5. "
   ]
  },
  {
   "cell_type": "markdown",
   "metadata": {},
   "source": [
    "# Exercise 2: Vectorizing"
   ]
  },
  {
   "cell_type": "markdown",
   "metadata": {},
   "source": [
    "Python is much more efficient when you add two vectors instead of adding a large number of scalars. This is yet another example of vectorizing, allowing your code to run purely with vector operations. \n",
    "\n",
    "For example, the following will add the rows of matrix, without looping over its columns:"
   ]
  },
  {
   "cell_type": "code",
   "execution_count": 6,
   "metadata": {},
   "outputs": [
    {
     "name": "stdout",
     "output_type": "stream",
     "text": [
      "B: \n",
      "[[1 2]\n",
      " [3 4]]\n",
      "sum of rows: \n",
      "[4 6]\n"
     ]
    }
   ],
   "source": [
    "B = np.array([[1,2],[3,4]])\n",
    "print 'B: '\n",
    "print B \n",
    "print 'sum of rows: '\n",
    "print B[0,:] + B[1,:]"
   ]
  },
  {
   "cell_type": "markdown",
   "metadata": {},
   "source": [
    "### Question\n",
    "\n",
    "Implement a vectorized version of `sum_matrix`, called `sum_matrix_vecd`, in which you first sum all the rows of the matrix, constructing a vector, and then sum all the elements of the vector."
   ]
  },
  {
   "cell_type": "markdown",
   "metadata": {},
   "source": [
    "### Solution"
   ]
  },
  {
   "cell_type": "code",
   "execution_count": 9,
   "metadata": {
    "collapsed": true
   },
   "outputs": [],
   "source": [
    "def sum_matrix_vecd(n): \n",
    "    A = np.random.rand(n,n)\n",
    "    s_vector = A[0,:]\n",
    "    for i in range(1,n): \n",
    "        s_vector += A[i,:]\n",
    "    s = 0.0\n",
    "    for j in range(n): \n",
    "        s += s_vector[j]    \n",
    "    return s"
   ]
  },
  {
   "cell_type": "markdown",
   "metadata": {},
   "source": [
    "### Question\n",
    "Examine the speed difference between your two implementations for summing matrix entries."
   ]
  },
  {
   "cell_type": "markdown",
   "metadata": {},
   "source": [
    "### Solution"
   ]
  },
  {
   "cell_type": "code",
   "execution_count": 8,
   "metadata": {},
   "outputs": [
    {
     "name": "stdout",
     "output_type": "stream",
     "text": [
      "time taken to execute sum_matrix =  0.00652503967285\n",
      "time taken to execute sum_matrix_vecd =  0.000756025314331\n"
     ]
    }
   ],
   "source": [
    "def time_function(f, x=100): \n",
    "    import time\n",
    "    start = time.time()\n",
    "    f(x)\n",
    "    end = time.time()\n",
    "    return end - start\n",
    "\n",
    "print 'time taken to execute sum_matrix = ', time_function(sum_matrix)\n",
    "print 'time taken to execute sum_matrix_vecd = ', time_function(sum_matrix_vecd)"
   ]
  },
  {
   "cell_type": "markdown",
   "metadata": {},
   "source": [
    "# Exercise 3: Triangular matrices\n",
    "\n",
    "### Question \n",
    "\n",
    "Write a function `upper_triangular` that takes a square matrix, zeros out entries to make it an upper-triangular matrix, and returns the  matrix."
   ]
  },
  {
   "cell_type": "markdown",
   "metadata": {},
   "source": [
    "### Solution"
   ]
  },
  {
   "cell_type": "code",
   "execution_count": 33,
   "metadata": {
    "collapsed": true
   },
   "outputs": [],
   "source": [
    "def upper_triangular(A):\n",
    "    number_rows, number_cols = A.shape\n",
    "    assert(number_rows==number_cols) \n",
    "    for i in range(1,number_rows): \n",
    "        for j in range(i): \n",
    "            A[i,j] = 0.0\n",
    "    return A\n",
    "\n",
    "def test_upper_triangular(n): \n",
    "    B = np.random.rand(n, n)\n",
    "    print B\n",
    "    print\n",
    "    print upper_triangular(B)"
   ]
  },
  {
   "cell_type": "code",
   "execution_count": 35,
   "metadata": {},
   "outputs": [
    {
     "name": "stdout",
     "output_type": "stream",
     "text": [
      "[[ 0.72257012  0.1728715 ]\n",
      " [ 0.11597705  0.14852154]]\n",
      "\n",
      "[[ 0.72257012  0.1728715 ]\n",
      " [ 0.          0.14852154]]\n"
     ]
    }
   ],
   "source": [
    "test_upper_triangular(2)"
   ]
  },
  {
   "cell_type": "code",
   "execution_count": 34,
   "metadata": {},
   "outputs": [
    {
     "name": "stdout",
     "output_type": "stream",
     "text": [
      "[[ 0.48484674  0.65471396  0.17852911  0.91895552]\n",
      " [ 0.03232863  0.24835981  0.67808839  0.74721694]\n",
      " [ 0.26186227  0.31133456  0.96855788  0.97468461]\n",
      " [ 0.12890266  0.28028907  0.14968893  0.76704443]]\n",
      "\n",
      "[[ 0.48484674  0.65471396  0.17852911  0.91895552]\n",
      " [ 0.          0.24835981  0.67808839  0.74721694]\n",
      " [ 0.          0.          0.96855788  0.97468461]\n",
      " [ 0.          0.          0.          0.76704443]]\n"
     ]
    }
   ],
   "source": [
    "test_upper_triangular(4)"
   ]
  },
  {
   "cell_type": "code",
   "execution_count": null,
   "metadata": {
    "collapsed": true
   },
   "outputs": [],
   "source": []
  }
 ],
 "metadata": {
  "kernelspec": {
   "display_name": "Python 2",
   "language": "python",
   "name": "python2"
  },
  "language_info": {
   "codemirror_mode": {
    "name": "ipython",
    "version": 2
   },
   "file_extension": ".py",
   "mimetype": "text/x-python",
   "name": "python",
   "nbconvert_exporter": "python",
   "pygments_lexer": "ipython2",
   "version": "2.7.14"
  }
 },
 "nbformat": 4,
 "nbformat_minor": 2
}
