{
 "cells": [
  {
   "cell_type": "markdown",
   "metadata": {},
   "source": [
    "This lab focuses on constructing more and more complicated functions to handle tasks that need to be repeated."
   ]
  },
  {
   "cell_type": "markdown",
   "metadata": {},
   "source": [
    "# Approximating the exponential function\n",
    "\n",
    "Consider the Taylor series expansion for $e^x$ about the point $x=0$: \n",
    "\n",
    "$$e^x = \\sum_{n=0}^\\infty \\frac{x^n}{n!}, $$\n",
    "\n",
    "where $x>0$. If, in addition, $x < 1$, then successive terms of the series diminish in size, so that the partial sum \n",
    "\n",
    "$$ P_N(x) = \\sum_{n=0}^N \\frac{x^n}{n!} $$ \n",
    "\n",
    "represents a good approximation of $e^x$. \n",
    "Now Taylor's Theorem (Lecture 1) says: \n",
    "\n",
    "$$ e^x = P_N(x) + \\frac{e^{\\xi} x^{N+1}}{(N+1)!},$$\n",
    "\n",
    "where $0 < \\xi < x$. Since $x < 1$, we have that $\\xi < 1$, and \n",
    "\n",
    "$$ \\frac{e^{\\xi} x^{N+1}}{(N+1)!} < \\frac{e}{(N+1)!}.$$ \n",
    "\n",
    "This allows us to quantify the error we make when we truncate Taylor's series: \n",
    "\n",
    "$$ e^x - P_N(x)  \\leq \\frac{e}{(N+1)!} \\approx \\frac{1}{(N+1)!}. $$"
   ]
  },
  {
   "cell_type": "markdown",
   "metadata": {
    "collapsed": true
   },
   "source": [
    "# Exercise 1\n",
    "\n",
    "*Question*: Write a function `exp_unit_interval(x)` to compute the exponential function to an absolute accuracy of $10^{-6}$ for $0 \\leq x \\leq 1$.\n",
    "\n",
    "*Solution*:"
   ]
  },
  {
   "cell_type": "code",
   "execution_count": 1,
   "metadata": {},
   "outputs": [
    {
     "name": "stdout",
     "output_type": "stream",
     "text": [
      "1.64872127042\n",
      "1.6487212707\n"
     ]
    }
   ],
   "source": [
    "def exp_unit_interval(x, absolute_accuracy=1e-6):\n",
    "    partial_sum = 0\n",
    "    x_to_power_n = 1\n",
    "    inverse_factorial = 1\n",
    "    n = 0\n",
    "    while inverse_factorial > absolute_accuracy:\n",
    "        partial_sum += x_to_power_n*inverse_factorial\n",
    "        # compute next term in partial series:\n",
    "        x_to_power_n *= x\n",
    "        n += 1\n",
    "        inverse_factorial /= float(n)\n",
    "    return partial_sum \n",
    "\n",
    "import numpy as np \n",
    "print exp_unit_interval(0.5)\n",
    "print np.exp(0.5)"
   ]
  },
  {
   "cell_type": "markdown",
   "metadata": {},
   "source": [
    "*Question*: Create a plot of the absolute error as a function of $x$ for a variety of $x$-values both less than and greater than 1. Use the `semilogy()` command from the `numpy` library to help with this visualzation.\n",
    "\n",
    "*Solution*:"
   ]
  },
  {
   "cell_type": "code",
   "execution_count": 2,
   "metadata": {},
   "outputs": [
    {
     "data": {
      "image/png": "[encoded data removed]",
      "text/plain": [
       "<matplotlib.figure.Figure at 0x108b68450>"
      ]
     },
     "metadata": {},
     "output_type": "display_data"
    }
   ],
   "source": [
    "# ADVANCED NOTE: \n",
    "# It is bad practice to duplicate code \n",
    "# Instead, put such code into a function\n",
    "# Since I will re-use this plotting code later, I've put it into a function\n",
    "def error_plot(f, f_approx): \n",
    "    from matplotlib import pyplot as plt \n",
    "    %matplotlib inline \n",
    "\n",
    "    x = np.linspace(0,3,100)\n",
    "    absolute_error = abs(f(x) - f_approx(x))\n",
    "    plt.semilogy(x,absolute_error)\n",
    "    plt.gca().set_ylim([1e-13, 1e0])    \n",
    "    plt.ylabel('absolute error')\n",
    "    plt.xlabel('x')\n",
    "    \n",
    "error_plot(np.exp, exp_unit_interval)"
   ]
  },
  {
   "cell_type": "markdown",
   "metadata": {},
   "source": [
    "# Exercise 2\n",
    "\n",
    "*Question*: Construct a function `exp_argument_reduce(y)` that computes the exponential function for any number $y > 0$ using `exp_unit_interval(x)`, where $0 < x < 1$ and $y = x z$ for some $z$. [Hint: Use the fact that $e^y = e^{xz} = (e^x)^z$. One simple approach is to choose $z$ to be of the form $2^m$ for some integer $m$.]\n",
    "\n",
    "*Solution*:"
   ]
  },
  {
   "cell_type": "code",
   "execution_count": 3,
   "metadata": {},
   "outputs": [
    {
     "name": "stdout",
     "output_type": "stream",
     "text": [
      "7.38905445227\n",
      "7.38905609893\n"
     ]
    }
   ],
   "source": [
    "def exp_argument_reduce(y):\n",
    "    m = 0\n",
    "    while y > 1:\n",
    "        y /= 2.0\n",
    "        m += 1        \n",
    "    return exp_unit_interval(y)**(2**m)\n",
    "\n",
    "print exp_argument_reduce(2)\n",
    "print np.exp(2)"
   ]
  },
  {
   "cell_type": "markdown",
   "metadata": {},
   "source": [
    "*Question*: Re-create your error plot from the previous exercise. \n",
    "You'll need to execute\n",
    "```\n",
    "exp_argument_reduce_vectorized = np.vectorize(exp_argument_reduce)\n",
    "```\n",
    "to allow the function `exp_argument_reduce` to deal with the fact that its argument is now a `numpy` array instead of just a single number.\n",
    "\n",
    "*Solution*:"
   ]
  },
  {
   "cell_type": "code",
   "execution_count": 4,
   "metadata": {},
   "outputs": [
    {
     "data": {
      "image/png": "[encoded data removed]",
      "text/plain": [
       "<matplotlib.figure.Figure at 0x105a97750>"
      ]
     },
     "metadata": {},
     "output_type": "display_data"
    }
   ],
   "source": [
    "exp_argument_reduce_vectorized = np.vectorize(exp_argument_reduce)\n",
    "error_plot(np.exp, exp_argument_reduce_vectorized)"
   ]
  },
  {
   "cell_type": "markdown",
   "metadata": {},
   "source": [
    "# Exercise 3\n",
    "\n",
    "Recall our bisection algorithm:"
   ]
  },
  {
   "cell_type": "code",
   "execution_count": 5,
   "metadata": {},
   "outputs": [],
   "source": [
    "def different_sign(a, b):\n",
    "    return a * b < 0.0\n",
    "\n",
    "def bisection(func, low, high, n_max=100): \n",
    "    assert different_sign(func(low), func(high))\n",
    "    \n",
    "    for i in range(n_max):\n",
    "        midpoint = (low + high) / 2.0\n",
    "        if different_sign(func(low), func(midpoint)):\n",
    "            high = midpoint\n",
    "        else:\n",
    "            low = midpoint\n",
    "            \n",
    "    return midpoint\n"
   ]
  },
  {
   "cell_type": "markdown",
   "metadata": {},
   "source": [
    "*Question*: Write a function `log_bisection(x)` to compute $\\log(x)$ using your `exp_argument_reduce_vectorized` function and `bisection`. What challenges do you encounter?\n",
    "\n",
    "*Solution*:\n",
    "The trick is to notice that if $y = \\log(x)$, for a given $x$, then $y$ is the solution of the equation \n",
    "\n",
    "$$ e^y - x = 0,$$\n",
    "\n",
    "where we consider $x$ to be a parameter (constant). Of course, we may solve this equation using the bisection method: "
   ]
  },
  {
   "cell_type": "code",
   "execution_count": 6,
   "metadata": {},
   "outputs": [
    {
     "name": "stdout",
     "output_type": "stream",
     "text": [
      "0.693147184323\n",
      "0.69314718056\n"
     ]
    }
   ],
   "source": [
    "def log_bisection(x, low=0, high=10):\n",
    "    f = lambda y: exp_argument_reduce_vectorized(y) - x\n",
    "    return bisection(f,low,high)\n",
    "print log_bisection(2)\n",
    "print np.log(2)"
   ]
  },
  {
   "cell_type": "markdown",
   "metadata": {},
   "source": [
    "Here, I have assumed that the interval $[0,10]$ brackets $\\log(x)$, but this isn't true for all $x$: $\\log(x)$ is monotonically increasing, so it will eventually attain values greater than 10. However, this rise is very slow (meaning that one has to increase $x$ by orders of magnitude before this happens), so choosing brackets for the user (of the function `log_bisection`) is a reasonable thing to do:"
   ]
  },
  {
   "cell_type": "code",
   "execution_count": 7,
   "metadata": {},
   "outputs": [
    {
     "name": "stdout",
     "output_type": "stream",
     "text": [
      "x =  10 log(x) =  2.30258509561\n",
      "x =  100 log(x) =  4.60517019121\n",
      "x =  1000 log(x) =  6.90775551128\n",
      "x =  10000 log(x) =  9.21034038243\n",
      "x =  100000 log(x) = "
     ]
    },
    {
     "ename": "AssertionError",
     "evalue": "",
     "output_type": "error",
     "traceback": [
      "\u001b[0;31m---------------------------------------------------------------------------\u001b[0m",
      "\u001b[0;31mAssertionError\u001b[0m                            Traceback (most recent call last)",
      "\u001b[0;32m<ipython-input-7-9f326c84a86e>\u001b[0m in \u001b[0;36m<module>\u001b[0;34m()\u001b[0m\n\u001b[1;32m      1\u001b[0m \u001b[0;32mfor\u001b[0m \u001b[0mn\u001b[0m \u001b[0;32min\u001b[0m \u001b[0mrange\u001b[0m\u001b[0;34m(\u001b[0m\u001b[0;36m1\u001b[0m\u001b[0;34m,\u001b[0m\u001b[0;36m8\u001b[0m\u001b[0;34m)\u001b[0m\u001b[0;34m:\u001b[0m\u001b[0;34m\u001b[0m\u001b[0m\n\u001b[1;32m      2\u001b[0m     \u001b[0mx\u001b[0m \u001b[0;34m=\u001b[0m \u001b[0;36m10\u001b[0m\u001b[0;34m**\u001b[0m\u001b[0mn\u001b[0m\u001b[0;34m\u001b[0m\u001b[0m\n\u001b[0;32m----> 3\u001b[0;31m     \u001b[0;32mprint\u001b[0m \u001b[0;34m'x = '\u001b[0m\u001b[0;34m,\u001b[0m \u001b[0mx\u001b[0m\u001b[0;34m,\u001b[0m \u001b[0;34m'log(x) = '\u001b[0m\u001b[0;34m,\u001b[0m \u001b[0mlog_bisection\u001b[0m\u001b[0;34m(\u001b[0m\u001b[0mx\u001b[0m\u001b[0;34m)\u001b[0m\u001b[0;34m\u001b[0m\u001b[0m\n\u001b[0m",
      "\u001b[0;32m<ipython-input-6-2db9d94103a7>\u001b[0m in \u001b[0;36mlog_bisection\u001b[0;34m(x, low, high)\u001b[0m\n\u001b[1;32m      1\u001b[0m \u001b[0;32mdef\u001b[0m \u001b[0mlog_bisection\u001b[0m\u001b[0;34m(\u001b[0m\u001b[0mx\u001b[0m\u001b[0;34m,\u001b[0m \u001b[0mlow\u001b[0m\u001b[0;34m=\u001b[0m\u001b[0;36m0\u001b[0m\u001b[0;34m,\u001b[0m \u001b[0mhigh\u001b[0m\u001b[0;34m=\u001b[0m\u001b[0;36m10\u001b[0m\u001b[0;34m)\u001b[0m\u001b[0;34m:\u001b[0m\u001b[0;34m\u001b[0m\u001b[0m\n\u001b[1;32m      2\u001b[0m     \u001b[0mf\u001b[0m \u001b[0;34m=\u001b[0m \u001b[0;32mlambda\u001b[0m \u001b[0my\u001b[0m\u001b[0;34m:\u001b[0m \u001b[0mexp_argument_reduce_vectorized\u001b[0m\u001b[0;34m(\u001b[0m\u001b[0my\u001b[0m\u001b[0;34m)\u001b[0m \u001b[0;34m-\u001b[0m \u001b[0mx\u001b[0m\u001b[0;34m\u001b[0m\u001b[0m\n\u001b[0;32m----> 3\u001b[0;31m     \u001b[0;32mreturn\u001b[0m \u001b[0mbisection\u001b[0m\u001b[0;34m(\u001b[0m\u001b[0mf\u001b[0m\u001b[0;34m,\u001b[0m\u001b[0mlow\u001b[0m\u001b[0;34m,\u001b[0m\u001b[0mhigh\u001b[0m\u001b[0;34m)\u001b[0m\u001b[0;34m\u001b[0m\u001b[0m\n\u001b[0m\u001b[1;32m      4\u001b[0m \u001b[0;32mprint\u001b[0m \u001b[0mlog_bisection\u001b[0m\u001b[0;34m(\u001b[0m\u001b[0;36m2\u001b[0m\u001b[0;34m)\u001b[0m\u001b[0;34m\u001b[0m\u001b[0m\n\u001b[1;32m      5\u001b[0m \u001b[0;32mprint\u001b[0m \u001b[0mnp\u001b[0m\u001b[0;34m.\u001b[0m\u001b[0mlog\u001b[0m\u001b[0;34m(\u001b[0m\u001b[0;36m2\u001b[0m\u001b[0;34m)\u001b[0m\u001b[0;34m\u001b[0m\u001b[0m\n",
      "\u001b[0;32m<ipython-input-5-045e247e656d>\u001b[0m in \u001b[0;36mbisection\u001b[0;34m(func, low, high, n_max)\u001b[0m\n\u001b[1;32m      3\u001b[0m \u001b[0;34m\u001b[0m\u001b[0m\n\u001b[1;32m      4\u001b[0m \u001b[0;32mdef\u001b[0m \u001b[0mbisection\u001b[0m\u001b[0;34m(\u001b[0m\u001b[0mfunc\u001b[0m\u001b[0;34m,\u001b[0m \u001b[0mlow\u001b[0m\u001b[0;34m,\u001b[0m \u001b[0mhigh\u001b[0m\u001b[0;34m,\u001b[0m \u001b[0mn_max\u001b[0m\u001b[0;34m=\u001b[0m\u001b[0;36m100\u001b[0m\u001b[0;34m)\u001b[0m\u001b[0;34m:\u001b[0m\u001b[0;34m\u001b[0m\u001b[0m\n\u001b[0;32m----> 5\u001b[0;31m     \u001b[0;32massert\u001b[0m \u001b[0mdifferent_sign\u001b[0m\u001b[0;34m(\u001b[0m\u001b[0mfunc\u001b[0m\u001b[0;34m(\u001b[0m\u001b[0mlow\u001b[0m\u001b[0;34m)\u001b[0m\u001b[0;34m,\u001b[0m \u001b[0mfunc\u001b[0m\u001b[0;34m(\u001b[0m\u001b[0mhigh\u001b[0m\u001b[0;34m)\u001b[0m\u001b[0;34m)\u001b[0m\u001b[0;34m\u001b[0m\u001b[0m\n\u001b[0m\u001b[1;32m      6\u001b[0m \u001b[0;34m\u001b[0m\u001b[0m\n\u001b[1;32m      7\u001b[0m     \u001b[0;32mfor\u001b[0m \u001b[0mi\u001b[0m \u001b[0;32min\u001b[0m \u001b[0mrange\u001b[0m\u001b[0;34m(\u001b[0m\u001b[0mn_max\u001b[0m\u001b[0;34m)\u001b[0m\u001b[0;34m:\u001b[0m\u001b[0;34m\u001b[0m\u001b[0m\n",
      "\u001b[0;31mAssertionError\u001b[0m: "
     ]
    }
   ],
   "source": [
    "for n in range(1,8): \n",
    "    x = 10**n\n",
    "    print 'x = ', x, 'log(x) = ', log_bisection(x)"
   ]
  },
  {
   "cell_type": "code",
   "execution_count": null,
   "metadata": {
    "collapsed": true
   },
   "outputs": [],
   "source": []
  }
 ],
 "metadata": {
  "kernelspec": {
   "display_name": "Python 2",
   "language": "python",
   "name": "python2"
  },
  "language_info": {
   "codemirror_mode": {
    "name": "ipython",
    "version": 2
   },
   "file_extension": ".py",
   "mimetype": "text/x-python",
   "name": "python",
   "nbconvert_exporter": "python",
   "pygments_lexer": "ipython2",
   "version": "2.7.14"
  }
 },
 "nbformat": 4,
 "nbformat_minor": 2
}
