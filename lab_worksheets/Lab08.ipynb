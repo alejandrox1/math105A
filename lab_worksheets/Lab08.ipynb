{
 "cells": [
  {
   "cell_type": "markdown",
   "metadata": {},
   "source": [
    "# Linear regression and least squares approximations"
   ]
  },
  {
   "cell_type": "markdown",
   "metadata": {},
   "source": [
    "Consider a quadratic polynomial:  \n",
    "\n",
    "$$ f(x) = \\alpha_0 + \\alpha_1 x + \\alpha_2 x^2. $$\n",
    "\n",
    "Here is a plot of this function:"
   ]
  },
  {
   "cell_type": "code",
   "execution_count": 2,
   "metadata": {},
   "outputs": [
    {
     "data": {
      "text/plain": [
       "[<matplotlib.lines.Line2D at 0x11356d510>]"
      ]
     },
     "execution_count": 2,
     "metadata": {},
     "output_type": "execute_result"
    },
    {
     "data": {
      "image/png": "[encoded data removed]",
      "text/plain": [
       "<matplotlib.figure.Figure at 0x10c5a0890>"
      ]
     },
     "metadata": {},
     "output_type": "display_data"
    }
   ],
   "source": [
    "import numpy as np \n",
    "import matplotlib.pyplot as plt \n",
    "%matplotlib inline \n",
    "\n",
    "def f(x): \n",
    "    alpha0 = 1\n",
    "    alpha1 = 2\n",
    "    alpha2 = 3\n",
    "    return alpha0 + alpha1*x + alpha2*x**2\n",
    "\n",
    "x_curve = np.linspace(0,5,100)\n",
    "y_f = f(x_curve)\n",
    "\n",
    "plt.plot(x_curve, y_f) "
   ]
  },
  {
   "cell_type": "markdown",
   "metadata": {},
   "source": [
    "Let's generate some random data that are scattered about this quadratic curve: "
   ]
  },
  {
   "cell_type": "code",
   "execution_count": 3,
   "metadata": {
    "scrolled": true
   },
   "outputs": [
    {
     "data": {
      "image/png": "[encoded data removed]",
      "text/plain": [
       "<matplotlib.figure.Figure at 0x1135ac790>"
      ]
     },
     "metadata": {},
     "output_type": "display_data"
    }
   ],
   "source": [
    "np.random.seed(33) # Setting a seed allows reproducability\n",
    "\n",
    "def reshape_1d_array(x): # helper function\n",
    "    return x.reshape(len(x),1)\n",
    "\n",
    "def generate_data(n=10, std=10): \n",
    "    x = np.random.uniform(0,5,n)\n",
    "    y = f(x) + np.random.normal(0,std,len(x))\n",
    "    x = reshape_1d_array(x) \n",
    "    y = reshape_1d_array(y)   \n",
    "    return x, y\n",
    "\n",
    "def plot_data_and_curve(): \n",
    "    x_examples, y_examples = generate_data() \n",
    "    plt.scatter(x_examples, y_examples) # plot data\n",
    "    plt.plot(x_curve, y_f, '--') # plot curve\n",
    "plot_data_and_curve()"
   ]
  },
  {
   "cell_type": "markdown",
   "metadata": {},
   "source": [
    "### Problem 1 \n",
    "\n",
    "In class, we computed the difference between the y-values of a set of data points and the corresponding y-values of a function $h(x)$,\n",
    "\n",
    "$$ \\sum_{i=1}^n \\left[y^{(i)} - h(x^{(i)}) \\right]^2. $$ \n",
    "\n",
    "Fill in the following code so that it computes this sum of squared errors. Assume that the arguments `xs` and `ys` are the $x$- and $y$-coordinates of a set of data points. Assume that the argument `h` is a Python function that takes a single value ($x$) and returns a single value ($y$)."
   ]
  },
  {
   "cell_type": "markdown",
   "metadata": {},
   "source": [
    "### Solution"
   ]
  },
  {
   "cell_type": "code",
   "execution_count": 7,
   "metadata": {
    "collapsed": true
   },
   "outputs": [
    {
     "name": "stdout",
     "output_type": "stream",
     "text": [
      "sum of squared errors for f = "
     ]
    },
    {
     "ename": "NameError",
     "evalue": "global name 'sum_of_squares' is not defined",
     "output_type": "error",
     "traceback": [
      "\u001b[0;31m---------------------------------------------------------------------------\u001b[0m",
      "\u001b[0;31mNameError\u001b[0m                                 Traceback (most recent call last)",
      "\u001b[0;32m<ipython-input-7-018b9c977e8b>\u001b[0m in \u001b[0;36m<module>\u001b[0;34m()\u001b[0m\n\u001b[1;32m     11\u001b[0m     \u001b[0mcompute_sum_of_squares\u001b[0m\u001b[0;34m(\u001b[0m\u001b[0mx_examples\u001b[0m\u001b[0;34m,\u001b[0m \u001b[0my_examples\u001b[0m\u001b[0;34m,\u001b[0m \u001b[0mf\u001b[0m\u001b[0;34m,\u001b[0m \u001b[0;34m'f'\u001b[0m\u001b[0;34m)\u001b[0m\u001b[0;34m\u001b[0m\u001b[0m\n\u001b[1;32m     12\u001b[0m \u001b[0;34m\u001b[0m\u001b[0m\n\u001b[0;32m---> 13\u001b[0;31m \u001b[0mplot_data_and_curve_with_errors\u001b[0m\u001b[0;34m(\u001b[0m\u001b[0;34m)\u001b[0m\u001b[0;34m\u001b[0m\u001b[0m\n\u001b[0m",
      "\u001b[0;32m<ipython-input-7-018b9c977e8b>\u001b[0m in \u001b[0;36mplot_data_and_curve_with_errors\u001b[0;34m()\u001b[0m\n\u001b[1;32m      9\u001b[0m     \u001b[0;32mfor\u001b[0m \u001b[0mi\u001b[0m\u001b[0;34m,\u001b[0m \u001b[0mx_example\u001b[0m \u001b[0;32min\u001b[0m \u001b[0menumerate\u001b[0m\u001b[0;34m(\u001b[0m\u001b[0mx_examples\u001b[0m\u001b[0;34m)\u001b[0m\u001b[0;34m:\u001b[0m\u001b[0;34m\u001b[0m\u001b[0m\n\u001b[1;32m     10\u001b[0m         \u001b[0mplt\u001b[0m\u001b[0;34m.\u001b[0m\u001b[0mvlines\u001b[0m\u001b[0;34m(\u001b[0m\u001b[0mx_example\u001b[0m\u001b[0;34m,\u001b[0m \u001b[0mf\u001b[0m\u001b[0;34m(\u001b[0m\u001b[0mx_example\u001b[0m\u001b[0;34m)\u001b[0m\u001b[0;34m,\u001b[0m \u001b[0my_examples\u001b[0m\u001b[0;34m[\u001b[0m\u001b[0mi\u001b[0m\u001b[0;34m]\u001b[0m\u001b[0;34m,\u001b[0m \u001b[0mcolors\u001b[0m\u001b[0;34m=\u001b[0m\u001b[0;34m'red'\u001b[0m\u001b[0;34m)\u001b[0m\u001b[0;34m\u001b[0m\u001b[0m\n\u001b[0;32m---> 11\u001b[0;31m     \u001b[0mcompute_sum_of_squares\u001b[0m\u001b[0;34m(\u001b[0m\u001b[0mx_examples\u001b[0m\u001b[0;34m,\u001b[0m \u001b[0my_examples\u001b[0m\u001b[0;34m,\u001b[0m \u001b[0mf\u001b[0m\u001b[0;34m,\u001b[0m \u001b[0;34m'f'\u001b[0m\u001b[0;34m)\u001b[0m\u001b[0;34m\u001b[0m\u001b[0m\n\u001b[0m\u001b[1;32m     12\u001b[0m \u001b[0;34m\u001b[0m\u001b[0m\n\u001b[1;32m     13\u001b[0m \u001b[0mplot_data_and_curve_with_errors\u001b[0m\u001b[0;34m(\u001b[0m\u001b[0;34m)\u001b[0m\u001b[0;34m\u001b[0m\u001b[0m\n",
      "\u001b[0;32m<ipython-input-7-018b9c977e8b>\u001b[0m in \u001b[0;36mcompute_sum_of_squares\u001b[0;34m(xs, ys, h, h_name)\u001b[0m\n\u001b[1;32m      1\u001b[0m \u001b[0;32mdef\u001b[0m \u001b[0mcompute_sum_of_squares\u001b[0m\u001b[0;34m(\u001b[0m\u001b[0mxs\u001b[0m\u001b[0;34m,\u001b[0m \u001b[0mys\u001b[0m\u001b[0;34m,\u001b[0m \u001b[0mh\u001b[0m\u001b[0;34m,\u001b[0m \u001b[0mh_name\u001b[0m\u001b[0;34m)\u001b[0m\u001b[0;34m:\u001b[0m\u001b[0;34m\u001b[0m\u001b[0m\n\u001b[1;32m      2\u001b[0m     \u001b[0;31m# your code here\u001b[0m\u001b[0;34m\u001b[0m\u001b[0;34m\u001b[0m\u001b[0m\n\u001b[0;32m----> 3\u001b[0;31m     \u001b[0;32mprint\u001b[0m \u001b[0;34m'sum of squared errors for'\u001b[0m\u001b[0;34m,\u001b[0m \u001b[0mh_name\u001b[0m\u001b[0;34m,\u001b[0m \u001b[0;34m'= '\u001b[0m\u001b[0;34m,\u001b[0m \u001b[0mfloat\u001b[0m\u001b[0;34m(\u001b[0m\u001b[0msum_of_squares\u001b[0m\u001b[0;34m)\u001b[0m\u001b[0;34m\u001b[0m\u001b[0m\n\u001b[0m\u001b[1;32m      4\u001b[0m \u001b[0;34m\u001b[0m\u001b[0m\n\u001b[1;32m      5\u001b[0m \u001b[0;32mdef\u001b[0m \u001b[0mplot_data_and_curve_with_errors\u001b[0m\u001b[0;34m(\u001b[0m\u001b[0;34m)\u001b[0m\u001b[0;34m:\u001b[0m\u001b[0;34m\u001b[0m\u001b[0m\n",
      "\u001b[0;31mNameError\u001b[0m: global name 'sum_of_squares' is not defined"
     ]
    },
    {
     "data": {
      "image/png": "[encoded data removed]",
      "text/plain": [
       "<matplotlib.figure.Figure at 0x113988110>"
      ]
     },
     "metadata": {},
     "output_type": "display_data"
    }
   ],
   "source": [
    "def compute_sum_of_squares(xs, ys, h, h_name):\n",
    "    # your code here \n",
    "    print 'sum of squared errors for', h_name, '= ', float(sum_of_squares)\n",
    "\n",
    "def plot_data_and_curve_with_errors(): \n",
    "    plt.figure().set_size_inches(10,5)\n",
    "    x_examples, y_examples = generate_data()\n",
    "    # write code here to plot data and curve\n",
    "    for i, x_example in enumerate(x_examples):\n",
    "        plt.vlines(x_example, f(x_example), y_examples[i], colors='red')\n",
    "    compute_sum_of_squares(x_examples, y_examples, f, 'f')\n",
    "    \n",
    "plot_data_and_curve_with_errors() "
   ]
  },
  {
   "cell_type": "markdown",
   "metadata": {},
   "source": [
    "### Problem 2\n",
    "\n",
    "In class, we parametrized $h$ by $\\theta$, e.g. \n",
    "\n",
    "$$ h(x) = \\theta_0 + \\theta_1 x + \\theta_2 x^2. $$\n",
    "\n",
    "We then derived the 'normal equations', \n",
    "\n",
    "$$ X^T X \\theta = X^T y. $$\n",
    "\n",
    "The solution $\\theta$ parameterizes the $h$ that minimizes the sum of squared errors between it and the data points. \n",
    "\n",
    "Complete the following Python function so that it solves the normal equations. Assume that `xs` and `ys` are 1D numpy arrays representing the $x$- and $y$-coordinates of the data points. The function should return the column vector $\\theta$. [Hint: make use of `np.concatenate` and `np.linalg.inv`.]"
   ]
  },
  {
   "cell_type": "markdown",
   "metadata": {},
   "source": [
    "### Solution"
   ]
  },
  {
   "cell_type": "code",
   "execution_count": 8,
   "metadata": {},
   "outputs": [
    {
     "name": "stdout",
     "output_type": "stream",
     "text": [
      "\n"
     ]
    }
   ],
   "source": [
    "def solve_normal_equations(xs, ys):\n",
    "    m = xs.shape[0] # number of data points\n",
    "    # your code here \n",
    "    pass"
   ]
  },
  {
   "cell_type": "markdown",
   "metadata": {},
   "source": [
    "### Problem 3\n",
    "\n",
    "Fill in the following function so that it plots the data along with both $f(x)$ and the $h(x)$ that corresponds to the solution of the normal equations, i.e. the best-fit quadratic polynomial. Do $f$ and $h$ overlap when the number of data points is 10? What if the number of data points is increased? What do you observe and why? \n",
    "\n",
    "### Solution\n"
   ]
  },
  {
   "cell_type": "code",
   "execution_count": 9,
   "metadata": {
    "collapsed": true
   },
   "outputs": [],
   "source": [
    "def plot_data_and_two_curves(n=1000, std=10, \n",
    "                             compute_theta=solve_normal_equations): \n",
    "    # your code here \n",
    "    \n",
    "    xs = np.linspace(0,5,100)\n",
    "    plt.figure().set_size_inches(10,5)\n",
    "    plt.scatter(x_examples, y_examples) # data\n",
    "    plt.plot(xs, f(xs), 'green', linewidth=3) # true curve\n",
    "    plt.plot(xs, h(xs), 'red', linewidth=3) # fitted curve\n",
    "    plt.legend(['f', 'h'],fontsize=16)\n",
    "    \n",
    "    compute_sum_of_squares(x_examples, y_examples, f, 'f')\n",
    "    compute_sum_of_squares(x_examples, y_examples, h, 'h')"
   ]
  },
  {
   "cell_type": "markdown",
   "metadata": {},
   "source": [
    "### The scikit-learn way \n",
    "\n",
    "As you might suspect, linear regression is such a basic tool in data analysis that there are libraries that do the hard work of computing the best fit polynomial to a data set. I've outlined how below, but to run the code you'll first need to install the package `scikit-learn` using the following command: \n",
    "\n",
    "```\n",
    "conda install scikit-learn\n",
    "```\n",
    "\n",
    "### Problem 4\n",
    "\n",
    "Run the following code once you've written `plot_data_and_two_curves`:"
   ]
  },
  {
   "cell_type": "code",
   "execution_count": 10,
   "metadata": {
    "collapsed": true
   },
   "outputs": [
    {
     "ename": "NameError",
     "evalue": "global name 'x_examples' is not defined",
     "output_type": "error",
     "traceback": [
      "\u001b[0;31m---------------------------------------------------------------------------\u001b[0m",
      "\u001b[0;31mNameError\u001b[0m                                 Traceback (most recent call last)",
      "\u001b[0;32m<ipython-input-10-7d8194c10573>\u001b[0m in \u001b[0;36m<module>\u001b[0;34m()\u001b[0m\n\u001b[1;32m      8\u001b[0m     \u001b[0;32mreturn\u001b[0m \u001b[0mmodel\u001b[0m\u001b[0;34m.\u001b[0m\u001b[0mcoef_\u001b[0m\u001b[0;34m.\u001b[0m\u001b[0mtranspose\u001b[0m\u001b[0;34m(\u001b[0m\u001b[0;34m)\u001b[0m\u001b[0;34m\u001b[0m\u001b[0m\n\u001b[1;32m      9\u001b[0m \u001b[0;34m\u001b[0m\u001b[0m\n\u001b[0;32m---> 10\u001b[0;31m \u001b[0mplot_data_and_two_curves\u001b[0m\u001b[0;34m(\u001b[0m\u001b[0mn\u001b[0m\u001b[0;34m=\u001b[0m\u001b[0;36m1000\u001b[0m\u001b[0;34m,\u001b[0m \u001b[0mcompute_theta\u001b[0m\u001b[0;34m=\u001b[0m\u001b[0mcompute_theta_sklearn\u001b[0m\u001b[0;34m)\u001b[0m\u001b[0;34m\u001b[0m\u001b[0m\n\u001b[0m",
      "\u001b[0;32m<ipython-input-9-e39940569061>\u001b[0m in \u001b[0;36mplot_data_and_two_curves\u001b[0;34m(n, std, compute_theta)\u001b[0m\n\u001b[1;32m      5\u001b[0m     \u001b[0mxs\u001b[0m \u001b[0;34m=\u001b[0m \u001b[0mnp\u001b[0m\u001b[0;34m.\u001b[0m\u001b[0mlinspace\u001b[0m\u001b[0;34m(\u001b[0m\u001b[0;36m0\u001b[0m\u001b[0;34m,\u001b[0m\u001b[0;36m5\u001b[0m\u001b[0;34m,\u001b[0m\u001b[0;36m100\u001b[0m\u001b[0;34m)\u001b[0m\u001b[0;34m\u001b[0m\u001b[0m\n\u001b[1;32m      6\u001b[0m     \u001b[0mplt\u001b[0m\u001b[0;34m.\u001b[0m\u001b[0mfigure\u001b[0m\u001b[0;34m(\u001b[0m\u001b[0;34m)\u001b[0m\u001b[0;34m.\u001b[0m\u001b[0mset_size_inches\u001b[0m\u001b[0;34m(\u001b[0m\u001b[0;36m10\u001b[0m\u001b[0;34m,\u001b[0m\u001b[0;36m5\u001b[0m\u001b[0;34m)\u001b[0m\u001b[0;34m\u001b[0m\u001b[0m\n\u001b[0;32m----> 7\u001b[0;31m     \u001b[0mplt\u001b[0m\u001b[0;34m.\u001b[0m\u001b[0mscatter\u001b[0m\u001b[0;34m(\u001b[0m\u001b[0mx_examples\u001b[0m\u001b[0;34m,\u001b[0m \u001b[0my_examples\u001b[0m\u001b[0;34m)\u001b[0m \u001b[0;31m# data\u001b[0m\u001b[0;34m\u001b[0m\u001b[0m\n\u001b[0m\u001b[1;32m      8\u001b[0m     \u001b[0mplt\u001b[0m\u001b[0;34m.\u001b[0m\u001b[0mplot\u001b[0m\u001b[0;34m(\u001b[0m\u001b[0mxs\u001b[0m\u001b[0;34m,\u001b[0m \u001b[0mf\u001b[0m\u001b[0;34m(\u001b[0m\u001b[0mxs\u001b[0m\u001b[0;34m)\u001b[0m\u001b[0;34m,\u001b[0m \u001b[0;34m'green'\u001b[0m\u001b[0;34m,\u001b[0m \u001b[0mlinewidth\u001b[0m\u001b[0;34m=\u001b[0m\u001b[0;36m3\u001b[0m\u001b[0;34m)\u001b[0m \u001b[0;31m# true curve\u001b[0m\u001b[0;34m\u001b[0m\u001b[0m\n\u001b[1;32m      9\u001b[0m     \u001b[0mplt\u001b[0m\u001b[0;34m.\u001b[0m\u001b[0mplot\u001b[0m\u001b[0;34m(\u001b[0m\u001b[0mxs\u001b[0m\u001b[0;34m,\u001b[0m \u001b[0mh\u001b[0m\u001b[0;34m(\u001b[0m\u001b[0mxs\u001b[0m\u001b[0;34m)\u001b[0m\u001b[0;34m,\u001b[0m \u001b[0;34m'red'\u001b[0m\u001b[0;34m,\u001b[0m \u001b[0mlinewidth\u001b[0m\u001b[0;34m=\u001b[0m\u001b[0;36m3\u001b[0m\u001b[0;34m)\u001b[0m \u001b[0;31m# fitted curve\u001b[0m\u001b[0;34m\u001b[0m\u001b[0m\n",
      "\u001b[0;31mNameError\u001b[0m: global name 'x_examples' is not defined"
     ]
    },
    {
     "data": {
      "text/plain": [
       "<matplotlib.figure.Figure at 0x113858850>"
      ]
     },
     "metadata": {},
     "output_type": "display_data"
    }
   ],
   "source": [
    "from sklearn import linear_model\n",
    "\n",
    "def compute_theta_sklearn(xs, ys):\n",
    "    model = linear_model.LinearRegression()\n",
    "    m = xs.shape[0]\n",
    "    X = np.concatenate((np.ones((m,1)), xs, xs**2), axis=1)\n",
    "    model.fit(X, ys)\n",
    "    return model.coef_.transpose()\n",
    "\n",
    "plot_data_and_two_curves(n=1000, compute_theta=compute_theta_sklearn)"
   ]
  },
  {
   "cell_type": "code",
   "execution_count": null,
   "metadata": {
    "collapsed": true
   },
   "outputs": [],
   "source": []
  }
 ],
 "metadata": {
  "kernelspec": {
   "display_name": "Python 2",
   "language": "python",
   "name": "python2"
  },
  "language_info": {
   "codemirror_mode": {
    "name": "ipython",
    "version": 2
   },
   "file_extension": ".py",
   "mimetype": "text/x-python",
   "name": "python",
   "nbconvert_exporter": "python",
   "pygments_lexer": "ipython2",
   "version": "2.7.14"
  }
 },
 "nbformat": 4,
 "nbformat_minor": 2
}
