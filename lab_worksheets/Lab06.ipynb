{
 "cells": [
  {
   "cell_type": "markdown",
   "metadata": {},
   "source": [
    "# Warning: Never test for equality of floats!"
   ]
  },
  {
   "cell_type": "code",
   "execution_count": 1,
   "metadata": {},
   "outputs": [
    {
     "data": {
      "text/plain": [
       "False"
      ]
     },
     "execution_count": 1,
     "metadata": {},
     "output_type": "execute_result"
    }
   ],
   "source": [
    "0.1 + 0.2 == 0.3"
   ]
  },
  {
   "cell_type": "markdown",
   "metadata": {},
   "source": [
    "???? It's because of rounding errors in float operations"
   ]
  },
  {
   "cell_type": "code",
   "execution_count": 2,
   "metadata": {},
   "outputs": [
    {
     "name": "stdout",
     "output_type": "stream",
     "text": [
      "0.3\n"
     ]
    }
   ],
   "source": [
    "print 0.1 + 0.2"
   ]
  },
  {
   "cell_type": "markdown",
   "metadata": {},
   "source": [
    "Can't trust anybody these days!\n",
    "\n",
    "Similarly:\n",
    "\n",
    "\\begin{equation} \n",
    "\\cos(60^o)=\\sin(30^o)\n",
    "\\end{equation} \n",
    "\n",
    "but:"
   ]
  },
  {
   "cell_type": "code",
   "execution_count": 3,
   "metadata": {},
   "outputs": [
    {
     "name": "stdout",
     "output_type": "stream",
     "text": [
      "False\n",
      "0.5\n",
      "0.5\n"
     ]
    }
   ],
   "source": [
    "import math\n",
    "print math.cos(math.pi/3) == math.sin(math.pi/6)\n",
    "print math.cos(math.pi/3)\n",
    "print math.sin(math.pi/6)"
   ]
  },
  {
   "cell_type": "markdown",
   "metadata": {},
   "source": [
    "### What you should do instead\n",
    "\n",
    "Check to see if difference is very small:\n"
   ]
  },
  {
   "cell_type": "code",
   "execution_count": 24,
   "metadata": {},
   "outputs": [
    {
     "name": "stdout",
     "output_type": "stream",
     "text": [
      "True\n",
      "True\n"
     ]
    }
   ],
   "source": [
    "def are_equal(x, y, epsilon=1e-10): \n",
    "    return abs(x - y) < epsilon\n",
    "print are_equal(0.3, 0.1 + 0.2)\n",
    "print are_equal(math.cos(math.pi/3), math.sin(math.pi/6))"
   ]
  },
  {
   "cell_type": "code",
   "execution_count": 25,
   "metadata": {},
   "outputs": [
    {
     "data": {
      "text/plain": [
       "False"
      ]
     },
     "execution_count": 25,
     "metadata": {},
     "output_type": "execute_result"
    }
   ],
   "source": [
    "are_equal(0.3, 0.1 + 0.2, epsilon=1e-20)"
   ]
  },
  {
   "cell_type": "markdown",
   "metadata": {},
   "source": [
    "\n",
    "# Mutable vs Immutable types in Python\n",
    "\n",
    "This is something technical about how Python works but the technicality is very important to implement Gaussian elimination. \n"
   ]
  },
  {
   "cell_type": "code",
   "execution_count": 6,
   "metadata": {},
   "outputs": [
    {
     "name": "stdout",
     "output_type": "stream",
     "text": [
      "x =  1 ; y =  1\n",
      "x =  2 ; y =  1\n"
     ]
    }
   ],
   "source": [
    "# guess what will happen\n",
    "x = 1\n",
    "y = x\n",
    "print 'x = ', x, '; y = ', y\n",
    "x += 1\n",
    "print 'x = ', x, '; y = ', y"
   ]
  },
  {
   "cell_type": "markdown",
   "metadata": {},
   "source": [
    "Even though we said `y=x`, and then changed `x`, the value of `y` didn't change.\n",
    "\n",
    "Let's try the same with lists:"
   ]
  },
  {
   "cell_type": "code",
   "execution_count": 7,
   "metadata": {},
   "outputs": [
    {
     "name": "stdout",
     "output_type": "stream",
     "text": [
      "x =  [1, 2, 3, 4] ; y =  [1, 2, 3, 4]\n",
      "x =  [999, 2, 3, 4] ; y =  [999, 2, 3, 4]\n"
     ]
    }
   ],
   "source": [
    "x = [1,2,3,4]\n",
    "y = x\n",
    "print 'x = ', x, '; y = ', y\n",
    "x[0] = 999\n",
    "print 'x = ', x, '; y = ', y"
   ]
  },
  {
   "cell_type": "markdown",
   "metadata": {},
   "source": [
    "Woah! What is going on? We saw one behaviour for numbers, and a totally different behaviour for lists.\n",
    "\n",
    "This is because numbers are immutable whereas lists are mutable.\n",
    "\n",
    "### Mechanics of mutable vs immutable (optional)\n",
    "\n",
    "More concretely, when we say `x=1`, in the memory of the computer, a location (object) is created that stores the number `1`. A separate location, which corresponds to the label/identifier `x` is also created, but that location does not contain `1`. Instead, the location for `x` contains the address of the location in memory where `1` is stored. We can think of `x` as a pointer to the actual place in memory where `1` is stored. `y` also points to `1`.\n"
   ]
  },
  {
   "cell_type": "code",
   "execution_count": 8,
   "metadata": {},
   "outputs": [
    {
     "name": "stdout",
     "output_type": "stream",
     "text": [
      "140589316225096\n",
      "140589316225096\n"
     ]
    }
   ],
   "source": [
    "# objects pointed to by x and y are identical:\n",
    "x = 1\n",
    "y = x\n",
    "print id(x)\n",
    "print id(y)"
   ]
  },
  {
   "cell_type": "markdown",
   "metadata": {},
   "source": [
    "However, when some arithmetic is done on `x`, the result is stored in a new place in memory, to which `x`, but not `y`, points. In other words, you cannot mutate the object `1`."
   ]
  },
  {
   "cell_type": "code",
   "execution_count": 9,
   "metadata": {
    "scrolled": true
   },
   "outputs": [
    {
     "name": "stdout",
     "output_type": "stream",
     "text": [
      "140589316225072\n",
      "140589316225096\n"
     ]
    }
   ],
   "source": [
    "# cannot change 1 'in-place'\n",
    "x += 1 \n",
    "print id(x)\n",
    "print id(y)"
   ]
  },
  {
   "cell_type": "markdown",
   "metadata": {},
   "source": [
    "On the other hand, when we do something to a list, it is modified in-place (mutated), so that any identifiers (such as `x` and `y`) that were pointing to it, continue to do so.\n",
    "\n",
    "For example, writing `x = [1,2,3,4]` and then `y=x`, makes `x` and `y` point to the same `[1,2,3,4]` in memory. \n",
    "\n"
   ]
  },
  {
   "cell_type": "code",
   "execution_count": 10,
   "metadata": {},
   "outputs": [
    {
     "name": "stdout",
     "output_type": "stream",
     "text": [
      "4594293864\n",
      "4594293864\n"
     ]
    }
   ],
   "source": [
    "x = [1,2,3,4]\n",
    "y = x\n",
    "print id(x)\n",
    "print id(y)"
   ]
  },
  {
   "cell_type": "markdown",
   "metadata": {},
   "source": [
    "This is the same as for the `int` example. Lists and ints deviate in their behavior when we change the list, e.g. `x[0]=999`, a new list is not created (whereas a new int would have been):\n",
    "\n"
   ]
  },
  {
   "cell_type": "code",
   "execution_count": 11,
   "metadata": {},
   "outputs": [
    {
     "name": "stdout",
     "output_type": "stream",
     "text": [
      "4594293864\n",
      "4594293864\n"
     ]
    }
   ],
   "source": [
    "x[0] = 999\n",
    "print id(x)\n",
    "print id(y)"
   ]
  },
  {
   "cell_type": "markdown",
   "metadata": {},
   "source": [
    "Instead, the old list is mutated and this can be seen by examining `x` or `y`:\n"
   ]
  },
  {
   "cell_type": "code",
   "execution_count": 12,
   "metadata": {},
   "outputs": [
    {
     "name": "stdout",
     "output_type": "stream",
     "text": [
      "[999, 2, 3, 4]\n",
      "[999, 2, 3, 4]\n"
     ]
    }
   ],
   "source": [
    "print x\n",
    "print y"
   ]
  },
  {
   "cell_type": "markdown",
   "metadata": {},
   "source": [
    "### Immutable vs Mutable objects as function arguments"
   ]
  },
  {
   "cell_type": "code",
   "execution_count": 13,
   "metadata": {
    "scrolled": true
   },
   "outputs": [
    {
     "name": "stdout",
     "output_type": "stream",
     "text": [
      "2\n",
      "1\n"
     ]
    }
   ],
   "source": [
    "# what will happen?\n",
    "def f(a):\n",
    "    a += a\n",
    "    return a\n",
    "\n",
    "x = 1\n",
    "print f(x)\n",
    "print x"
   ]
  },
  {
   "cell_type": "markdown",
   "metadata": {},
   "source": [
    "\n",
    "\n",
    "The value of `x` didn't change because `a` was a local variable inside the function.\n",
    "\n",
    "Let's try the same with lists:\n"
   ]
  },
  {
   "cell_type": "code",
   "execution_count": 14,
   "metadata": {},
   "outputs": [
    {
     "name": "stdout",
     "output_type": "stream",
     "text": [
      "[1, 2, 3, 4, 1, 2, 3, 4]\n",
      "[1, 2, 3, 4, 1, 2, 3, 4]\n"
     ]
    }
   ],
   "source": [
    "# what will happen?\n",
    "def f(a):\n",
    "    a += a\n",
    "    return a\n",
    "\n",
    "x = [1,2,3,4]\n",
    "print f(x)\n",
    "print x"
   ]
  },
  {
   "cell_type": "markdown",
   "metadata": {},
   "source": [
    "\n",
    "\n",
    "The value of `x` did change!!! This was because `x` was a list and lists are mutable. Which meant that when `x` was copied to `a` in the function, `a` now pointed to the exact same memory location as `x`, and therefore changing `a` amounts to changing `x`.\n",
    "\n",
    "This behavior can actually be a good thing: it means that we can manipulate a list inside a function. \n",
    "\n",
    "So what if `x = [1,2,3,4`] and we really want a copy of `[1,2,3,4]` that will be different? Easy:"
   ]
  },
  {
   "cell_type": "code",
   "execution_count": 15,
   "metadata": {},
   "outputs": [
    {
     "name": "stdout",
     "output_type": "stream",
     "text": [
      "[1, 2, 3, 4] [1, 2, 3, 4]\n",
      "[999, 2, 3, 4] [1, 2, 3, 4]\n"
     ]
    }
   ],
   "source": [
    "import copy\n",
    "x = [1,2,3,4]\n",
    "y = copy.copy(x)\n",
    "print x, y\n",
    "x[0] = 999\n",
    "print x, y"
   ]
  },
  {
   "cell_type": "markdown",
   "metadata": {},
   "source": [
    "**Mutable types:**\n",
    "\n",
    "* Lists\n",
    "* Tuples \n",
    "* Dictionaries \n",
    "* Numpy arrays\n",
    "\n",
    "**Immutable types:**\n",
    "\n",
    "* Integers, floats,\n",
    "* bools\n",
    "* Strings\n"
   ]
  },
  {
   "cell_type": "markdown",
   "metadata": {},
   "source": [
    "# Swapping rows"
   ]
  },
  {
   "cell_type": "markdown",
   "metadata": {},
   "source": [
    "Consider the following code, which is supposed to swap two rows of a matrix: "
   ]
  },
  {
   "cell_type": "code",
   "execution_count": 27,
   "metadata": {},
   "outputs": [
    {
     "name": "stdout",
     "output_type": "stream",
     "text": [
      "before row swap:\n",
      "[[1 2]\n",
      " [3 4]]\n",
      "after row swap:\n",
      "[[1 2]\n",
      " [1 2]]\n"
     ]
    }
   ],
   "source": [
    "import numpy as np \n",
    "\n",
    "Aug = np.array([[1,2],[3,4]])\n",
    "print 'before row swap:'\n",
    "print Aug \n",
    "\n",
    "dum = Aug[1,:]\n",
    "Aug[1,:] = Aug[0,:]\n",
    "Aug[0,:] = dum \n",
    "\n",
    "print 'after row swap:'\n",
    "print Aug"
   ]
  },
  {
   "cell_type": "markdown",
   "metadata": {},
   "source": [
    "Not what you expected! What went wrong? Use `print` to find out! "
   ]
  },
  {
   "cell_type": "code",
   "execution_count": 28,
   "metadata": {},
   "outputs": [
    {
     "name": "stdout",
     "output_type": "stream",
     "text": [
      "dum before changing Aug:\n",
      "[3 4]\n",
      "dum after changing Aug:\n",
      "[1 2]\n"
     ]
    }
   ],
   "source": [
    "Aug = np.array([[1,2],[3,4]])\n",
    "\n",
    "dum = Aug[1,:]\n",
    "print 'dum before changing Aug:'\n",
    "print dum\n",
    "Aug[1,:] = Aug[0,:]\n",
    "print 'dum after changing Aug:'\n",
    "print dum "
   ]
  },
  {
   "cell_type": "markdown",
   "metadata": {},
   "source": [
    "This is exactly what we saw earlier: since `dum` points to the same vector as `Aug[1,:]`, later changes to `Aug[1,:]` also change `dum`! What we need to do is to make `dum` an independent copy of `Aug[1,:]`. We can do this via `copy`: "
   ]
  },
  {
   "cell_type": "code",
   "execution_count": 29,
   "metadata": {},
   "outputs": [
    {
     "name": "stdout",
     "output_type": "stream",
     "text": [
      "Aug before row swap:\n",
      "[[1 2]\n",
      " [3 4]]\n",
      "Aug after row swap\n",
      "[[3 4]\n",
      " [1 2]]\n"
     ]
    }
   ],
   "source": [
    "Aug = np.array([[1,2],[3,4]])\n",
    "print 'Aug before row swap:'\n",
    "print Aug \n",
    "\n",
    "dum = Aug[1,:].copy() # notice copy here!\n",
    "Aug[1,:] = Aug[0,:]\n",
    "Aug[0,:] = dum \n",
    "\n",
    "print 'Aug after row swap'\n",
    "print Aug"
   ]
  },
  {
   "cell_type": "markdown",
   "metadata": {},
   "source": [
    "Great! We are now ready to implement Gaussian elimination...\n",
    "\n",
    "# Exercise 1: Gaussian Elimination with partial pivoting\n",
    "\n",
    "Modify your Gaussian elimination code for HW04, if necessary, so that it\n",
    "* carries out partial pivoting \n",
    "* works on an arbitrary $n \\times m$ matrix [not just $n \\times (n+1)$] \n",
    "\n",
    "[Hint: see Algo 6.2 of Text]"
   ]
  },
  {
   "cell_type": "code",
   "execution_count": 23,
   "metadata": {
    "collapsed": true,
    "scrolled": false
   },
   "outputs": [],
   "source": [
    "import numpy as np \n",
    "\n",
    "def number_rows(Aug):     \n",
    "    n, m = Aug.shape     \n",
    "    return n\n",
    "\n",
    "def swap(Aug, i, p):  \n",
    "    dum = Aug[p,:].copy()\n",
    "    Aug[p,:] = Aug[i,:]\n",
    "    Aug[i,:] = dum\n",
    "\n",
    "def eliminate_lower_column(Aug, i):\n",
    "    # your code here \n",
    "    pass \n",
    "\n",
    "def is_zero(x, epsilon=1e-10):    \n",
    "    return abs(x) < epsilon\n",
    "    \n",
    "def GEpp(Aug, TOL=1e-6):    \n",
    "    Aug = np.array(Aug, dtype=np.float32)\n",
    "    n = number_rows(Aug)\n",
    "    for i in range(n-1):\n",
    "        p = np.argmax(abs(Aug[i:,i])) + i\n",
    "        # your code here \n",
    "    pass "
   ]
  },
  {
   "cell_type": "markdown",
   "metadata": {},
   "source": [
    "## Exercise 2: Replacing $b$ with $I$\n",
    "\n",
    "Apply the code you wrote in Exercise 1 to an augmented matrix resulting from the concatenation of a matrix $A$ (specified below) and the identity matrix $I$: "
   ]
  },
  {
   "cell_type": "code",
   "execution_count": 24,
   "metadata": {
    "scrolled": true
   },
   "outputs": [
    {
     "name": "stdout",
     "output_type": "stream",
     "text": [
      "A = \n",
      "[[ 1  1 -1]\n",
      " [ 1  1  0]\n",
      " [-1  1  2]]\n",
      "\n",
      "I = \n",
      "[[ 1.  0.  0.]\n",
      " [ 0.  1.  0.]\n",
      " [ 0.  0.  1.]]\n",
      "\n",
      "Augmented matrix [A, I] = \n",
      "[[ 1.  1. -1.  1.  0.  0.]\n",
      " [ 1.  1.  0.  0.  1.  0.]\n",
      " [-1.  1.  2.  0.  0.  1.]]\n",
      "\n",
      "Gaussian Elimination with partial pivoting applied to [A, I] is:\n",
      "None\n"
     ]
    }
   ],
   "source": [
    "A = np.array([[1,1,-1],\n",
    "             [1,1,0],\n",
    "             [-1,1,2]])\n",
    "print 'A = '\n",
    "print A \n",
    "print\n",
    "\n",
    "I = np.identity(3)\n",
    "print 'I = '\n",
    "print I \n",
    "print\n",
    "\n",
    "AUG = np.concatenate((A, I), axis=1)\n",
    "print 'Augmented matrix [A, I] = '\n",
    "print AUG \n",
    "print\n",
    "\n",
    "print 'Gaussian Elimination with partial pivoting applied to [A, I] is:'\n",
    "print GEpp(AUG)"
   ]
  },
  {
   "cell_type": "markdown",
   "metadata": {},
   "source": [
    "Your code should return this matrix:\n",
    "\n",
    "```\n",
    "[[ 1.  1. -1.  1.  0.  0.]\n",
    " [ 0.  2.  1.  1.  0.  1.]\n",
    " [ 0.  0.  1. -1.  1.  0.]]\n",
    "```\n"
   ]
  },
  {
   "cell_type": "markdown",
   "metadata": {},
   "source": [
    "# Exercise 3: Eliminate last column\n",
    "\n",
    "Having zero'd the elements of $A$ that lie below the diagonal, we will now do so for those elements above the diagonal. We will begin, though, by just doing this for the last column of $A$. \n",
    "\n",
    "Write a new function `GJ_eliminate_last_column(Aug)` that calls `GEpp(Aug)` and then zeros the last column of $A$ using elementary row operations. It should return a matrix of the form $[U,M]$ where the last column of $U$ has only a one in its last entry, i.e. the last column of $U$ is the same as the last column of the identity matrix. \n",
    "\n",
    "Test your function on the augmented matrix constructed above. "
   ]
  },
  {
   "cell_type": "code",
   "execution_count": 26,
   "metadata": {},
   "outputs": [
    {
     "name": "stdout",
     "output_type": "stream",
     "text": [
      "GJ_eliminate_last_column:\n",
      "None\n"
     ]
    }
   ],
   "source": [
    "def scale(Aug, i): \n",
    "    Aug[i,:] /= Aug[i,i]\n",
    "    \n",
    "def eliminate_upper_column(Aug, i): \n",
    "    # your code here \n",
    "    pass \n",
    "\n",
    "def GJ_eliminate_last_column(Aug, TOL=1e-6):\n",
    "    # your code here \n",
    "    pass \n",
    "\n",
    "print 'GJ_eliminate_last_column:'\n",
    "print GJ_eliminate_last_column(AUG)"
   ]
  },
  {
   "cell_type": "markdown",
   "metadata": {},
   "source": [
    "Your code should return: \n",
    "```\n",
    "[[ 1.  1.  0.  0.  1.  0.]\n",
    " [ 0.  2.  0.  2. -1.  1.]\n",
    " [ 0.  0.  1. -1.  1.  0.]]\n",
    " ```"
   ]
  },
  {
   "cell_type": "markdown",
   "metadata": {},
   "source": [
    "# Exercise 4: Eliminate all columns\n",
    "\n",
    "Copy your `GJ_eliminate_last_column(Aug)` function to a new function `GJ(Aug)`.\n",
    "Now modify this function so that it returns a matrix of the form $[I,M]$ where $I$ is the identity matrix using only elementary row operations. Apply this to the same matrix as above.\n"
   ]
  },
  {
   "cell_type": "code",
   "execution_count": 27,
   "metadata": {},
   "outputs": [
    {
     "name": "stdout",
     "output_type": "stream",
     "text": [
      "GJ:\n",
      "None\n"
     ]
    }
   ],
   "source": [
    "def GJ(Aug, TOL=1e-6):\n",
    "    # your code here \n",
    "    pass \n",
    "print 'GJ:'\n",
    "print GJ(AUG)"
   ]
  },
  {
   "cell_type": "markdown",
   "metadata": {},
   "source": [
    "Your code should return \n",
    "```\n",
    "[[ 1.   0.   0.  -1.   1.5 -0.5]\n",
    " [ 0.   1.   0.   1.  -0.5  0.5]\n",
    " [ 0.   0.   1.  -1.   1.   0. ]]\n",
    " ```"
   ]
  },
  {
   "cell_type": "markdown",
   "metadata": {},
   "source": [
    "# Exercise 5: Fetch $M$\n",
    "\n",
    "Your function returns a matrix of the form $[I,M]$. Fetch $M$ and compute $AM$ and $MA$. What do you find?\n"
   ]
  },
  {
   "cell_type": "code",
   "execution_count": 30,
   "metadata": {},
   "outputs": [
    {
     "name": "stdout",
     "output_type": "stream",
     "text": [
      "A*M = \n",
      "M*A = \n"
     ]
    }
   ],
   "source": [
    "# your code here\n",
    "print 'A*M = '\n",
    "# your code here\n",
    "print 'M*A = '\n",
    "# your code here"
   ]
  },
  {
   "cell_type": "markdown",
   "metadata": {},
   "source": [
    "Congratulations! You have just implemented the Gauss-Jordan method for computing the inverse of a matrix. Well done! "
   ]
  },
  {
   "cell_type": "code",
   "execution_count": null,
   "metadata": {
    "collapsed": true
   },
   "outputs": [],
   "source": []
  }
 ],
 "metadata": {
  "kernelspec": {
   "display_name": "Python 2",
   "language": "python",
   "name": "python2"
  },
  "language_info": {
   "codemirror_mode": {
    "name": "ipython",
    "version": 2
   },
   "file_extension": ".py",
   "mimetype": "text/x-python",
   "name": "python",
   "nbconvert_exporter": "python",
   "pygments_lexer": "ipython2",
   "version": "2.7.14"
  }
 },
 "nbformat": 4,
 "nbformat_minor": 2
}
