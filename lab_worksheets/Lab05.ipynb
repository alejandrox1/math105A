{
 "cells": [
  {
   "cell_type": "markdown",
   "metadata": {},
   "source": [
    "We will consider forward substitution and an iteration scheme for linear systems."
   ]
  },
  {
   "cell_type": "markdown",
   "metadata": {},
   "source": [
    "# Exercise 1: Forward substitution\n",
    "\n",
    "Let $L$ be an $n\\times n$ lower triangular matrix with non-zero diagonal entries. We want to solve\n",
    "\n",
    "$$ Lx = b.$$\n",
    "\n",
    "More explicitly:\n",
    "\n",
    "$$\\left[\\begin{array}{cccccccc} l_{11} & 0 & 0 &0 & \\cdots & 0 \\\\ l_{21} & l_{22} & 0 & 0 & \\cdots & 0 \\\\ l_{31} & l_{32} & l_{33} & 0 & \\cdots & 0 \\\\ \\vdots & &&&& \\vdots \\\\ l_{n1} & l_{n2} & \\cdots && \\cdots & l_{nn}\\end{array}\\right] \\left[ \\begin{array}{c} x_1 \\\\ x_2 \\\\ \\vdots \\\\ \\vdots \\\\ x_n \\end{array} \\right] = \\left[ \\begin{array}{c} b_1 \\\\ b_2 \\\\ \\vdots \\\\ \\vdots \\\\ b_n \\end{array} \\right].$$\n",
    "\n",
    "This gives the set of equations\n",
    "\n",
    "$$ \\begin{array}{l} x_1 = b_1/l_{11}\\\\ x_2 = (b_2 - l_{21} x_1)/l_{22}\\\\ x_3 = (b_3 - l_{31} x_1 - l_{32} x_2)/l_{33}\\\\ \\vdots \\end{array} $$\n",
    "\n",
    "And in general\n",
    "\n",
    "$$ x_i = \\left( b_i - \\sum_{j=1}^{i-1} l_{ij} x_j \\right)/l_{ii}. $$\n",
    "\n",
    "### Question\n",
    "Write a function that implements the above algorithm.\n",
    "\n",
    "### Solution"
   ]
  },
  {
   "cell_type": "code",
   "execution_count": 1,
   "metadata": {
    "collapsed": true
   },
   "outputs": [],
   "source": [
    "import numpy as np \n",
    "\n",
    "def forward_substitution(L, b):\n",
    "    # your code here \n",
    "    pass"
   ]
  },
  {
   "cell_type": "markdown",
   "metadata": {},
   "source": [
    "### Question \n",
    "\n",
    "Test your algorithm on the following matrices. [Hint: you'll probably need `numpy.linalg.inv`]"
   ]
  },
  {
   "cell_type": "code",
   "execution_count": 2,
   "metadata": {},
   "outputs": [
    {
     "name": "stdout",
     "output_type": "stream",
     "text": [
      "[[ 0.12218855  0.          0.          0.          0.          0.          0.\n",
      "   0.          0.          0.        ]\n",
      " [ 0.84276927  0.27499014  0.          0.          0.          0.          0.\n",
      "   0.          0.          0.        ]\n",
      " [ 0.02014084  0.90003024  0.51712309  0.          0.          0.          0.\n",
      "   0.          0.          0.        ]\n",
      " [ 0.99577424  0.74580207  0.24735478  0.84504589  0.          0.          0.\n",
      "   0.          0.          0.        ]\n",
      " [ 0.0694568   0.31150159  0.01004078  0.74624155  0.79771804  0.          0.\n",
      "   0.          0.          0.        ]\n",
      " [ 0.30511818  0.28809813  0.0547089   0.3254238   0.53463079  0.625366    0.\n",
      "   0.          0.          0.        ]\n",
      " [ 0.53246696  0.3257752   0.83516626  0.13914769  0.28298432  0.46565792\n",
      "   0.71786591  0.          0.          0.        ]\n",
      " [ 0.73985626  0.74734355  0.59502587  0.43735031  0.58292222  0.34973916\n",
      "   0.68648961  0.16769072  0.          0.        ]\n",
      " [ 0.97892209  0.83261096  0.73011881  0.72828986  0.70143121  0.91936035\n",
      "   0.91905496  0.95639612  0.71301686  0.        ]\n",
      " [ 0.44860623  0.11960217  0.10969127  0.31886939  0.76612669  0.20275312\n",
      "   0.97040507  0.47668787  0.81009858  0.90615374]]\n"
     ]
    }
   ],
   "source": [
    "n = 10\n",
    "L = np.random.rand(n,n)\n",
    "b = np.random.rand(n,1)\n",
    "\n",
    "for i in range(n):\n",
    "    for j in range(i+1,n):\n",
    "        L[i,j] = 0.0\n",
    "print L"
   ]
  },
  {
   "cell_type": "markdown",
   "metadata": {},
   "source": [
    "### Solution"
   ]
  },
  {
   "cell_type": "code",
   "execution_count": 1,
   "metadata": {
    "collapsed": true
   },
   "outputs": [],
   "source": [
    "# your code here"
   ]
  },
  {
   "cell_type": "markdown",
   "metadata": {},
   "source": [
    "# Exercise 2: An iterative approach"
   ]
  },
  {
   "cell_type": "markdown",
   "metadata": {},
   "source": [
    "Create a matrix $A$:"
   ]
  },
  {
   "cell_type": "code",
   "execution_count": 4,
   "metadata": {},
   "outputs": [
    {
     "name": "stdout",
     "output_type": "stream",
     "text": [
      "[[  1.00000000e+00   1.00000000e-01   1.00000000e-02   1.00000000e-03]\n",
      " [ -2.00000000e+00   1.00000000e+00   1.00000000e-01   1.00000000e-02]\n",
      " [  3.00000000e+00  -2.00000000e+00   1.00000000e+00   1.00000000e-01]\n",
      " [ -4.00000000e+00   3.00000000e+00  -2.00000000e+00   1.00000000e+00]]\n"
     ]
    }
   ],
   "source": [
    "n = 4\n",
    "shape = (n,n)\n",
    "A = np.zeros(shape)\n",
    "for i in range(n):\n",
    "    for j in range(n):\n",
    "        dif = i-j\n",
    "        if i >= j: \n",
    "            A[i,j] = (-1)**dif*(dif+1)\n",
    "        else:\n",
    "            A[i,j] = (0.1)**(-dif)\n",
    "print A"
   ]
  },
  {
   "cell_type": "markdown",
   "metadata": {},
   "source": [
    "Let $U$ be a matrix that coincides with $A$ above the diagonal, but is zero on the diagonal and below:\n"
   ]
  },
  {
   "cell_type": "code",
   "execution_count": 5,
   "metadata": {},
   "outputs": [
    {
     "name": "stdout",
     "output_type": "stream",
     "text": [
      "[[ 0.     0.1    0.01   0.001]\n",
      " [ 0.     0.     0.1    0.01 ]\n",
      " [ 0.     0.     0.     0.1  ]\n",
      " [ 0.     0.     0.     0.   ]]\n"
     ]
    }
   ],
   "source": [
    "U = A.copy() # not U = A\n",
    "for i in range(n):\n",
    "    for j in range(n):\n",
    "        if i >= j: \n",
    "            U[i,j] = 0.0\n",
    "print U "
   ]
  },
  {
   "cell_type": "markdown",
   "metadata": {},
   "source": [
    "Similarly, let $L$ be a matrix that differs from $A$ only above the diagonal, where $L$ is zero:  "
   ]
  },
  {
   "cell_type": "code",
   "execution_count": 6,
   "metadata": {},
   "outputs": [
    {
     "name": "stdout",
     "output_type": "stream",
     "text": [
      "[[ 1.  0.  0.  0.]\n",
      " [-2.  1.  0.  0.]\n",
      " [ 3. -2.  1.  0.]\n",
      " [-4.  3. -2.  1.]]\n"
     ]
    }
   ],
   "source": [
    "L = A.copy() # not L = A\n",
    "for i in range(n):\n",
    "    for j in range(n):\n",
    "        if i < j: \n",
    "            L[i,j] = 0.0\n",
    "print L "
   ]
  },
  {
   "cell_type": "markdown",
   "metadata": {},
   "source": [
    "Then solving $Ax = b$ is equivalent to solving \n",
    "\n",
    "\\begin{equation} \n",
    "Lx = b - Ux.\n",
    "\\end{equation} \n",
    "\n",
    "Though the LHS is of the form of an equation amenable to forward substitution, the RHS is not: it depends on $x$ (instead of being constant). The key point is that the solution of $Lx = b - Ux$ can be viewed as the fixed point of the function \n",
    "\n",
    "\\begin{equation} \n",
    "g(x) = L^{-1} (b - Ux).\n",
    "\\end{equation} \n",
    "\n"
   ]
  },
  {
   "cell_type": "markdown",
   "metadata": {},
   "source": [
    "### Question \n",
    "\n",
    "How can the fixed-point method be combined with back-substitution to solve for $x$?\n",
    "\n"
   ]
  },
  {
   "cell_type": "markdown",
   "metadata": {},
   "source": [
    "### Solution \n",
    "Write your solution on a sheet of paper.\n"
   ]
  },
  {
   "cell_type": "markdown",
   "metadata": {},
   "source": [
    "### Question \n",
    "\n",
    "Implement your iterative algorithm in Python for a vector $b$ consisting entirely of ones and a starting $x$-value of all zeros. Test the solution so obtained."
   ]
  },
  {
   "cell_type": "markdown",
   "metadata": {},
   "source": [
    "### Solution"
   ]
  },
  {
   "cell_type": "code",
   "execution_count": 2,
   "metadata": {
    "collapsed": true
   },
   "outputs": [],
   "source": [
    "# your code here "
   ]
  },
  {
   "cell_type": "code",
   "execution_count": null,
   "metadata": {
    "collapsed": true
   },
   "outputs": [],
   "source": []
  }
 ],
 "metadata": {
  "kernelspec": {
   "display_name": "Python 3",
   "language": "python",
   "name": "python3"
  },
  "language_info": {
   "codemirror_mode": {
    "name": "ipython",
    "version": 3
   },
   "file_extension": ".py",
   "mimetype": "text/x-python",
   "name": "python",
   "nbconvert_exporter": "python",
   "pygments_lexer": "ipython3",
   "version": "3.6.1"
  }
 },
 "nbformat": 4,
 "nbformat_minor": 2
}
