{
 "cells": [
  {
   "cell_type": "markdown",
   "metadata": {},
   "source": [
    "We will consider forward substitution and an iteration scheme for linear systems."
   ]
  },
  {
   "cell_type": "markdown",
   "metadata": {},
   "source": [
    "# Exercise 1: Forward substitution\n",
    "\n",
    "Let $L$ be an $n\\times n$ lower triangular matrix with non-zero diagonal entries. We want to solve\n",
    "\n",
    "$$ Lx = b.$$\n",
    "\n",
    "More explicitly:\n",
    "\n",
    "$$\\left[\\begin{array}{cccccccc} l_{11} & 0 & 0 &0 & \\cdots & 0 \\\\ l_{21} & l_{22} & 0 & 0 & \\cdots & 0 \\\\ l_{31} & l_{32} & l_{33} & 0 & \\cdots & 0 \\\\ \\vdots & &&&& \\vdots \\\\ l_{n1} & l_{n2} & \\cdots && \\cdots & l_{nn}\\end{array}\\right] \\left[ \\begin{array}{c} x_1 \\\\ x_2 \\\\ \\vdots \\\\ \\vdots \\\\ x_n \\end{array} \\right] = \\left[ \\begin{array}{c} b_1 \\\\ b_2 \\\\ \\vdots \\\\ \\vdots \\\\ b_n \\end{array} \\right].$$\n",
    "\n",
    "This gives the set of equations\n",
    "\n",
    "$$ \\begin{array}{l} x_1 = b_1/l_{11}\\\\ x_2 = (b_2 - l_{21} x_1)/l_{22}\\\\ x_3 = (b_3 - l_{31} x_1 - l_{32} x_2)/l_{33}\\\\ \\vdots \\end{array} $$\n",
    "\n",
    "And in general\n",
    "\n",
    "$$ x_i = \\left( b_i - \\sum_{j=1}^{i-1} l_{ij} x_j \\right)/l_{ii}. $$\n",
    "\n",
    "### Question\n",
    "Write a function that implements the above algorithm.\n",
    "\n",
    "### Solution"
   ]
  },
  {
   "cell_type": "code",
   "execution_count": 1,
   "metadata": {
    "collapsed": true
   },
   "outputs": [],
   "source": [
    "import numpy as np \n",
    "\n",
    "def forward_substitution(L, b):\n",
    "    x = np.zeros_like(b)\n",
    "    for i in range(len(b)):\n",
    "        SUM = 0.0\n",
    "        for j in range(i):\n",
    "            SUM += L[i,j]*x[j]\n",
    "        x[i] = (b[i] - SUM)/L[i,i]\n",
    "    return x"
   ]
  },
  {
   "cell_type": "markdown",
   "metadata": {},
   "source": [
    "### Question \n",
    "\n",
    "Test your algorithm on the following matrices: "
   ]
  },
  {
   "cell_type": "code",
   "execution_count": 2,
   "metadata": {},
   "outputs": [
    {
     "name": "stdout",
     "output_type": "stream",
     "text": [
      "[[ 0.40915467  0.          0.          0.          0.          0.          0.\n",
      "   0.          0.          0.        ]\n",
      " [ 0.10130172  0.48043902  0.          0.          0.          0.          0.\n",
      "   0.          0.          0.        ]\n",
      " [ 0.46789344  0.94116663  0.38074796  0.          0.          0.          0.\n",
      "   0.          0.          0.        ]\n",
      " [ 0.29563007  0.30944301  0.282063    0.01313491  0.          0.          0.\n",
      "   0.          0.          0.        ]\n",
      " [ 0.6604978   0.63075808  0.27418114  0.70569672  0.69898751  0.          0.\n",
      "   0.          0.          0.        ]\n",
      " [ 0.61892999  0.25087098  0.23478928  0.49790787  0.68931452  0.87458669\n",
      "   0.          0.          0.          0.        ]\n",
      " [ 0.58968844  0.89777457  0.66088146  0.69225966  0.26067606  0.58300746\n",
      "   0.74994329  0.          0.          0.        ]\n",
      " [ 0.39780998  0.55716451  0.47033898  0.79959631  0.93517522  0.0175314\n",
      "   0.49384161  0.94624836  0.          0.        ]\n",
      " [ 0.94145894  0.30140266  0.758592    0.3721183   0.32502948  0.62500342\n",
      "   0.98286437  0.47550765  0.77630013  0.        ]\n",
      " [ 0.65122032  0.23394214  0.06498858  0.23264952  0.55235476  0.08551893\n",
      "   0.42508019  0.26025214  0.73697851  0.48843909]]\n"
     ]
    }
   ],
   "source": [
    "n = 10\n",
    "L = np.random.rand(n,n)\n",
    "b = np.random.rand(n,1)\n",
    "\n",
    "for i in range(n):\n",
    "    for j in range(i+1,n):\n",
    "        L[i,j] = 0.0\n",
    "print L"
   ]
  },
  {
   "cell_type": "markdown",
   "metadata": {},
   "source": [
    "### Solution"
   ]
  },
  {
   "cell_type": "code",
   "execution_count": 3,
   "metadata": {},
   "outputs": [
    {
     "data": {
      "text/plain": [
       "array([[  7.21644966e-15],\n",
       "       [ -1.11022302e-15],\n",
       "       [ -7.54951657e-15],\n",
       "       [ -1.42108547e-14],\n",
       "       [ -1.42108547e-14],\n",
       "       [  1.06581410e-14],\n",
       "       [ -3.55271368e-15],\n",
       "       [  2.48689958e-14],\n",
       "       [ -1.06581410e-14],\n",
       "       [  2.48689958e-14]])"
      ]
     },
     "execution_count": 3,
     "metadata": {},
     "output_type": "execute_result"
    }
   ],
   "source": [
    "L_inverse = np.linalg.inv(L)\n",
    "x = np.dot(L_inverse, b)\n",
    "x - forward_substitution(L, b)"
   ]
  },
  {
   "cell_type": "markdown",
   "metadata": {},
   "source": [
    "# Exercise 2: An iterative approach"
   ]
  },
  {
   "cell_type": "markdown",
   "metadata": {},
   "source": [
    "Create a matrix $A$:"
   ]
  },
  {
   "cell_type": "code",
   "execution_count": 4,
   "metadata": {},
   "outputs": [
    {
     "name": "stdout",
     "output_type": "stream",
     "text": [
      "[[  1.00000000e+00   1.00000000e-01   1.00000000e-02   1.00000000e-03]\n",
      " [ -2.00000000e+00   1.00000000e+00   1.00000000e-01   1.00000000e-02]\n",
      " [  3.00000000e+00  -2.00000000e+00   1.00000000e+00   1.00000000e-01]\n",
      " [ -4.00000000e+00   3.00000000e+00  -2.00000000e+00   1.00000000e+00]]\n"
     ]
    }
   ],
   "source": [
    "n = 4\n",
    "shape = (n,n)\n",
    "A = np.zeros(shape)\n",
    "for i in range(n):\n",
    "    for j in range(n):\n",
    "        dif = i-j\n",
    "        if i >= j: \n",
    "            A[i,j] = (-1)**dif*(dif+1)\n",
    "        else:\n",
    "            A[i,j] = (0.1)**(-dif)\n",
    "print A"
   ]
  },
  {
   "cell_type": "markdown",
   "metadata": {},
   "source": [
    "Let $U$ be a matrix that coincides with $A$ above the diagonal, but is zero on the diagonal and below:\n"
   ]
  },
  {
   "cell_type": "code",
   "execution_count": 5,
   "metadata": {},
   "outputs": [
    {
     "name": "stdout",
     "output_type": "stream",
     "text": [
      "[[ 0.     0.1    0.01   0.001]\n",
      " [ 0.     0.     0.1    0.01 ]\n",
      " [ 0.     0.     0.     0.1  ]\n",
      " [ 0.     0.     0.     0.   ]]\n"
     ]
    }
   ],
   "source": [
    "U = A.copy() # not U = A\n",
    "for i in range(n):\n",
    "    for j in range(n):\n",
    "        if i >= j: \n",
    "            U[i,j] = 0.0\n",
    "print U "
   ]
  },
  {
   "cell_type": "markdown",
   "metadata": {},
   "source": [
    "Similarly, let $L$ be a matrix that differs from $A$ only above the diagonal, where $L$ is zero:  "
   ]
  },
  {
   "cell_type": "code",
   "execution_count": 6,
   "metadata": {},
   "outputs": [
    {
     "name": "stdout",
     "output_type": "stream",
     "text": [
      "[[ 1.  0.  0.  0.]\n",
      " [-2.  1.  0.  0.]\n",
      " [ 3. -2.  1.  0.]\n",
      " [-4.  3. -2.  1.]]\n"
     ]
    }
   ],
   "source": [
    "L = A.copy() # not L = A\n",
    "for i in range(n):\n",
    "    for j in range(n):\n",
    "        if i < j: \n",
    "            L[i,j] = 0.0\n",
    "print L "
   ]
  },
  {
   "cell_type": "markdown",
   "metadata": {},
   "source": [
    "Then solving $Ax = b$ is equivalent to solving \n",
    "\n",
    "\\begin{equation} \n",
    "Lx = b - Ux.\n",
    "\\end{equation} \n",
    "\n",
    "Though the LHS is of the form of an equation amenable to forward substitution, the RHS is not: it depends on $x$ (instead of being constant). The key point is that the solution of $Lx = b - Ux$ can be viewed as the fixed point of the function \n",
    "\n",
    "\\begin{equation} \n",
    "g(x) = L^{-1} (b - Ux).\n",
    "\\end{equation} \n",
    "\n"
   ]
  },
  {
   "cell_type": "markdown",
   "metadata": {},
   "source": [
    "### Question \n",
    "\n",
    "Write down on a sheet of paper how the fixed-point method can be combined with back-substitution to solve for $x$. \n",
    "\n"
   ]
  },
  {
   "cell_type": "markdown",
   "metadata": {},
   "source": [
    "### Solution \n",
    "\n",
    "Consider the fixed-point method: \n",
    "\n",
    "\\begin{eqnarray} \n",
    "x_{n+1} = g(x_n). \n",
    "\\end{eqnarray}\n",
    "\n",
    "Multiplying across by $L^{-1}$, we get: \n",
    "\n",
    "\\begin{eqnarray} \n",
    "Lx_{n+1} = b - U x_n,\n",
    "\\end{eqnarray}\n",
    "\n",
    "i.e. the next term in the fixed-point sequence is obtained from the previous term by solving the system, \n",
    "\n",
    "\\begin{eqnarray} \n",
    "Lx_{n+1} = b_n,\n",
    "\\end{eqnarray}\n",
    "\n",
    "where $b_n = b - U x_n$. This we can do by forward substitution. \n"
   ]
  },
  {
   "cell_type": "markdown",
   "metadata": {},
   "source": [
    "### Question \n",
    "\n",
    "Implement your iterative algorithm in Python for a vector $b$ consisting entirely of ones and a starting $x$-value of all zeros. Test the solution so obtained."
   ]
  },
  {
   "cell_type": "markdown",
   "metadata": {},
   "source": [
    "### Solution"
   ]
  },
  {
   "cell_type": "code",
   "execution_count": 7,
   "metadata": {},
   "outputs": [
    {
     "name": "stdout",
     "output_type": "stream",
     "text": [
      "Ax - b:\n",
      "[[ -8.27116153e-14]\n",
      " [ -1.00031095e-13]\n",
      " [ -6.03961325e-14]\n",
      " [  0.00000000e+00]]\n",
      "\n"
     ]
    }
   ],
   "source": [
    "shape = (n,1)\n",
    "b = np.ones(shape)\n",
    "x = np.zeros_like(b)\n",
    "for i in range(30):\n",
    "    x = forward_substitution(L, b - np.dot(U,x))\n",
    "print 'Ax - b:'\n",
    "print np.dot(A, x) - b\n",
    "print "
   ]
  },
  {
   "cell_type": "code",
   "execution_count": null,
   "metadata": {
    "collapsed": true
   },
   "outputs": [],
   "source": []
  }
 ],
 "metadata": {
  "kernelspec": {
   "display_name": "Python 2",
   "language": "python",
   "name": "python2"
  },
  "language_info": {
   "codemirror_mode": {
    "name": "ipython",
    "version": 2
   },
   "file_extension": ".py",
   "mimetype": "text/x-python",
   "name": "python",
   "nbconvert_exporter": "python",
   "pygments_lexer": "ipython2",
   "version": "2.7.14"
  }
 },
 "nbformat": 4,
 "nbformat_minor": 2
}
