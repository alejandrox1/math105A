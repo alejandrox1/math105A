{
 "cells": [
  {
   "cell_type": "markdown",
   "metadata": {},
   "source": [
    "This lab focuses on constructing more and more complicated functions to handle tasks that need to be repeated."
   ]
  },
  {
   "cell_type": "markdown",
   "metadata": {},
   "source": [
    "# Approximating the exponential function\n",
    "\n",
    "Consider the Taylor series expansion for $e^x$ about the point $x=0$: \n",
    "\n",
    "$$e^x = \\sum_{n=0}^\\infty \\frac{x^n}{n!}, $$\n",
    "\n",
    "where $x>0$. If, in addition, $x < 1$, then successive terms of the series diminish in size, so that the partial sum \n",
    "\n",
    "$$ P_N(x) = \\sum_{n=0}^N \\frac{x^n}{n!} $$ \n",
    "\n",
    "represents a good approximation of $e^x$. \n",
    "Now Taylor's Theorem (Lecture 1) says: \n",
    "\n",
    "$$ e^x = P_N(x) + \\frac{e^{\\xi} x^{N+1}}{(N+1)!},$$\n",
    "\n",
    "where $0 < \\xi < x$. Since $x < 1$, we have that $\\xi < 1$, and \n",
    "\n",
    "$$ \\frac{e^{\\xi} x^{N+1}}{(N+1)!} < \\frac{e}{(N+1)!}.$$ \n",
    "\n",
    "This allows us to quantify the error we make when we truncate Taylor's series: \n",
    "\n",
    "$$ e^x - P_N(x)  \\leq \\frac{e}{(N+1)!} \\approx \\frac{1}{(N+1)!}. $$"
   ]
  },
  {
   "cell_type": "markdown",
   "metadata": {
    "collapsed": true
   },
   "source": [
    "# Exercise 1\n",
    "\n",
    "*Question*: Write a function `exp_unit_interval(x)` to compute the exponential function to an absolute accuracy of $10^{-6}$ for $0 \\leq x \\leq 1$.\n",
    "\n",
    "*Solution*:"
   ]
  },
  {
   "cell_type": "code",
   "execution_count": 3,
   "metadata": {},
   "outputs": [
    {
     "name": "stdout",
     "output_type": "stream",
     "text": [
      "None\n",
      "1.6487212707\n"
     ]
    }
   ],
   "source": [
    "def exp_unit_interval(x, absolute_accuracy=1e-6):\n",
    "    # your code here \n",
    "    pass \n",
    "    \n",
    "import numpy as np \n",
    "print exp_unit_interval(0.5)\n",
    "print np.exp(0.5)"
   ]
  },
  {
   "cell_type": "markdown",
   "metadata": {},
   "source": [
    "*Question*: Create a plot of the absolute error as a function of $x$ for a variety of $x$-values both less than and greater than 1. Use the `semilogy()` command from the `numpy` library to help with this visualzation.\n",
    "\n",
    "*Solution*:"
   ]
  },
  {
   "cell_type": "code",
   "execution_count": 4,
   "metadata": {},
   "outputs": [],
   "source": [
    "# ADVANCED NOTE: \n",
    "# It is bad practice to duplicate code; instead, put such code into a function\n",
    "# Since I will re-use the following plotting code later, I've put it into a function\n",
    "def error_plot(f, f_approx): \n",
    "    from matplotlib import pyplot as plt \n",
    "    %matplotlib inline \n",
    "\n",
    "    # your code here \n",
    "    \n",
    "    plt.gca().set_ylim([1e-13, 1e0])    \n",
    "    plt.ylabel('absolute error')\n",
    "    plt.xlabel('x')\n",
    "    \n",
    "# your code here "
   ]
  },
  {
   "cell_type": "markdown",
   "metadata": {},
   "source": [
    "# Exercise 2\n",
    "\n",
    "*Question*: Construct a function `exp_argument_reduce(y)` that computes the exponential function for any number $y > 0$ using `exp_unit_interval(x)`, where $0 < x < 1$ and $y = x z$ for some $z$. [Hint: Use the fact that $e^y = e^{xz} = (e^x)^z$. One simple approach is to choose $z$ to be of the form $2^m$ for some integer $m$.]\n",
    "\n",
    "*Solution*:"
   ]
  },
  {
   "cell_type": "code",
   "execution_count": 5,
   "metadata": {},
   "outputs": [
    {
     "name": "stdout",
     "output_type": "stream",
     "text": [
      "None\n",
      "7.38905609893\n"
     ]
    }
   ],
   "source": [
    "def exp_argument_reduce(y):\n",
    "    # your code here \n",
    "    pass \n",
    "\n",
    "print exp_argument_reduce(2)\n",
    "print np.exp(2)"
   ]
  },
  {
   "cell_type": "markdown",
   "metadata": {},
   "source": [
    "*Question*: Re-create your error plot from the previous exercise. \n",
    "You'll need to execute\n",
    "```\n",
    "exp_argument_reduce_vectorized = np.vectorize(exp_argument_reduce)\n",
    "```\n",
    "to allow the function `exp_argument_reduce` to deal with the fact that its argument is now a `numpy` array instead of just a single number.\n",
    "\n",
    "*Solution*:"
   ]
  },
  {
   "cell_type": "code",
   "execution_count": 6,
   "metadata": {},
   "outputs": [],
   "source": [
    "# your code here "
   ]
  },
  {
   "cell_type": "markdown",
   "metadata": {},
   "source": [
    "# Exercise 3\n",
    "\n",
    "Recall our bisection algorithm:"
   ]
  },
  {
   "cell_type": "code",
   "execution_count": 5,
   "metadata": {
    "collapsed": true
   },
   "outputs": [],
   "source": [
    "def different_sign(a, b):\n",
    "    return a * b < 0.0\n",
    "\n",
    "def bisection(func, low, high, n_max=100): \n",
    "    assert different_sign(func(low), func(high))\n",
    "    \n",
    "    for i in range(n_max):\n",
    "        midpoint = (low + high) / 2.0\n",
    "        if different_sign(func(low), func(midpoint)):\n",
    "            high = midpoint\n",
    "        else:\n",
    "            low = midpoint\n",
    "            \n",
    "    return midpoint\n"
   ]
  },
  {
   "cell_type": "markdown",
   "metadata": {},
   "source": [
    "*Question*: Write a function `log_bisection(x)` to compute $\\log(x)$ using your `exp_argument_reduce_vectorized` function and `bisection`. What challenges do you encounter?\n",
    "\n",
    "*Solution*:"
   ]
  },
  {
   "cell_type": "code",
   "execution_count": 8,
   "metadata": {},
   "outputs": [
    {
     "name": "stdout",
     "output_type": "stream",
     "text": [
      "None\n",
      "0.69314718056\n"
     ]
    }
   ],
   "source": [
    "def log_bisection(x, low=0, high=10):\n",
    "    # your code here \n",
    "    pass \n",
    "print log_bisection(2)\n",
    "print np.log(2)"
   ]
  }
 ],
 "metadata": {
  "kernelspec": {
   "display_name": "Python 2",
   "language": "python",
   "name": "python2"
  },
  "language_info": {
   "codemirror_mode": {
    "name": "ipython",
    "version": 2
   },
   "file_extension": ".py",
   "mimetype": "text/x-python",
   "name": "python",
   "nbconvert_exporter": "python",
   "pygments_lexer": "ipython2",
   "version": "2.7.14"
  }
 },
 "nbformat": 4,
 "nbformat_minor": 2
}
