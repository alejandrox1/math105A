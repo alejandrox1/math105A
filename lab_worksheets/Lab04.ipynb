{
 "cells": [
  {
   "cell_type": "markdown",
   "metadata": {},
   "source": [
    "This lab will be mostly focused on constructing loops inside of loops."
   ]
  },
  {
   "cell_type": "markdown",
   "metadata": {},
   "source": [
    "# Exercise 1: Summing matrix entries\n",
    "\n",
    "Oftentimes we want to generate a random matrix to test an algorithm. \n",
    "Here is how you generate an $n \\times m$ matrix with randomly chosen elements (lying between 0 and 1):"
   ]
  },
  {
   "cell_type": "code",
   "execution_count": 1,
   "metadata": {},
   "outputs": [
    {
     "data": {
      "text/plain": [
       "array([[ 0.42244471,  0.24864564,  0.59533135],\n",
       "       [ 0.22606616,  0.73560283,  0.11541708]])"
      ]
     },
     "execution_count": 1,
     "metadata": {},
     "output_type": "execute_result"
    }
   ],
   "source": [
    "import numpy as np \n",
    "number_rows = 2\n",
    "number_cols = 3\n",
    "np.random.rand(number_rows,number_cols)"
   ]
  },
  {
   "cell_type": "markdown",
   "metadata": {},
   "source": [
    "### Question\n",
    "Write a function that returns the sum of the elements of a random matrix of size $n\\times n$. The implementation should involve looping through the matrix' elements. "
   ]
  },
  {
   "cell_type": "markdown",
   "metadata": {},
   "source": [
    "### Solution"
   ]
  },
  {
   "cell_type": "code",
   "execution_count": 3,
   "metadata": {
    "collapsed": true
   },
   "outputs": [],
   "source": [
    "def sum_matrix(n): \n",
    "    # your code here \n",
    "    pass "
   ]
  },
  {
   "cell_type": "markdown",
   "metadata": {},
   "source": [
    "### Question\n",
    "Plot \n",
    "\n",
    "$$\\frac{1}{n^2} \\texttt{sum_matrix(n)}$$\n",
    "\n",
    "against $n$. What value does the function approach as $n$ approaches infinity? Why do you think it approaches that value? "
   ]
  },
  {
   "cell_type": "markdown",
   "metadata": {},
   "source": [
    "#### Hint \n",
    "You might want to feed a `numpy` array into `sum_matrix` and get back an array of the output values. You can do this, but you must first **vectorize** `sum_matrix`. The syntax is:"
   ]
  },
  {
   "cell_type": "code",
   "execution_count": 4,
   "metadata": {
    "collapsed": true
   },
   "outputs": [],
   "source": [
    "def f(): \n",
    "    pass \n",
    "f_vectorized = np.vectorize(f)"
   ]
  },
  {
   "cell_type": "markdown",
   "metadata": {},
   "source": [
    "#### Hint\n",
    "You may find it useful to be able to divide two `numpy` arrays element-wise. Here's an example doing that:"
   ]
  },
  {
   "cell_type": "code",
   "execution_count": 3,
   "metadata": {},
   "outputs": [
    {
     "name": "stdout",
     "output_type": "stream",
     "text": [
      "m =  [ 0.  1.  2.  3.]\n",
      "n =  [ 1.  2.  3.  4.]\n",
      "m/n =  [ 0.          0.5         0.66666667  0.75      ]\n"
     ]
    }
   ],
   "source": [
    "m = np.array(range(0,4), dtype=float) \n",
    "print 'm = ', m\n",
    "n = np.array(range(1,5), dtype=float) \n",
    "print 'n = ', n\n",
    "print 'm/n = ', m/n"
   ]
  },
  {
   "cell_type": "markdown",
   "metadata": {},
   "source": [
    "Notice that in the above code snippet, I chose to make the elements of the arrays `m` and `n` of type `float`. In Python 2, when both `m` and `n` are of an integer type, `m/n` will do integer arithmetic, i.e. return the quotient, which is not what we want. "
   ]
  },
  {
   "cell_type": "markdown",
   "metadata": {},
   "source": [
    "### Solution"
   ]
  },
  {
   "cell_type": "code",
   "execution_count": 2,
   "metadata": {},
   "outputs": [
    {
     "data": {
      "text/plain": [
       "Text(0.5,0,u'n')"
      ]
     },
     "execution_count": 2,
     "metadata": {},
     "output_type": "execute_result"
    },
    {
     "data": {
      "image/png": "[encoded data removed]",
      "text/plain": [
       "<matplotlib.figure.Figure at 0x1049dcb90>"
      ]
     },
     "metadata": {},
     "output_type": "display_data"
    }
   ],
   "source": [
    "from matplotlib import pyplot as plt \n",
    "%matplotlib inline \n",
    "\n",
    "# your code here \n",
    "\n",
    "plt.gca().set_ylim([0, 1])    \n",
    "plt.ylabel('normalized matrix sum')\n",
    "plt.xlabel('n')"
   ]
  },
  {
   "cell_type": "markdown",
   "metadata": {},
   "source": [
    "# Exercise 2: Vectorizing"
   ]
  },
  {
   "cell_type": "markdown",
   "metadata": {},
   "source": [
    "Python is much more efficient when you add two vectors instead of adding a large number of scalars. This is yet another example of vectorizing, allowing your code to run purely with vector operations. \n",
    "\n",
    "For example, the following will add the rows of matrix, without looping over its columns:"
   ]
  },
  {
   "cell_type": "code",
   "execution_count": 6,
   "metadata": {},
   "outputs": [
    {
     "name": "stdout",
     "output_type": "stream",
     "text": [
      "B: \n",
      "[[1 2]\n",
      " [3 4]]\n",
      "sum of rows: \n",
      "[4 6]\n"
     ]
    }
   ],
   "source": [
    "B = np.array([[1,2],[3,4]])\n",
    "print 'B: '\n",
    "print B \n",
    "print 'sum of rows: '\n",
    "print B[0,:] + B[1,:]"
   ]
  },
  {
   "cell_type": "markdown",
   "metadata": {},
   "source": [
    "### Question\n",
    "\n",
    "Implement a vectorized version of `sum_matrix`, called `sum_matrix_vecd`, in which you first sum all the rows of the matrix, constructing a vector, and then sum all the elements of the vector."
   ]
  },
  {
   "cell_type": "markdown",
   "metadata": {},
   "source": [
    "### Solution"
   ]
  },
  {
   "cell_type": "code",
   "execution_count": 4,
   "metadata": {
    "collapsed": true
   },
   "outputs": [],
   "source": [
    "def sum_matrix_vecd(n): \n",
    "    # your code here \n",
    "    pass "
   ]
  },
  {
   "cell_type": "markdown",
   "metadata": {},
   "source": [
    "### Question\n",
    "Examine the speed difference between your two implementations for summing matrix entries."
   ]
  },
  {
   "cell_type": "markdown",
   "metadata": {},
   "source": [
    "### Solution"
   ]
  },
  {
   "cell_type": "code",
   "execution_count": 5,
   "metadata": {},
   "outputs": [
    {
     "name": "stdout",
     "output_type": "stream",
     "text": [
      "time taken to execute sum_matrix =  None\n",
      "time taken to execute sum_matrix_vecd =  None\n"
     ]
    }
   ],
   "source": [
    "def time_function(f, x=100): \n",
    "    import time\n",
    "    # your code here \n",
    "    pass \n",
    "\n",
    "print 'time taken to execute sum_matrix = ', time_function(sum_matrix)\n",
    "print 'time taken to execute sum_matrix_vecd = ', time_function(sum_matrix_vecd)"
   ]
  },
  {
   "cell_type": "markdown",
   "metadata": {},
   "source": [
    "# Exercise 3: Triangular matrices\n",
    "\n",
    "### Question \n",
    "\n",
    "Write a function `upper_triangular` that takes a square matrix, zeros out entries to make it an upper-triangular matrix, and returns the  matrix."
   ]
  },
  {
   "cell_type": "markdown",
   "metadata": {},
   "source": [
    "### Solution"
   ]
  },
  {
   "cell_type": "code",
   "execution_count": 8,
   "metadata": {
    "collapsed": true
   },
   "outputs": [],
   "source": [
    "def upper_triangular(A):\n",
    "    number_rows, number_cols = A.shape\n",
    "    # your code here \n",
    "    pass  \n",
    "\n",
    "def test_upper_triangular(n): \n",
    "    import numpy as np\n",
    "    B = np.random.rand(n, n)\n",
    "    print B\n",
    "    print\n",
    "    print upper_triangular(B)"
   ]
  },
  {
   "cell_type": "code",
   "execution_count": 9,
   "metadata": {},
   "outputs": [
    {
     "name": "stdout",
     "output_type": "stream",
     "text": [
      "[[ 0.85159315  0.43175784]\n",
      " [ 0.3486838   0.22563287]]\n",
      "\n",
      "None\n"
     ]
    }
   ],
   "source": [
    "test_upper_triangular(2)"
   ]
  },
  {
   "cell_type": "code",
   "execution_count": 10,
   "metadata": {},
   "outputs": [
    {
     "name": "stdout",
     "output_type": "stream",
     "text": [
      "[[ 0.6785456   0.60299002  0.92107345  0.31712287]\n",
      " [ 0.44468331  0.81326786  0.72037212  0.83908244]\n",
      " [ 0.54178446  0.32068237  0.15570597  0.92717592]\n",
      " [ 0.48199131  0.35396423  0.12089459  0.95924335]]\n",
      "\n",
      "None\n"
     ]
    }
   ],
   "source": [
    "test_upper_triangular(4)"
   ]
  },
  {
   "cell_type": "code",
   "execution_count": null,
   "metadata": {
    "collapsed": true
   },
   "outputs": [],
   "source": []
  }
 ],
 "metadata": {
  "kernelspec": {
   "display_name": "Python 2",
   "language": "python",
   "name": "python2"
  },
  "language_info": {
   "codemirror_mode": {
    "name": "ipython",
    "version": 2
   },
   "file_extension": ".py",
   "mimetype": "text/x-python",
   "name": "python",
   "nbconvert_exporter": "python",
   "pygments_lexer": "ipython2",
   "version": "2.7.14"
  }
 },
 "nbformat": 4,
 "nbformat_minor": 2
}
